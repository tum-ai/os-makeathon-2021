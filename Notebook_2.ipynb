{
 "cells": [
  {
   "cell_type": "markdown",
   "metadata": {},
   "source": [
    "# **NLP-Notebook Contents**\n",
    "\n",
    "\n",
    "**1. How to extract information**<br>\n",
    "**2. How to classify**<br>\n",
    "**3. How to generate**"
   ]
  },
  {
   "cell_type": "markdown",
   "metadata": {},
   "source": [
    "# **1 - How to extract information**\n",
    "## 1.1 Text Summarization with Huggingface"
   ]
  },
  {
   "cell_type": "markdown",
   "metadata": {},
   "source": [
    "**In 1.1 we'll have a first look at some tools from Huggingface's transformers library. The best thing about this library: It's very (!) convenient. You can work with large and powerful models without having to write a lot of code, how great is that? But there's one thing you should keep in mind: Powerful models = Big models (in most cases), so make sure you have a couple 100MBs free on your hardware.** "
   ]
  },
  {
   "cell_type": "code",
   "execution_count": 27,
   "metadata": {
    "execution": {
     "iopub.execute_input": "2021-10-11T19:31:33.510242Z",
     "iopub.status.busy": "2021-10-11T19:31:33.508051Z",
     "iopub.status.idle": "2021-10-11T19:31:33.516268Z",
     "shell.execute_reply": "2021-10-11T19:31:33.515280Z",
     "shell.execute_reply.started": "2021-10-11T19:31:33.509707Z"
    }
   },
   "outputs": [],
   "source": [
    "# Import ML-tools\n",
    "from transformers import AutoModelWithLMHead, AutoTokenizer\n",
    "# Import UI-tools\n",
    "from IPython.display import display \n",
    "import ipywidgets as widgets \n",
    "from ipywidgets import interact, Layout "
   ]
  },
  {
   "cell_type": "code",
   "execution_count": 28,
   "metadata": {
    "execution": {
     "iopub.execute_input": "2021-10-11T18:34:03.763705Z",
     "iopub.status.busy": "2021-10-11T18:34:03.763205Z",
     "iopub.status.idle": "2021-10-11T18:34:42.783707Z",
     "shell.execute_reply": "2021-10-11T18:34:42.782826Z",
     "shell.execute_reply.started": "2021-10-11T18:34:03.763663Z"
    }
   },
   "outputs": [
    {
     "name": "stderr",
     "output_type": "stream",
     "text": [
      "/home/christoph/anaconda3/lib/python3.7/site-packages/transformers/models/auto/modeling_auto.py:664: FutureWarning: The class `AutoModelWithLMHead` is deprecated and will be removed in a future version. Please use `AutoModelForCausalLM` for causal language models, `AutoModelForMaskedLM` for masked language models and `AutoModelForSeq2SeqLM` for encoder-decoder models.\n",
      "  FutureWarning,\n"
     ]
    }
   ],
   "source": [
    "# Load pretrained models\n",
    "\n",
    "# Tokenizer: This thing processes your text into so-called tokens (~ words/phrases)\n",
    "tokenizer = AutoTokenizer.from_pretrained(\"mrm8488/t5-base-finetuned-summarize-news\")\n",
    "# Model: This thing does the actual work (summarize)\n",
    "model = AutoModelWithLMHead.from_pretrained(\"mrm8488/t5-base-finetuned-summarize-news\")\n",
    "\n",
    "# JFYI: This model here is a little under 900MB in size"
   ]
  },
  {
   "cell_type": "code",
   "execution_count": 29,
   "metadata": {
    "execution": {
     "iopub.execute_input": "2021-10-11T18:35:52.257253Z",
     "iopub.status.busy": "2021-10-11T18:35:52.256934Z",
     "iopub.status.idle": "2021-10-11T18:35:52.264272Z",
     "shell.execute_reply": "2021-10-11T18:35:52.263421Z",
     "shell.execute_reply.started": "2021-10-11T18:35:52.257224Z"
    }
   },
   "outputs": [],
   "source": [
    "# Nomen est omen! Here we take in text, tokenize it, and generate a summary\n",
    "def summarize(text, max_length=150):\n",
    "  input_ids = tokenizer.encode(text, return_tensors=\"pt\", add_special_tokens=True)\n",
    "  generated_ids = model.generate(input_ids=input_ids, num_beams=2, max_length=max_length,  repetition_penalty=2.5, length_penalty=1.0, early_stopping=True)\n",
    "  preds = [tokenizer.decode(g, skip_special_tokens=True, clean_up_tokenization_spaces=True) for g in generated_ids]\n",
    "  return preds[0]"
   ]
  },
  {
   "cell_type": "code",
   "execution_count": 30,
   "metadata": {
    "execution": {
     "iopub.execute_input": "2021-10-11T19:42:39.323162Z",
     "iopub.status.busy": "2021-10-11T19:42:39.322279Z",
     "iopub.status.idle": "2021-10-11T19:42:49.905364Z",
     "shell.execute_reply": "2021-10-11T19:42:49.904504Z",
     "shell.execute_reply.started": "2021-10-11T19:42:39.323096Z"
    }
   },
   "outputs": [
    {
     "name": "stdout",
     "output_type": "stream",
     "text": [
      "+++Summarized News+++\n"
     ]
    },
    {
     "data": {
      "text/plain": [
       "'smaller parties on Monday began what could be a monthslong bargaining process to form the next government, with smaller parties in a position to decide who will succeed Angela Merkel as chancellor. The SPD came first and the Greens scored strong gains. Meanwhile, the FDP is a pro-business group that has called for tax cuts and a smaller state. Notably, the next government will likely be broadly centrist, with many of the partners’ more radical or controversial proposals cancelling each other out. But the negotiations could take months.'"
      ]
     },
     "execution_count": 30,
     "metadata": {},
     "output_type": "execute_result"
    }
   ],
   "source": [
    "# An example we'll run trough our summary function\n",
    "news_to_be_summarized = \"BERLIN—Germany’s political parties on Monday began what could\\\n",
    "be a monthslong bargaining process to form the next government, with two smaller parties\\\n",
    "in a position to decide who will succeed Angela Merkel as chancellor.\\\n",
    "Sunday’s election marked a leftward shift for the country, with the center-left\\\n",
    "Social Democratic Party, or SPD, coming first and the Greens scoring strong gains.\\\n",
    "But together they don’t hold enough seats in parliament to form a government and \\\n",
    "would need to bring in the pro-market Free Democratic Party as a third partner, \\\n",
    "forcing them to dilute their agenda.\\\n",
    "Other constellations are arithmetically possible, some of them involving the \\\n",
    "defeated conservatives, complicating talks.\\\n",
    "Whatever the shape of the next government, it will likely be broadly centrist—like\\\n",
    "the Merkel-led left-right alliance that preceded it—because many of the partners’\\\n",
    "more radical or controversial proposals could cancel each other out.\\\n",
    "It is also likely to have a strong focus on measures to combat climate \\\n",
    "change, which all four parties highlighted in their campaigns and opinion polls \\\n",
    "show is the dominant concern for German voters. Such a focus could have far-reaching\\\n",
    "implications for an economy where manufacturing, especially car making, \\\n",
    "plays an outsize role.\\\n",
    "Yet the negotiations to get there could take months. And for the first time\\\n",
    "they will hinge on the Greens and the FDP, Germany’s new kingmakers. The two \\\n",
    "parties said on Sunday that they would talk to each other before entering \\\n",
    "negotiations with the bigger conservative bloc and the SPD.\\\n",
    "The center-left Greens stand for climate policies and social justice while the FDP \\\n",
    "is a pro-business group that has called for tax cuts and a smaller state. While \\\n",
    "they both qualify as centrist parties, their platforms have little overlap.\\\n",
    "Courting them are Olaf Scholz, the SPD candidate who secured a narrow victory \\\n",
    "with 25.7% of the vote, and Armin Laschet, the conservative candidate who \\\n",
    "delivered his party’s worst-ever result of 24.1%.\"\n",
    "\n",
    "# Let's see how well our summarizer does ...\n",
    "print(\"+++Summarized News+++\")\n",
    "summarize(news_to_be_summarized)"
   ]
  },
  {
   "cell_type": "markdown",
   "metadata": {},
   "source": [
    "**Looks quite good! Let's now try to integrate this summary-functionality into a small User Interface.**"
   ]
  },
  {
   "cell_type": "code",
   "execution_count": 31,
   "metadata": {
    "execution": {
     "iopub.execute_input": "2021-10-11T19:38:55.501896Z",
     "iopub.status.busy": "2021-10-11T19:38:55.501055Z",
     "iopub.status.idle": "2021-10-11T19:38:55.538265Z",
     "shell.execute_reply": "2021-10-11T19:38:55.537137Z",
     "shell.execute_reply.started": "2021-10-11T19:38:55.501855Z"
    }
   },
   "outputs": [
    {
     "data": {
      "application/vnd.jupyter.widget-view+json": {
       "model_id": "1ff327b4d5084e40a5177fca0c417044",
       "version_major": 2,
       "version_minor": 0
      },
      "text/plain": [
       "Text(value='', description='Input Text')"
      ]
     },
     "metadata": {},
     "output_type": "display_data"
    },
    {
     "data": {
      "application/vnd.jupyter.widget-view+json": {
       "model_id": "9b969842ebfc44f6bf6c67233b8f8aac",
       "version_major": 2,
       "version_minor": 0
      },
      "text/plain": [
       "Button(description='Summarize!', layout=Layout(width='200px'), style=ButtonStyle(button_color='lightblue'))"
      ]
     },
     "metadata": {},
     "output_type": "display_data"
    },
    {
     "data": {
      "application/vnd.jupyter.widget-view+json": {
       "model_id": "f104d92d86fe48d5b437024b3b21b073",
       "version_major": 2,
       "version_minor": 0
      },
      "text/plain": [
       "Text(value='', description='Summary')"
      ]
     },
     "metadata": {},
     "output_type": "display_data"
    }
   ],
   "source": [
    "# A small User Interface \n",
    "textbox1 = widgets.Text(description='Input Text');display(textbox1); \n",
    "button = widgets.Button(description='Summarize!', layout=Layout(width='200px')); \n",
    "button.style.button_color = 'lightblue';display(button); \n",
    "textbox2 = widgets.Text(description='Summary');display(textbox2); \n",
    "\n",
    "# Connect Widget to Summary function (jfyi: can take a few seconds to summarize)\n",
    "def on_button_clicked(sender): \n",
    "    input_text = textbox1.value\n",
    "    summary = summarize(input_text)\n",
    "    textbox2.value = summary\n",
    "    \n",
    "button.on_click(on_button_clicked)"
   ]
  },
  {
   "cell_type": "markdown",
   "metadata": {},
   "source": [
    "## 1.2 Semantic Analysis with Gensim"
   ]
  },
  {
   "cell_type": "markdown",
   "metadata": {},
   "source": [
    "**In this part of the notebook we'll take a text and generate a summary. Summarization? Again? Yes! But we'll generate a way cooler summary this time - a so-called \"topic map\".**"
   ]
  },
  {
   "cell_type": "code",
   "execution_count": 32,
   "metadata": {
    "execution": {
     "iopub.execute_input": "2021-10-11T19:15:48.639630Z",
     "iopub.status.busy": "2021-10-11T19:15:48.639314Z",
     "iopub.status.idle": "2021-10-11T19:15:48.647821Z",
     "shell.execute_reply": "2021-10-11T19:15:48.646923Z",
     "shell.execute_reply.started": "2021-10-11T19:15:48.639600Z"
    }
   },
   "outputs": [],
   "source": [
    "# Imports\n",
    "from __future__ import print_function\n",
    "import pyLDAvis\n",
    "import pyLDAvis.sklearn\n",
    "pyLDAvis.enable_notebook()\n",
    "import pandas as pd\n",
    "from sklearn.datasets import fetch_20newsgroups\n",
    "from sklearn.feature_extraction.text import CountVectorizer, TfidfVectorizer\n",
    "from sklearn.decomposition import LatentDirichletAllocation"
   ]
  },
  {
   "cell_type": "code",
   "execution_count": 33,
   "metadata": {
    "execution": {
     "iopub.execute_input": "2021-10-11T19:15:53.759270Z",
     "iopub.status.busy": "2021-10-11T19:15:53.758966Z",
     "iopub.status.idle": "2021-10-11T19:16:07.377241Z",
     "shell.execute_reply": "2021-10-11T19:16:07.376325Z",
     "shell.execute_reply.started": "2021-10-11T19:15:53.759227Z"
    }
   },
   "outputs": [
    {
     "name": "stdout",
     "output_type": "stream",
     "text": [
      "11314\n"
     ]
    }
   ],
   "source": [
    "# Load data\n",
    "newsgroups = fetch_20newsgroups(remove=('headers', 'footers', 'quotes'))\n",
    "docs_raw = newsgroups.data\n",
    "print(len(docs_raw))"
   ]
  },
  {
   "cell_type": "code",
   "execution_count": 34,
   "metadata": {
    "execution": {
     "iopub.execute_input": "2021-10-11T19:16:07.378908Z",
     "iopub.status.busy": "2021-10-11T19:16:07.378682Z",
     "iopub.status.idle": "2021-10-11T19:16:11.531858Z",
     "shell.execute_reply": "2021-10-11T19:16:11.530935Z",
     "shell.execute_reply.started": "2021-10-11T19:16:07.378881Z"
    }
   },
   "outputs": [],
   "source": [
    "# Process text (e.g., remove stopwords)\n",
    "tf_vectorizer = CountVectorizer(strip_accents = 'unicode',\n",
    "                                stop_words = 'english',\n",
    "                                lowercase = True,\n",
    "                                token_pattern = r'\\b[a-zA-Z]{3,}\\b',\n",
    "                                max_df = 0.5, \n",
    "                                min_df = 10)\n",
    "dtm_tf = tf_vectorizer.fit_transform(docs_raw)\n",
    "tfidf_vectorizer = TfidfVectorizer(**tf_vectorizer.get_params())\n",
    "dtm_tfidf = tfidf_vectorizer.fit_transform(docs_raw)"
   ]
  },
  {
   "cell_type": "code",
   "execution_count": 35,
   "metadata": {
    "execution": {
     "iopub.execute_input": "2021-10-11T19:16:11.534111Z",
     "iopub.status.busy": "2021-10-11T19:16:11.533776Z",
     "iopub.status.idle": "2021-10-11T19:19:00.150227Z",
     "shell.execute_reply": "2021-10-11T19:19:00.149363Z",
     "shell.execute_reply.started": "2021-10-11T19:16:11.534066Z"
    }
   },
   "outputs": [
    {
     "name": "stderr",
     "output_type": "stream",
     "text": [
      "/home/christoph/anaconda3/lib/python3.7/site-packages/sklearn/decomposition/online_lda.py:536: DeprecationWarning: The default value for 'learning_method' will be changed from 'online' to 'batch' in the release 0.20. This warning was introduced in 0.18.\n",
      "  DeprecationWarning)\n",
      "/home/christoph/anaconda3/lib/python3.7/site-packages/sklearn/decomposition/online_lda.py:536: DeprecationWarning: The default value for 'learning_method' will be changed from 'online' to 'batch' in the release 0.20. This warning was introduced in 0.18.\n",
      "  DeprecationWarning)\n"
     ]
    },
    {
     "data": {
      "text/plain": [
       "LatentDirichletAllocation(batch_size=128, doc_topic_prior=None,\n",
       "             evaluate_every=-1, learning_decay=0.7, learning_method=None,\n",
       "             learning_offset=10.0, max_doc_update_iter=100, max_iter=10,\n",
       "             mean_change_tol=0.001, n_components=20, n_jobs=1,\n",
       "             n_topics=None, perp_tol=0.1, random_state=0,\n",
       "             topic_word_prior=None, total_samples=1000000.0, verbose=0)"
      ]
     },
     "execution_count": 35,
     "metadata": {},
     "output_type": "execute_result"
    }
   ],
   "source": [
    "# for TF DTM\n",
    "lda_tf = LatentDirichletAllocation(n_components=20, random_state=0)\n",
    "lda_tf.fit(dtm_tf)\n",
    "# for TFIDF DTM\n",
    "lda_tfidf = LatentDirichletAllocation(n_components=20, random_state=0)\n",
    "lda_tfidf.fit(dtm_tfidf)"
   ]
  },
  {
   "cell_type": "code",
   "execution_count": 36,
   "metadata": {
    "execution": {
     "iopub.execute_input": "2021-10-11T19:19:00.151959Z",
     "iopub.status.busy": "2021-10-11T19:19:00.151721Z",
     "iopub.status.idle": "2021-10-11T19:19:11.411101Z",
     "shell.execute_reply": "2021-10-11T19:19:11.410367Z",
     "shell.execute_reply.started": "2021-10-11T19:19:00.151931Z"
    },
    "scrolled": true
   },
   "outputs": [
    {
     "name": "stderr",
     "output_type": "stream",
     "text": [
      "/home/christoph/anaconda3/lib/python3.7/site-packages/pyLDAvis/_prepare.py:248: FutureWarning: In a future version of pandas all arguments of DataFrame.drop except for the argument 'labels' will be keyword-only\n",
      "  by='saliency', ascending=False).head(R).drop('saliency', 1)\n"
     ]
    },
    {
     "data": {
      "text/html": [
       "\n",
       "<link rel=\"stylesheet\" type=\"text/css\" href=\"https://cdn.jsdelivr.net/gh/bmabey/pyLDAvis@3.2.2/pyLDAvis/js/ldavis.v1.0.0.css\">\n",
       "\n",
       "\n",
       "<div id=\"ldavis_el113991399033920904489287742776\"></div>\n",
       "<script type=\"text/javascript\">\n",
       "\n",
       "var ldavis_el113991399033920904489287742776_data = {\"mdsDat\": {\"x\": [0.09287922345760896, 0.20242954043952346, 0.22704821365064848, 0.07189071506908225, 0.15231199948136404, 0.09678804014876947, -0.06491157759217814, 0.12004833099619483, 0.19176503409808027, 0.14359236818004864, -0.1649203083434583, 0.1639896708500989, 0.010707102384653751, -0.15398069523325175, -0.18309668131940735, -0.13295579954816747, -0.20124803242233888, -0.19965165249445543, -0.1908799004755032, -0.18180559132731205], \"y\": [-0.13988618001392145, 0.013780279973316299, 0.05018390070084505, -0.04710170868597763, 0.006002689444643172, 0.10756614505492929, -0.10731845493104793, -0.08333595687131445, 0.09133207657619792, 0.04581221029919586, -0.22170541035932212, 0.025877296801542663, -0.14638408979708648, 0.2489366916483745, 0.005075429263004886, -0.06971253966975524, 0.054602724817169386, -0.1615643923781561, 0.12096534838873174, 0.20687393973862936], \"topics\": [1, 2, 3, 4, 5, 6, 7, 8, 9, 10, 11, 12, 13, 14, 15, 16, 17, 18, 19, 20], \"cluster\": [1, 1, 1, 1, 1, 1, 1, 1, 1, 1, 1, 1, 1, 1, 1, 1, 1, 1, 1, 1], \"Freq\": [10.790530312828462, 8.337527612185013, 8.214927058285799, 7.852151807095846, 7.51810079765044, 6.842131271030782, 6.526612396441614, 6.466788223287838, 6.4613696944223005, 5.37895834886947, 4.780635280903597, 3.873271282390893, 3.2854023950919498, 2.7487334638515875, 2.696937739990106, 2.5064676958845626, 2.2107326227782576, 1.8380252229904772, 0.8929916694012876, 0.777705104619719]}, \"tinfo\": {\"Term\": [\"max\", \"edu\", \"god\", \"com\", \"file\", \"drive\", \"mail\", \"windows\", \"know\", \"list\", \"space\", \"don\", \"data\", \"book\", \"people\", \"available\", \"software\", \"send\", \"program\", \"image\", \"just\", \"files\", \"jesus\", \"think\", \"dos\", \"government\", \"thanks\", \"scsi\", \"team\", \"card\", \"chip\", \"keys\", \"serial\", \"des\", \"chips\", \"bits\", \"ripem\", \"rsa\", \"postscript\", \"bytes\", \"min\", \"connect\", \"button\", \"nist\", \"maximum\", \"protocol\", \"monitors\", \"desktop\", \"quadra\", \"intel\", \"sony\", \"ford\", \"sheet\", \"warranty\", \"canon\", \"plaintext\", \"acquired\", \"apps\", \"byte\", \"crash\", \"appreciated\", \"mode\", \"keyboard\", \"color\", \"mac\", \"hardware\", \"apple\", \"port\", \"machines\", \"advance\", \"machine\", \"digital\", \"installed\", \"screen\", \"key\", \"computer\", \"bit\", \"thanks\", \"manager\", \"running\", \"using\", \"copy\", \"problem\", \"use\", \"window\", \"help\", \"mail\", \"does\", \"card\", \"need\", \"run\", \"know\", \"used\", \"like\", \"work\", \"number\", \"data\", \"want\", \"just\", \"don\", \"time\", \"windows\", \"gun\", \"laws\", \"guns\", \"firearms\", \"weapon\", \"islam\", \"dangerous\", \"militia\", \"firearm\", \"aids\", \"sex\", \"conditions\", \"islamic\", \"sexual\", \"gay\", \"amp\", \"handgun\", \"satan\", \"iran\", \"violent\", \"duty\", \"nra\", \"secular\", \"progress\", \"loop\", \"handguns\", \"homicide\", \"rkba\", \"apparent\", \"campaign\", \"self\", \"funny\", \"action\", \"crime\", \"converter\", \"semi\", \"weapons\", \"constitution\", \"person\", \"bear\", \"certainly\", \"evidence\", \"people\", \"control\", \"state\", \"right\", \"rights\", \"fact\", \"law\", \"carry\", \"idea\", \"means\", \"believe\", \"point\", \"yes\", \"claim\", \"don\", \"make\", \"case\", \"doesn\", \"does\", \"problem\", \"use\", \"think\", \"say\", \"wasn\", \"bunch\", \"believed\", \"weekend\", \"captain\", \"lights\", \"awful\", \"wisdom\", \"sabres\", \"oilers\", \"beautiful\", \"seats\", \"dogs\", \"opponent\", \"hadn\", \"heck\", \"assert\", \"steal\", \"figured\", \"judaism\", \"afternoon\", \"walls\", \"powerbook\", \"correction\", \"idiot\", \"spell\", \"bringing\", \"gathered\", \"rocks\", \"titles\", \"afraid\", \"heard\", \"taught\", \"bed\", \"told\", \"went\", \"didn\", \"morning\", \"saw\", \"know\", \"happened\", \"came\", \"said\", \"gold\", \"going\", \"really\", \"just\", \"knew\", \"tell\", \"thing\", \"did\", \"think\", \"come\", \"things\", \"got\", \"don\", \"like\", \"time\", \"started\", \"maybe\", \"later\", \"people\", \"say\", \"look\", \"good\", \"let\", \"right\", \"lot\", \"way\", \"day\", \"believe\", \"air\", \"tape\", \"station\", \"block\", \"circuit\", \"panel\", \"fuel\", \"tank\", \"motor\", \"electronics\", \"battery\", \"rear\", \"wires\", \"tires\", \"dual\", \"membership\", \"frequency\", \"module\", \"band\", \"mirror\", \"reduced\", \"outlets\", \"gear\", \"analog\", \"receiver\", \"propulsion\", \"engines\", \"aluminum\", \"dallas\", \"engine\", \"supply\", \"car\", \"wire\", \"cars\", \"texas\", \"ground\", \"miles\", \"black\", \"frame\", \"damage\", \"option\", \"power\", \"inside\", \"equipment\", \"oil\", \"driving\", \"door\", \"sold\", \"low\", \"road\", \"speed\", \"light\", \"radio\", \"excellent\", \"high\", \"used\", \"new\", \"small\", \"street\", \"good\", \"like\", \"current\", \"time\", \"large\", \"use\", \"work\", \"just\", \"end\", \"left\", \"encryption\", \"privacy\", \"court\", \"clinton\", \"enforcement\", \"tax\", \"jobs\", \"escrow\", \"amendment\", \"illegal\", \"cryptography\", \"proposal\", \"crypto\", \"agents\", \"eff\", \"senate\", \"nsa\", \"funds\", \"talked\", \"taxes\", \"secure\", \"paying\", \"warrant\", \"economy\", \"wiretap\", \"attorney\", \"fund\", \"conversation\", \"senator\", \"spending\", \"clipper\", \"president\", \"private\", \"secret\", \"insurance\", \"congress\", \"federal\", \"security\", \"government\", \"administration\", \"legal\", \"agencies\", \"public\", \"business\", \"money\", \"protect\", \"law\", \"pay\", \"house\", \"people\", \"make\", \"going\", \"new\", \"don\", \"think\", \"key\", \"want\", \"just\", \"armenian\", \"war\", \"armenians\", \"turkish\", \"israeli\", \"turkey\", \"turks\", \"armenia\", \"arab\", \"soldiers\", \"genocide\", \"trial\", \"azerbaijan\", \"nazi\", \"villages\", \"azerbaijani\", \"arabs\", \"troops\", \"greece\", \"sumgait\", \"civilians\", \"daughter\", \"nazis\", \"hitler\", \"republic\", \"argic\", \"palestinian\", \"ottoman\", \"lebanese\", \"serdar\", \"israel\", \"russia\", \"killed\", \"army\", \"island\", \"russian\", \"jews\", \"germany\", \"peace\", \"soviet\", \"greek\", \"muslim\", \"women\", \"land\", \"population\", \"million\", \"children\", \"said\", \"people\", \"military\", \"press\", \"government\", \"history\", \"world\", \"jewish\", \"years\", \"did\", \"nasa\", \"launch\", \"satellite\", \"orbit\", \"moon\", \"shuttle\", \"mission\", \"lunar\", \"institute\", \"flight\", \"neutral\", \"rocket\", \"spacecraft\", \"mars\", \"newsletter\", \"voltage\", \"probe\", \"satellites\", \"professor\", \"missions\", \"schedule\", \"planetary\", \"launched\", \"orbital\", \"materials\", \"circuits\", \"astronomy\", \"educational\", \"centers\", \"laboratory\", \"scientific\", \"space\", \"research\", \"science\", \"center\", \"health\", \"energy\", \"surface\", \"university\", \"earth\", \"journal\", \"development\", \"solar\", \"april\", \"national\", \"project\", \"information\", \"sci\", \"technology\", \"program\", \"data\", \"medical\", \"general\", \"new\", \"year\", \"years\", \"high\", \"water\", \"hot\", \"nuclear\", \"entirely\", \"examples\", \"canadian\", \"utility\", \"focus\", \"ensure\", \"remarks\", \"holes\", \"bomb\", \"cool\", \"cycle\", \"pure\", \"tyre\", \"sad\", \"contacts\", \"proceedings\", \"fish\", \"cooling\", \"pascal\", \"ass\", \"river\", \"observation\", \"darren\", \"managers\", \"ini\", \"risks\", \"presentation\", \"remark\", \"heat\", \"topics\", \"aspects\", \"belief\", \"familiar\", \"discussion\", \"groups\", \"alt\", \"lack\", \"specific\", \"explain\", \"view\", \"basically\", \"posts\", \"group\", \"newsgroup\", \"tend\", \"intended\", \"reasons\", \"exactly\", \"certain\", \"posting\", \"beliefs\", \"correct\", \"work\", \"point\", \"personal\", \"question\", \"means\", \"read\", \"want\", \"address\", \"post\", \"possible\", \"run\", \"course\", \"use\", \"people\", \"need\", \"think\", \"does\", \"don\", \"used\", \"mean\", \"game\", \"teams\", \"baseball\", \"playing\", \"disease\", \"patients\", \"fans\", \"ball\", \"humans\", \"flyers\", \"cancer\", \"frank\", \"winning\", \"puck\", \"career\", \"coach\", \"roger\", \"islanders\", \"scored\", \"homosexual\", \"winner\", \"blues\", \"homosexuality\", \"pitching\", \"pens\", \"homosexuals\", \"tie\", \"scores\", \"caps\", \"wins\", \"win\", \"average\", \"pick\", \"fan\", \"year\", \"flames\", \"better\", \"hit\", \"round\", \"good\", \"runs\", \"bad\", \"home\", \"think\", \"best\", \"games\", \"just\", \"don\", \"like\", \"time\", \"got\", \"years\", \"team\", \"great\", \"sure\", \"thought\", \"right\", \"did\", \"make\", \"way\", \"really\", \"doesn\", \"won\", \"jesus\", \"bible\", \"christian\", \"church\", \"faith\", \"christians\", \"christ\", \"god\", \"atheism\", \"christianity\", \"atheists\", \"font\", \"spirit\", \"atheist\", \"catholic\", \"scripture\", \"religions\", \"doctrine\", \"adam\", \"biblical\", \"pope\", \"revelation\", \"chapter\", \"divine\", \"worship\", \"gods\", \"resurrection\", \"salvation\", \"testament\", \"gospel\", \"lord\", \"sin\", \"religion\", \"matthew\", \"heaven\", \"eternal\", \"holy\", \"religious\", \"existence\", \"exists\", \"truth\", \"word\", \"hell\", \"believe\", \"life\", \"does\", \"true\", \"man\", \"say\", \"world\", \"john\", \"people\", \"exist\", \"way\", \"files\", \"format\", \"mit\", \"motif\", \"directory\", \"widget\", \"tar\", \"export\", \"lib\", \"contrib\", \"char\", \"zip\", \"xlib\", \"usr\", \"widgets\", \"printf\", \"clients\", \"tests\", \"lcs\", \"libraries\", \"projects\", \"henrik\", \"compile\", \"binaries\", \"binary\", \"platforms\", \"anonymous\", \"openwindows\", \"tiff\", \"msdos\", \"file\", \"ftp\", \"server\", \"sgi\", \"pub\", \"unix\", \"xterm\", \"string\", \"faq\", \"int\", \"resource\", \"archive\", \"program\", \"available\", \"version\", \"user\", \"sun\", \"application\", \"include\", \"sites\", \"display\", \"request\", \"code\", \"source\", \"information\", \"set\", \"info\", \"programs\", \"window\", \"based\", \"edu\", \"hear\", \"father\", \"die\", \"doctor\", \"msg\", \"wiring\", \"myers\", \"kids\", \"excuse\", \"relevant\", \"music\", \"learned\", \"marriage\", \"helmet\", \"capacity\", \"married\", \"sub\", \"fat\", \"diet\", \"symptoms\", \"senses\", \"eating\", \"strip\", \"taste\", \"verse\", \"cylinders\", \"syndrome\", \"insert\", \"cure\", \"foods\", \"experienced\", \"eat\", \"food\", \"treatment\", \"blood\", \"son\", \"sick\", \"dog\", \"doctors\", \"face\", \"hours\", \"body\", \"live\", \"family\", \"help\", \"led\", \"cause\", \"don\", \"break\", \"couple\", \"sure\", \"ask\", \"want\", \"course\", \"sort\", \"day\", \"like\", \"good\", \"years\", \"doesn\", \"ago\", \"people\", \"know\", \"little\", \"things\", \"stream\", \"contest\", \"instructions\", \"sequence\", \"guidelines\", \"superior\", \"commonly\", \"charles\", \"pem\", \"der\", \"strings\", \"checks\", \"balls\", \"gfx\", \"cds\", \"optical\", \"respectively\", \"curt\", \"parameter\", \"segment\", \"deletion\", \"atomic\", \"skip\", \"explosive\", \"applying\", \"fake\", \"measurement\", \"obtaining\", \"allocated\", \"seeds\", \"argc\", \"rules\", \"morality\", \"entry\", \"shared\", \"value\", \"objective\", \"defined\", \"entries\", \"section\", \"output\", \"values\", \"usage\", \"event\", \"error\", \"judges\", \"description\", \"process\", \"tries\", \"build\", \"title\", \"count\", \"example\", \"cross\", \"return\", \"argument\", \"given\", \"function\", \"following\", \"number\", \"article\", \"note\", \"line\", \"source\", \"questions\", \"used\", \"case\", \"read\", \"league\", \"chicago\", \"pts\", \"nhl\", \"san\", \"pittsburgh\", \"detroit\", \"philadelphia\", \"jose\", \"montreal\", \"francisco\", \"louis\", \"minnesota\", \"leafs\", \"cubs\", \"buffalo\", \"calgary\", \"bell\", \"braves\", \"phi\", \"jersey\", \"hartford\", \"winnipeg\", \"patrick\", \"playoff\", \"jets\", \"har\", \"lemieux\", \"scorer\", \"atlanta\", \"hockey\", \"season\", \"toronto\", \"boston\", \"rangers\", \"los\", \"angeles\", \"scoring\", \"team\", \"cup\", \"play\", \"division\", \"goal\", \"period\", \"games\", \"players\", \"ice\", \"player\", \"new\", \"john\", \"york\", \"power\", \"washington\", \"city\", \"year\", \"second\", \"com\", \"bike\", \"comp\", \"dod\", \"andrew\", \"org\", \"rec\", \"uunet\", \"installation\", \"toolkit\", \"bmw\", \"rider\", \"kit\", \"cmu\", \"uucp\", \"keith\", \"programmer\", \"compuserve\", \"tire\", \"netcom\", \"radius\", \"suck\", \"courses\", \"compiler\", \"imake\", \"paradox\", \"nick\", \"borland\", \"carl\", \"uni\", \"apr\", \"motorcycle\", \"edu\", \"riding\", \"library\", \"gmt\", \"misc\", \"optional\", \"newsgroups\", \"gov\", \"internet\", \"contact\", \"david\", \"host\", \"net\", \"mail\", \"subject\", \"michael\", \"ibm\", \"mark\", \"define\", \"news\", \"university\", \"sale\", \"shipping\", \"vga\", \"disks\", \"shell\", \"upgrade\", \"bbs\", \"amiga\", \"turbo\", \"ati\", \"diamond\", \"manuals\", \"tube\", \"svga\", \"norton\", \"vendors\", \"stealth\", \"adl\", \"switzerland\", \"config\", \"viewer\", \"dos\", \"tobacco\", \"atf\", \"viewing\", \"alcohol\", \"terminals\", \"obo\", \"bmp\", \"utilities\", \"bus\", \"microsoft\", \"drivers\", \"vesa\", \"offer\", \"driver\", \"monitor\", \"windows\", \"sys\", \"video\", \"price\", \"brand\", \"manual\", \"memory\", \"condition\", \"cards\", \"sell\", \"plus\", \"support\", \"interested\", \"asking\", \"best\", \"new\", \"version\", \"includes\", \"email\", \"local\", \"max\", \"scsi\", \"bhj\", \"giz\", \"controller\", \"ide\", \"bxn\", \"motherboard\", \"isa\", \"cache\", \"simms\", \"qax\", \"routines\", \"slot\", \"sec\", \"fpu\", \"nrhj\", \"bank\", \"jumper\", \"plug\", \"biz\", \"vram\", \"macs\", \"ethernet\", \"nubus\", \"wwiz\", \"nuy\", \"ghj\", \"slots\", \"eisa\", \"drives\", \"drive\", \"pin\", \"floppy\", \"bios\", \"disk\", \"rom\", \"ram\", \"meg\", \"hard\", \"card\", \"cpu\", \"speed\", \"jpeg\", \"gif\", \"processing\", \"image\", \"formats\", \"buffer\", \"laser\", \"dot\", \"cells\", \"codes\", \"chinese\", \"arizona\", \"images\", \"cdc\", \"printers\", \"width\", \"dram\", \"graphic\", \"arithmetic\", \"gray\", \"databases\", \"siggraph\", \"ink\", \"inherent\", \"dynamic\", \"cycles\", \"horizontal\", \"photography\", \"frames\", \"vacuum\", \"art\", \"fonts\", \"database\", \"graphics\", \"capabilities\", \"printer\", \"print\", \"pictures\", \"resolution\", \"provides\", \"software\", \"picture\", \"bitnet\", \"data\", \"domain\", \"access\", \"features\", \"internet\", \"systems\", \"available\", \"products\", \"electronic\", \"fax\", \"use\", \"mailing\", \"bay\", \"devils\", \"jan\", \"catalog\", \"film\", \"ryan\", \"alomar\", \"surgery\", \"craig\", \"disc\", \"comics\", \"buyer\", \"riders\", \"temp\", \"upenn\", \"compress\", \"swedish\", \"todd\", \"neck\", \"ucs\", \"harley\", \"carter\", \"sas\", \"voting\", \"baerga\", \"ranger\", \"toshiba\", \"dragon\", \"atoms\", \"books\", \"book\", \"campbell\", \"interference\", \"list\", \"edition\", \"quebec\", \"rob\", \"penalty\", \"send\", \"lists\", \"appears\", \"mail\", \"media\", \"votes\", \"address\", \"miller\", \"portable\", \"posted\", \"thanks\", \"let\", \"buf\", \"koresh\", \"det\", \"bos\", \"chi\", \"tor\", \"gordon\", \"que\", \"pitt\", \"surrender\", \"nyi\", \"nyr\", \"compound\", \"skepticism\", \"stl\", \"edm\", \"intellect\", \"cadre\", \"shameful\", \"geb\", \"chastity\", \"dsl\", \"ott\", \"typing\", \"rational\", \"mon\", \"tension\", \"predict\", \"headache\", \"affair\", \"pit\", \"batf\", \"van\", \"cal\", \"watch\", \"banks\", \"soon\", \"fbi\", \"edu\"], \"Freq\": [4399.0, 2391.0, 2039.0, 1432.0, 1678.0, 1142.0, 1183.0, 1192.0, 3503.0, 933.0, 1263.0, 3875.0, 1232.0, 649.0, 4065.0, 1321.0, 946.0, 841.0, 1377.0, 682.0, 3742.0, 831.0, 862.0, 2998.0, 678.0, 1211.0, 1249.0, 621.0, 800.0, 812.0, 703.1175185528386, 422.03031626387025, 307.26896761130905, 258.3963261433807, 254.04763238559167, 245.32732640522013, 190.17493468913318, 162.94470441717525, 156.82090030015382, 150.0788263560224, 145.21963843847107, 112.9834815217099, 112.5133748661778, 107.8514975500454, 98.14695585240443, 99.55988741299993, 92.68963958569378, 89.84077845020444, 85.8008191257943, 92.71272815600254, 83.61029781262171, 78.89280425086822, 73.5828405799874, 71.68097713855586, 71.2822562648488, 68.0792206665628, 66.08405196274346, 65.08468078822051, 124.67778994282462, 64.07909592680551, 282.23360646630016, 381.704229610598, 265.4747890755481, 517.4149884695105, 564.2191330098157, 432.61482979718386, 353.61012989908505, 252.1717153746627, 243.5519110424142, 340.43210700418825, 428.40429011621677, 227.92118979985747, 217.1532746686037, 363.90562761202494, 943.1093346996369, 597.3224145085752, 892.6462138555341, 912.0807115235576, 258.8638411586658, 437.1772669338944, 891.0307868995162, 322.2043405195345, 869.2722120548276, 1404.4433009219051, 501.1091230516381, 644.0416242101905, 647.5946740313112, 1033.1030318818018, 489.6634925613011, 726.0052815278722, 466.66958229141164, 873.2759513040131, 632.7076754849882, 885.5875132158362, 563.0571744019613, 471.76752555026945, 452.06994584696935, 472.13258138349704, 535.6704160367433, 521.8311959430125, 479.719472305226, 436.2015797813682, 684.9351257035364, 326.5448015976305, 336.625770731807, 225.83519032736788, 173.90157525919636, 156.7738014768228, 152.91734139916676, 151.65273938898318, 126.1257374170981, 127.13713491302465, 136.20545037575476, 115.14688425527066, 112.20238868992013, 104.83341700597332, 130.62508307637214, 95.89998808801245, 91.18557125061427, 89.16661895827124, 88.84096355480321, 88.45028626525684, 83.18791464791482, 82.25142369016027, 76.55257058200117, 73.22325920611482, 71.90300806372372, 69.68718513015169, 66.47924173388017, 66.01145535679434, 65.50163964838427, 64.80015757026928, 351.7161292776548, 88.39993984219535, 266.06611196544344, 302.6020130738668, 99.1899557475174, 115.8663564354683, 246.56024252162263, 140.13355769766366, 487.454994561682, 129.7921821994817, 260.847489231003, 313.2808706053946, 1092.839890151822, 344.8211254747417, 386.1421788332625, 584.6284848074133, 254.74487354901282, 381.69092822944936, 373.94661364663085, 164.78857505292427, 263.4913455646958, 249.12589650823466, 326.89677909619627, 321.93737606480175, 255.14173361921587, 208.71530251004495, 471.9001137285815, 366.81257446775265, 287.218281207103, 275.64381527304096, 347.362063532726, 289.8017802989194, 341.00168147401564, 333.17817482493894, 286.30463126550796, 311.45952033710614, 142.2725034911228, 125.55692081871216, 84.83306554503588, 83.22486213712288, 79.39010136743944, 70.68199733496694, 69.89651742881145, 59.64413175458692, 55.33798756810206, 55.308450432719646, 51.43564092853324, 56.681632948334354, 47.714400863195884, 49.83593652088911, 45.265290991363294, 43.933458053452235, 42.99028867577332, 41.46142713621877, 41.39770451441761, 41.41173858903264, 40.53653028964241, 40.30191085572029, 39.83742474612219, 39.145045253581436, 38.40720156407679, 38.427205064225, 37.610981581384664, 37.48899474892408, 37.26256590211133, 108.54680799074113, 564.0496562722761, 70.35865563798964, 54.66388299492863, 479.4920731530869, 457.8517812707746, 758.1459734825827, 147.63828094762323, 306.8866477346136, 1877.086392780073, 244.158498104653, 392.31706396672246, 977.6478752163763, 89.43855393888381, 743.9842503628894, 736.5543966289214, 1576.7409675032077, 165.93569436800058, 471.0784059555026, 518.9683971598947, 781.1778273838596, 1179.3636500223356, 517.9922177773922, 570.4786281938575, 525.3728040770692, 1291.4271972346435, 1249.1234392021843, 987.3919985468589, 263.8995078929058, 356.6408036451805, 286.46200768833614, 969.5324203777556, 563.3186027092125, 402.4636033376282, 595.5757519917643, 377.1477132522089, 423.12577660411176, 326.66795605203305, 402.9706851410058, 331.95447370579416, 337.53160445342996, 381.8004790743648, 273.28296007610425, 232.95445327284537, 205.45290358079802, 157.82462584960427, 126.0582642835873, 110.55558651048705, 105.11044549109268, 104.84611663784118, 104.65834298188426, 102.90298192296325, 96.61108056229278, 95.7445114459572, 92.28886041545509, 87.85004878280161, 84.10262530662496, 82.97141209121581, 82.86746069555062, 81.63139177876616, 77.07698614949392, 74.59002161099197, 70.66722879323824, 70.19342264589046, 69.1639949812406, 65.87808445462205, 65.17205036883816, 61.360739820666645, 64.90122046093167, 60.89990688703207, 255.3988266975253, 208.80459958029388, 751.3191437618723, 227.27337193513506, 249.0999096596885, 135.34100859378827, 286.38353034239685, 172.05021274903808, 296.27605097642004, 120.11119406028965, 116.68575744655924, 167.8092593772559, 692.7824677329987, 195.7987676332871, 163.33096271298518, 150.59749819759108, 141.90034580633952, 154.04013894867205, 147.3094050431662, 269.4423400694127, 200.19739418010712, 289.1353375721654, 223.85747516855642, 191.0791168334151, 171.26667473785685, 347.0070366782833, 482.4262708002525, 523.3885878888417, 247.79021163393236, 162.596029768669, 374.53103330453683, 426.07862695461466, 231.43605034736842, 342.86746623605273, 200.81091871390328, 253.5572929734219, 220.01593323650897, 234.7806257164661, 198.54105535450637, 195.831250406038, 544.8761618717946, 334.9932159149599, 285.3642070091213, 271.2128102709558, 255.23284758319525, 247.8162487814881, 222.20529152320452, 214.40071700482716, 188.4458482709673, 150.22246053674328, 146.11417875748802, 136.5447068729367, 138.78553374667234, 116.42663674668515, 115.59035003232115, 115.37131045540994, 207.7650069974576, 108.02570395222362, 103.5715748303125, 101.53115972963799, 242.65902130275023, 92.69319050753649, 91.46821427836701, 91.51809526912383, 83.38111902550645, 82.71236348389571, 81.3409521203805, 80.58913399381112, 78.58286833086086, 75.01449760388944, 393.34374763049027, 636.8461272600991, 336.97453327480355, 233.8989649703645, 191.1193347789941, 262.48701224010824, 285.0256773326539, 404.0463412155364, 897.1561526233747, 264.506506635596, 258.48062146189017, 172.777598146354, 579.2494113823243, 261.09351443817303, 374.64167443492516, 198.9835992414217, 489.1588723475511, 230.12428024596724, 233.70735522193664, 483.6838938579471, 373.48280125392694, 326.9177616907691, 335.7177568414235, 354.3692744002962, 309.49838862460547, 267.19762045644023, 256.2931697876349, 239.2311060901101, 568.0110082609162, 510.0582513395724, 483.04189246694955, 443.6539143895066, 369.2622875927421, 259.86557660494145, 211.66639632860716, 205.77105321129923, 200.38726131713972, 194.67448985645126, 174.68671609315587, 154.69309300272354, 146.56971164749498, 146.45182044770215, 131.6052978892258, 120.35800353935838, 116.52379008011408, 115.13755426907507, 112.71955870130927, 112.59800194599727, 110.0434965918382, 109.60228434880185, 102.69214561582224, 100.7549122758735, 100.19398431288015, 97.58482847528056, 96.3174097998963, 94.84700622314111, 94.19611752462721, 93.96426359657613, 559.6584326766463, 161.74771958791047, 344.0057800569512, 198.43163481862305, 130.2614825281205, 255.7909534279738, 423.1270522061773, 172.16934056773795, 198.0969998137203, 171.80349642461331, 208.26955087022984, 146.57617462910184, 231.8028519333996, 184.63947601718579, 193.7293079664906, 203.19505162732605, 280.40446846359515, 461.5446606364585, 628.4561830439307, 218.96508589021724, 225.70893711022342, 313.8571944752518, 226.859266238222, 281.0612635844563, 192.03802368710745, 222.5351190722307, 204.7004103049958, 459.7019729719572, 273.8444865311883, 207.25295106704368, 205.02631945381398, 202.59076607578487, 195.40436730412094, 193.11158497536675, 179.0134245918739, 163.02507613247408, 152.07424584982863, 148.46106746196605, 136.0006738424492, 125.21376020991475, 116.25877673305018, 108.9783995803401, 105.16763536206876, 102.93876254394459, 102.15837438667667, 101.74156628414279, 95.74687343276754, 95.410648911268, 94.72657983490157, 81.80982638526466, 75.77391732457477, 75.14111189632573, 75.02015516378366, 74.1934453124762, 74.10285998581614, 73.78775495845592, 69.59796853250701, 246.1201674350778, 1187.6021305650595, 521.4487811292745, 431.624611037062, 449.73365611092817, 342.5427871914824, 155.52417271020727, 175.93634504686761, 473.1836634454789, 333.426778339682, 124.00389040918581, 218.07113655336642, 120.12832104517743, 340.7371387399234, 349.75433586001805, 161.0696144353819, 451.48919075336863, 171.91462615474668, 232.357874858395, 335.96171658597575, 304.33250929840824, 174.29413037412448, 219.17646579549108, 278.1329508784255, 211.25999719276345, 201.0975504272128, 178.90279552078908, 309.01441388139546, 204.92642652532516, 173.70353833881694, 159.1124539184203, 128.89114315938787, 116.84558257449973, 98.31578106053377, 89.69420099383467, 79.31155538089935, 80.28294370832994, 76.26795411017312, 75.06145711529446, 69.35655922013501, 65.99471850318676, 65.47114792788241, 63.54927435483703, 60.73386125466926, 59.44678299437037, 61.14855730417446, 57.13995629645673, 56.745542523530105, 56.505130969020385, 56.3256147531198, 54.25234301490807, 53.01418999561658, 52.62859603677144, 52.05660332874728, 50.621500968702016, 50.5411580064231, 46.04937301716831, 96.04305329058022, 119.56301298875299, 69.17882484139017, 82.57925366610391, 225.37123309205256, 87.47291346227587, 301.317387239534, 351.74277161929035, 186.94254272236822, 147.36451774271268, 240.57993985930906, 186.14438433311793, 238.11998083050716, 153.81691949494066, 139.11720223159722, 432.7881144689272, 181.4276835696025, 109.94314000713143, 134.27072046448424, 161.39293509755475, 219.48227391774924, 236.40092272778082, 250.94396930773718, 128.9431486368517, 197.57038450106234, 412.2752702632297, 349.06155768017726, 173.03939166034917, 298.3914242917937, 229.41426137162793, 281.3164819231953, 318.4649813873009, 207.28154954302207, 219.37822666353816, 220.88445522254943, 222.3479104135485, 224.1216187438127, 295.594345939943, 306.60497077668344, 228.60339829040004, 245.47881767130679, 242.7869425231504, 218.44761883364737, 207.93677066770474, 198.4956897213922, 803.4518208223893, 265.33397645164763, 188.86383073709305, 184.04276377605726, 182.42111655394643, 167.16625717908198, 139.3936014862322, 127.48471419396807, 126.0441334195713, 131.7865169044154, 118.59550169573635, 132.71102002006322, 114.00210982994182, 109.74555767000545, 97.44688868249317, 93.1812451068676, 92.025728464539, 89.34869062245323, 85.16416967460214, 84.09435810946859, 80.66094832619297, 79.47403201494853, 79.32275620948644, 98.93689093746846, 73.41469153106007, 73.203482358558, 72.70647941526056, 70.60668760954998, 70.30130827679878, 70.06465909357875, 414.4953809111314, 215.4986105665986, 198.81142512023024, 131.75703466061805, 640.0642967600496, 115.26668621015573, 488.15258496801385, 190.0631171533316, 146.23262774495294, 719.7433162956642, 204.97797650761004, 290.55221760289743, 249.1467001053623, 599.9813281812291, 305.0850388154222, 227.54389898907172, 555.7304228833874, 521.2985143026951, 450.27961812189926, 400.1707670482414, 276.8182437880363, 287.8601320394173, 231.90296786100905, 226.60139931999132, 242.2885599494128, 207.38027482333067, 257.4998750841212, 254.54755573178397, 257.3642619820707, 254.90330395124522, 217.40898769850722, 211.6619195014018, 200.15997148632934, 861.2594105403816, 555.1524888942864, 521.3289310520786, 457.0947999112575, 418.6883591768193, 400.6156628090114, 396.1873840730372, 2032.244275355778, 238.88161293646962, 226.39020385471923, 198.984941097334, 180.92880036467002, 189.7829001796395, 169.02115618378247, 145.0484222818048, 140.99804713236585, 125.30379622088887, 101.47546623128814, 100.58863091333245, 98.54640241170853, 98.18192416613132, 95.9990967910005, 91.63680558250098, 89.3804091861337, 85.64732090709427, 82.7362149245986, 80.0547292825864, 78.85224494220384, 75.46325734324293, 73.44335717992057, 219.22966151576725, 200.32922076544392, 415.4440648290282, 140.9825780268492, 158.12108904220423, 139.73695835669508, 172.38497085424552, 245.16495499333487, 213.9772791866015, 190.95204125752193, 265.1882042261301, 298.9281908691334, 221.4735482637582, 466.8233530301116, 347.11198803449105, 468.10605462373536, 299.30867111950585, 246.7893035477965, 298.93808737120037, 252.7856546985636, 212.47711699644157, 310.53001833488804, 195.33457261134726, 206.27483878656597, 829.913799632779, 389.1803418914536, 384.8616392345929, 383.91946511104845, 353.7428371859459, 348.71023349893716, 236.73322571412137, 236.58969033820156, 214.7201773306015, 166.96702538907007, 156.19759337945132, 151.99287830803033, 143.12137898626366, 127.38256970057212, 124.04975215258786, 128.63948490321974, 121.47631542134724, 115.87423894597838, 113.88803805996298, 100.4076577634213, 92.07277164540615, 87.79499308565252, 87.75745280662122, 89.83252921030937, 82.24777092820791, 81.16988462608744, 389.29951944032484, 77.11061170759488, 75.37099557717825, 73.8169751951517, 1638.3824578035772, 731.4457212908368, 599.8026117527115, 113.47630875133589, 502.1307629389913, 337.0553848237365, 182.05050270686579, 157.29761482068514, 432.1771880080158, 187.6332582705331, 171.50339418477319, 255.35449834001122, 811.5811071406027, 737.8759635891386, 504.0342624384756, 314.82650150708434, 362.22455220333353, 302.1688524208748, 310.7034056546737, 185.56007268657032, 278.34080869770577, 228.74344068408107, 322.7284134668343, 281.1685796943061, 358.3154103172583, 314.24525917332716, 265.48559359497034, 245.1154346161295, 256.87917533045595, 259.3074520698751, 265.4514192549836, 340.05566327955853, 287.48183104545024, 209.2892588015377, 175.67789847679836, 155.38285747408563, 142.37335524935216, 138.00992170657875, 134.22253234891932, 121.77357278532097, 119.01256018524943, 99.8614780781057, 94.1310581703484, 92.68084567801816, 90.31279921728256, 80.24924352556549, 75.92738188914804, 72.67107956294598, 72.3216864376231, 72.30128256469354, 71.52357788761508, 66.96984102343394, 66.10982369482055, 62.96568705853181, 61.57416788592205, 57.43476367488552, 56.39188318853556, 65.26241565297536, 55.23097054461402, 56.36001802169646, 52.20962403337106, 73.27599729309728, 117.94966484282142, 244.44363168452546, 129.07522602901304, 175.34723133965755, 204.600967960041, 85.62339907768386, 97.16667228796845, 79.68327130879752, 194.30384505216733, 133.7993548489184, 182.81124803283282, 187.70520713697852, 146.68440930976433, 263.03474582687846, 115.04895390836985, 168.82777943023058, 412.6229602721229, 124.0047251531946, 145.42358404090746, 210.37416872221038, 165.88043744437047, 232.62692894076062, 186.49345337201532, 144.4815768511429, 174.97985402161945, 237.30914511894738, 209.11872498117427, 180.77943028412577, 162.87787691310024, 150.05809459990107, 181.11401126992956, 169.6336179129515, 145.58485975864465, 144.73597894065182, 173.9273990975611, 118.28464313382408, 100.29865147170705, 94.57186734055784, 77.71521663461222, 72.72493540218031, 65.9046456879697, 62.21840330236653, 56.59200126488859, 49.87926406928248, 50.79674958154901, 45.637974308050666, 41.14017416965014, 41.13506405743104, 40.55042470913653, 38.937615500375145, 38.730704515009684, 37.504782727766745, 37.204370664182754, 36.46256304187695, 35.87861601301325, 33.33774850565654, 34.799059207368266, 30.98188114964415, 30.482311155210112, 29.353604145213012, 27.87027884083003, 27.44334786930051, 27.410323951552844, 27.05961425780513, 33.12877959973203, 311.9406063422727, 125.470597810097, 392.3552847970499, 102.60487932260865, 352.10567521057806, 151.64224239799609, 139.27657317293986, 153.76519223786184, 376.73864312375673, 392.1256219372145, 177.66966415999997, 94.63593225697575, 170.9271950865072, 218.73654038138554, 67.04694932642307, 120.99744855076896, 197.08045644876745, 46.88129150601301, 196.1661526393583, 146.9404584238127, 119.77439688909274, 318.3841941164922, 127.62051252152708, 195.4525451687368, 184.48717894076694, 236.4646952428652, 141.72452718939385, 234.39003835556898, 296.1109964093658, 204.99179892303079, 201.78411785354032, 190.64052569688485, 165.18385421803404, 159.05652369150204, 190.1542612169849, 170.50284143048796, 161.71437686917818, 385.9834164411178, 228.13526873194087, 227.55246630453715, 263.74618277866324, 317.12669729416956, 199.2161408071562, 168.75166010987522, 131.82436803487104, 131.3385614017078, 127.33213997343796, 124.2556549959461, 121.37357263979527, 120.72647397348199, 114.37805500462451, 112.60388445377012, 108.97053816425402, 107.5425562010857, 89.83385805562389, 86.4001976635336, 84.59607546339299, 81.91567284561768, 81.65310550701025, 79.65042511218024, 77.99664432957802, 81.36562986042858, 76.91158763210781, 74.74666298251026, 73.41940952602863, 72.7971606253268, 70.6377458643887, 395.25307340332694, 414.8353340140107, 193.09090607972217, 166.60247419771719, 135.63718098757582, 161.5760283651705, 151.44340688087956, 103.5357105489767, 541.9204408029966, 140.36930036732437, 376.1406113377476, 211.67918714357745, 189.68503944636277, 287.4814251682282, 320.7689185360866, 211.21190824832547, 130.1204217952458, 147.82415300057323, 276.3908869816131, 173.4413061498417, 147.14620246300942, 169.322795059168, 142.01411834428313, 145.49497604905375, 161.02014893703824, 135.91792602946765, 1429.7979894969471, 353.4478569665556, 315.3439510477164, 207.62884762943648, 162.519824310183, 210.33231073410985, 136.53484692531322, 110.76393896069169, 105.20867541841699, 104.4133757020051, 95.91379715433338, 94.60460362084146, 89.26398200719645, 88.22427175558697, 85.65676344085664, 80.35052494268182, 80.20953785909897, 69.27689471295314, 68.95108272745837, 68.58378925611754, 67.61155313592988, 64.04415193325005, 58.681179781491394, 55.51041201655043, 54.938857191330314, 54.683043270188996, 52.4207806923855, 51.1723053476481, 49.064852972932, 47.4301784461103, 202.9962769116882, 104.85113740031737, 1801.5782611376642, 105.02108024787714, 215.647793285887, 70.0676766064859, 142.65439049088812, 67.21460502899524, 102.05383613810284, 193.49298726403694, 234.6302020171169, 220.22011802204642, 206.4078098440997, 108.08381455458878, 210.88332526663268, 251.1393638254028, 180.49120677486675, 105.08959296862399, 126.82908169208052, 121.88579188623984, 108.70045131753176, 113.24316918571985, 112.82896165986743, 348.61659809312266, 254.8124349310889, 203.5965204348482, 184.21752594616007, 140.8428978510837, 138.071569123882, 134.51435110127662, 127.01061178523987, 97.81663332262113, 95.7016206958401, 88.7657991923201, 87.73025537178796, 79.54034395825833, 80.72222406148389, 76.1850733139699, 66.26913439751937, 63.41967117935325, 61.97351370535254, 61.77108962846202, 58.747547905741285, 57.168616583511636, 667.4042430903812, 56.73970631918275, 53.924645059994866, 53.49680259280595, 51.4604413039292, 49.21224578326976, 48.559670515348124, 47.366418698969284, 93.19426983614049, 356.75092040338416, 132.73658183461941, 317.5390080375413, 96.64331604585747, 288.6897190960622, 302.5016407955374, 267.6947845336521, 748.2453488449063, 127.92644680242984, 310.01764697559275, 325.4758251035369, 104.4323424513898, 155.2185459705141, 241.18648931024146, 171.64810453763835, 162.65290797389005, 177.7293439455675, 161.30937882511157, 243.22714272101393, 194.8964748730209, 145.6290061622992, 206.5606658119624, 285.5354451327994, 176.79001762761277, 152.23766449960243, 150.36495606531432, 143.98085828652216, 4398.6143505616365, 620.3778207493746, 423.77248067371863, 390.3330802477285, 352.1227045909972, 243.1258941147821, 197.753738428234, 173.6479123062676, 150.94156882358183, 131.444348624601, 128.92647841328414, 119.57267516533045, 115.62913041165412, 110.71406025586515, 107.4549227207731, 106.13592470599211, 105.85825982791815, 105.68322057159708, 104.4679646839263, 102.07499824406145, 92.50005811687632, 84.88397591142558, 82.21320147666873, 80.90161301643514, 76.32567147895142, 74.84670895277698, 72.96555587640688, 71.67950114450474, 71.08177911677046, 70.69492634876441, 352.0632053492454, 961.8957757934764, 210.6713103402675, 219.48452679400393, 180.82664745114235, 478.30149565298603, 196.80999494753777, 235.61405332803315, 121.03809570280029, 381.32515019269056, 321.91082570631954, 135.9880521813579, 111.58786358058161, 287.6941042241548, 266.5315613554021, 174.9903420252174, 678.3485644464968, 139.01889115723662, 104.2490106028591, 95.58635036431113, 74.78541014382854, 66.97779841266818, 62.655488077344806, 62.24990202870583, 58.96948286653479, 333.25276054135287, 56.22268124223733, 51.55585773641678, 60.37208453010473, 50.25630405779153, 50.076090981747384, 49.95666556931283, 49.65519693987739, 49.02949908207403, 45.69084814947975, 44.37839774460737, 43.813015924841025, 43.669275370487156, 40.30726632377273, 35.61057334212046, 35.285785478475574, 34.88008670323256, 34.40753183733089, 196.44325432970874, 161.16082588921432, 112.46821390849252, 547.7726503265893, 72.26228893851686, 198.38130298286197, 140.95313530200863, 100.38964543087545, 114.5568751193391, 145.08913382189456, 451.0447744351949, 147.68129812663088, 62.61616949450966, 378.1494752459895, 95.29605852348551, 197.78294974339408, 107.27819758111518, 152.8842245500046, 174.26106427420586, 229.38693167504164, 99.94437115640063, 86.07102565093805, 91.30585638159116, 120.74224927436596, 184.90408226989376, 125.60015141009056, 77.4168776349241, 74.09349199492773, 72.4764674564314, 67.0958703911859, 64.63438748402766, 53.09628933795827, 49.177620692278595, 48.20763237611618, 42.3287550086966, 41.92684358560094, 41.788600449317336, 41.199507465714746, 38.050894892787774, 37.038813348763, 36.91829661562045, 36.10141187338191, 35.379156573354116, 35.00859281777663, 34.925375086791014, 33.815568933725565, 30.844570257491263, 30.395634299838964, 30.258667003125957, 28.800554547105207, 28.631401257631815, 28.05947429115103, 27.258337256278853, 27.056293424655898, 332.37967571441555, 514.3941507915905, 38.2984877470602, 50.728125794261835, 462.2944600332288, 92.65598903859642, 68.33568757871569, 81.33433449618407, 80.92513124252912, 277.02603737846766, 83.52316059197113, 116.4173612190036, 259.6182076054929, 96.33572954447966, 48.43128531660139, 123.81787209620184, 48.492455156479, 53.732965830065886, 53.476584475673086, 57.51559913309181, 51.593970857794666, 183.84651302807663, 156.65445069140387, 136.63787965523264, 134.85688784456244, 129.5817882094422, 123.63265647690594, 114.23944548163641, 107.85304044836018, 107.71634922255237, 100.99050819502399, 98.70689203134606, 99.70638060238365, 95.0273926139898, 85.18554084337974, 110.39584517012973, 77.94833141129338, 77.34433675598241, 76.3147416323085, 76.12505004539787, 75.6691484225918, 73.0603900080049, 72.40317280179549, 71.79941104361653, 68.85815705150462, 65.45626143744154, 148.28779131726847, 42.437859744459864, 33.591572973690525, 30.22754232177886, 30.125189407733604, 127.66836709601198, 98.98988992355275, 189.38572545281164, 130.25359899923262, 155.49830123300825, 111.60971161791893, 129.35031636765413, 111.27822209982108, 143.4483185275213], \"Total\": [4399.0, 2391.0, 2039.0, 1432.0, 1678.0, 1142.0, 1183.0, 1192.0, 3503.0, 933.0, 1263.0, 3875.0, 1232.0, 649.0, 4065.0, 1321.0, 946.0, 841.0, 1377.0, 682.0, 3742.0, 831.0, 862.0, 2998.0, 678.0, 1211.0, 1249.0, 621.0, 800.0, 812.0, 704.062599591408, 422.9753650591461, 308.2140726631586, 259.34137470237164, 254.9932500852813, 246.27238336408297, 191.1201110626558, 163.88975305391398, 157.76621148638048, 151.0405855569884, 146.16469778928774, 113.92867570553928, 113.45854152877143, 108.79654648974383, 99.09200443965983, 100.56780704877717, 93.6355426713475, 90.78582766934099, 86.74586768126292, 93.75099697827066, 84.55578379031695, 79.83785284821772, 74.52788918351796, 72.62603011842353, 72.2273048693134, 69.03517634711861, 67.02910067072197, 66.02973029083871, 126.4939669956314, 65.02415586577555, 289.6310689009276, 395.6510982486756, 274.155335771926, 542.7214544719371, 596.9519176115307, 455.81664540274335, 373.6918479794851, 264.00995564210046, 256.00884589864165, 367.8856472568258, 480.95851354354767, 247.2373936988763, 237.24271162567558, 418.79834120356384, 1218.799388752671, 750.0728072685031, 1188.1445832835523, 1249.771597065108, 295.49838390756526, 564.2702284973006, 1426.6285385230472, 395.4069343923847, 1541.2639824207154, 3153.473011203095, 777.6613529894098, 1155.7574527892657, 1183.1441088895544, 2738.40277909417, 812.4689890414268, 1627.4430905127406, 875.6425068449633, 3503.157270849605, 1853.9963280738182, 3952.7009895401575, 1603.0641367454782, 1309.6522886688078, 1232.065020353543, 1705.0708877899483, 3742.823115722713, 3875.928957213965, 2954.643384579308, 1192.0883863384377, 685.8915758004221, 327.49448212789963, 337.8488142509561, 226.77979037848363, 174.88134055643977, 157.71839777048723, 153.86344045972515, 152.5989051544682, 127.07033288768959, 128.10473579874576, 137.24520550852293, 116.09802778700394, 113.14698504787877, 105.77839454410571, 131.90829151991548, 96.84458334325016, 92.13020615242571, 90.11121444587252, 89.78555886708641, 89.39861974413833, 84.13251032814755, 83.19601948199208, 77.49716583155272, 74.16785452311535, 72.84760338124654, 70.63178141312898, 67.4240010740813, 66.95645362983312, 66.44623489979429, 65.74499404507708, 360.83423828268826, 90.54807495081234, 288.0455209292775, 332.9253634483634, 102.93404543625307, 123.60858465113661, 294.88398518033506, 160.05990124817166, 738.1474915750932, 147.08904141438626, 444.63114696602736, 606.4537016006111, 4065.993776817891, 707.3665817394009, 914.834714273921, 1825.950190802804, 487.0706127509316, 992.2609837788513, 1048.6924590202402, 239.94928293073505, 635.2247823453379, 657.548102532614, 1344.0737515445774, 1295.370142094364, 730.7085591231491, 446.1271913434557, 3875.928957213965, 2004.0383464981796, 1078.889490199823, 1033.8034989960845, 2738.40277909417, 1541.2639824207154, 3153.473011203095, 2998.119709931663, 1843.7604519174313, 312.4032000730327, 143.21590806831227, 126.50033392474872, 85.77646931907638, 84.1682658164307, 80.33350556815708, 71.62542379266533, 70.83995670053575, 60.58753549196767, 56.281391320215775, 56.25210113537666, 52.37904477827749, 57.74415861237526, 48.65780526713224, 50.86597829199244, 46.208705800563926, 44.876885645144945, 43.93369452133922, 42.404830999015644, 42.341108242955144, 42.356212849029234, 41.48286153498007, 41.24532880644121, 40.78083242087689, 40.08849489772435, 39.35060849030014, 39.371262222658636, 38.55441107258624, 38.43240136248927, 38.20597066234877, 114.80824754871209, 628.7783590114763, 73.64076754864104, 56.908974448290394, 581.214211630899, 562.7247893713875, 1069.7631593878496, 174.188444172052, 412.38727429563727, 3503.157270849605, 334.73300773506895, 592.4603481018863, 1767.1270845210584, 105.79133704875636, 1414.669186725145, 1414.227316447913, 3742.823115722713, 232.4735573003063, 892.407056706375, 1016.2505179098839, 1751.1381163520616, 2998.119709931663, 1065.8521101846927, 1253.0881849114448, 1124.8936300486698, 3875.928957213965, 3952.7009895401575, 2954.643384579308, 452.1293469406467, 703.1829360004676, 526.5164620348737, 4065.993776817891, 1843.7604519174313, 1092.5750237988245, 2467.182401118613, 1083.4163331041661, 1825.950190802804, 858.0538298343588, 2024.7706086726716, 939.6422902289615, 1344.0737515445774, 382.74532556147324, 274.22765358327143, 233.8991417223523, 206.39758825174525, 158.92828012008965, 127.00294948250267, 111.50027515368312, 106.05513019484836, 105.79126395101649, 105.60307637823261, 103.84780664197729, 97.55577558493815, 96.68922312920208, 93.24896245017048, 88.79473338161395, 85.04731124089015, 83.91650224794968, 83.81214989719241, 82.57607776299629, 78.02168083278572, 75.5347850895597, 71.6119183360673, 71.13810814853613, 70.108786337207, 66.82305047409479, 66.11673706910958, 62.30542570751309, 65.90767485882216, 61.844593547130884, 259.48603007130623, 212.15657919506233, 780.8270201940614, 233.85881222947378, 277.32666620519865, 145.05505031589868, 340.1834078309395, 193.85081105618193, 364.33324938202253, 130.91866699280973, 126.73350915962692, 194.54754733578014, 1070.8682014975132, 238.67041195126023, 192.35904972976863, 176.83027381109346, 166.08098561594403, 189.3795764830427, 178.60018744225295, 447.7186334757885, 294.9853180157537, 535.4728370643353, 354.46575850095786, 285.8064484979374, 245.24083199064782, 879.3937216743984, 1853.9963280738182, 2603.284086226313, 602.9184466016027, 224.95308712185016, 2467.182401118613, 3952.7009895401575, 633.762690843874, 2954.643384579308, 573.0105115967337, 3153.473011203095, 1603.0641367454782, 3742.823115722713, 862.1660609312436, 688.3977950228457, 545.8212341089197, 335.9382875229448, 286.309282591898, 272.15790462938793, 256.1780687986647, 248.76133277702723, 223.15168180254557, 215.36207218768425, 189.39092176989084, 151.16753780743306, 147.05925040091017, 137.5001153612822, 139.80755333751532, 117.37171411122071, 116.53543950443813, 116.31762062513879, 209.4916743026986, 108.99097530884832, 104.5183629488265, 102.47623278013988, 245.0225471194531, 93.6382867397638, 92.41377312601705, 92.47206440072098, 84.32619063754937, 83.66180953943541, 82.28617131660236, 81.53501279632654, 79.52802831420126, 75.95956991518722, 401.6244245324871, 665.5836065461576, 348.8639552369973, 244.93034781970445, 199.28744747334, 280.2719071691475, 308.13106948551825, 458.9660439793892, 1211.9080014301476, 304.79341867358255, 300.16602500142704, 189.5136245462233, 863.9417224547093, 333.7147362914712, 554.9443222613111, 243.75763664620678, 1048.6924590202402, 363.2961819428539, 436.8462213244281, 4065.993776817891, 2004.0383464981796, 1414.669186725145, 2603.284086226313, 3875.928957213965, 2998.119709931663, 1218.799388752671, 1705.0708877899483, 3742.823115722713, 568.9546624763904, 511.0020392869265, 483.9855475743647, 444.59756400962647, 370.2060051915231, 260.80922468604143, 212.61004483117026, 206.71470058431015, 201.33091023366424, 195.61813794575446, 175.6303647492901, 155.6367397400134, 147.513359023792, 147.3954720757742, 132.54894538525298, 121.30165180431352, 117.46744038283497, 116.08120130641038, 113.66320765903787, 113.54168084793885, 110.98809851462848, 110.54600191375765, 103.63579333666154, 101.69856143280153, 101.13763183236327, 98.52847670877168, 97.26109847814294, 95.79065407621083, 95.13976685248505, 94.9079110563918, 579.4707553163736, 168.0702345468068, 374.6172336303183, 209.46185193887334, 134.00395688124476, 292.6723943540961, 531.3258183096614, 192.94630067980768, 237.94399247761933, 203.94875493096265, 278.6791218617053, 166.9394634129235, 352.17857570973, 247.9255933827792, 274.5771852001874, 307.3229872774846, 592.4514041425917, 1767.1270845210584, 4065.993776817891, 395.41455825211386, 436.6107181957636, 1211.9080014301476, 465.7273121342457, 1040.7708226841391, 337.99992804639675, 1356.5187783949905, 1751.1381163520616, 460.773193291739, 274.78885141762606, 208.19732214354505, 205.97068267777198, 203.53513460070204, 196.35094413804995, 194.05603013754262, 179.95778236140765, 163.96947260038286, 153.01907064434664, 149.4054238270423, 136.9456706233097, 126.1581168454706, 117.20313370958876, 109.92299743764484, 106.11199251934308, 103.88312424922736, 103.10273142618581, 102.68592304755096, 96.69169841823829, 96.35530741921716, 95.6709369563316, 82.75585459781033, 76.71827394746761, 76.08548432158912, 75.9645115538951, 75.1378026034835, 75.04846851582734, 74.7454659164942, 70.54341538619832, 252.42424890820453, 1263.487380230216, 551.5586246864785, 470.4513701159309, 493.4490854692435, 373.67717935408, 164.68838309553215, 194.0669156577431, 620.9859372013458, 442.4965897551319, 132.8388365013871, 276.08847892051125, 128.35502418051794, 536.3106905075454, 609.9076453199286, 217.81292652932416, 1484.6728907088627, 252.02887665708653, 473.2423986705352, 1377.4945566572646, 1232.065020353543, 281.45230731126173, 727.7464098764439, 2603.284086226313, 1448.0069799613887, 1356.5187783949905, 879.3937216743984, 309.95886352994745, 205.87088393217164, 174.64798246538825, 160.05689861627917, 129.83558881096704, 117.7900274922783, 99.26022520945554, 90.63874715543795, 80.2560000209163, 81.24872571567309, 77.21239828165113, 76.00590151066335, 70.30100344474246, 66.93917848772982, 66.41561356718073, 64.49923142834054, 61.67830775837481, 60.39124031886825, 62.12069852061269, 58.084400500132766, 57.68998662663102, 57.44957664900706, 57.27005912562756, 55.196787231020984, 53.95863425232275, 53.57304067115746, 53.00104761810882, 51.565945089026044, 51.496625781130675, 46.99383545910208, 98.74768257898917, 124.98951656529775, 71.8067478770463, 87.5084575224118, 263.28312253195014, 93.51159406989694, 366.1695247510516, 436.86412629161686, 227.34931812273234, 181.95043964681156, 333.6381693731491, 246.35019984540696, 342.6226576616825, 205.19222004404642, 180.7328022450586, 807.5597608987467, 258.36139081413745, 136.37230146171106, 181.27383680772408, 235.79799594442542, 377.2121176885309, 429.89096196129526, 482.6818571932871, 181.63732184517417, 404.767335953194, 1603.0641367454782, 1295.370142094364, 328.69366326138686, 1074.0662225599174, 657.548102532614, 1136.3531868997516, 1705.0708877899483, 599.8975191431529, 783.5813987291492, 843.0456994397773, 875.6425068449633, 936.6434236004608, 3153.473011203095, 4065.993776817891, 1627.4430905127406, 2998.119709931663, 2738.40277909417, 3875.928957213965, 1853.9963280738182, 747.2558010319183, 804.3971010847838, 266.279174138433, 189.80900231284363, 184.9879429777651, 183.3669154566673, 168.1114289549022, 140.33878228132647, 128.42988965173586, 126.98934275464082, 132.81091352607166, 119.54069005303921, 133.80307275185987, 114.94728163024647, 110.6907431530877, 98.39209641232868, 94.12641713457444, 92.9709000504857, 90.29386274405701, 86.10934132347151, 85.03952972084421, 81.60612330663749, 80.41920474061419, 80.26792910237137, 100.13061881173182, 74.35990538681611, 74.14865534876047, 73.65165498811638, 71.55186205658947, 71.24669994321754, 71.00983427789478, 493.2692638533718, 256.95326974155967, 236.0988440679276, 157.67818594402894, 1448.0069799613887, 140.48295593624326, 1155.2468563949626, 300.21635146966094, 204.49142597221214, 2467.182401118613, 352.7337309640554, 682.8387614423812, 581.1902523308448, 2998.119709931663, 936.7125771919749, 549.2088044213016, 3742.823115722713, 3875.928957213965, 3952.7009895401575, 2954.643384579308, 1124.8936300486698, 1356.5187783949905, 800.8195497086214, 866.7147471676803, 1186.4534845836076, 689.7210167914164, 1825.950190802804, 1751.1381163520616, 2004.0383464981796, 2024.7706086726716, 1414.227316447913, 1033.8034989960845, 648.2766350289816, 862.2045705696328, 556.0982455144688, 522.275773793002, 458.0406132297171, 419.6402164785832, 401.56090666010033, 397.13304578757663, 2039.5615061148012, 239.8296943617884, 227.3353614436892, 199.93027495652694, 181.87395197104456, 190.78924070879015, 169.96658468350734, 145.99362753792337, 141.94320617574374, 126.2489815531676, 102.42083486495852, 101.53384911139854, 99.49155831573557, 99.12717250838104, 96.9443692931372, 92.58197565474858, 90.32558853550283, 86.59247490748669, 83.68138110305907, 80.99991369960215, 79.7973990413736, 76.40852330692722, 74.38852705772366, 223.0248724954895, 204.6856439044317, 432.2558125273259, 144.05966673156476, 162.97619156437253, 143.98479116130258, 185.09440034427845, 315.83408899383136, 279.2082975727525, 243.45863134724806, 384.64163576337586, 549.1114341901025, 352.18832616094767, 1344.0737515445774, 809.6829166062525, 2738.40277909417, 940.8360845384639, 681.0128592108284, 1843.7604519174313, 1040.7708226841391, 535.3959664820521, 4065.993776817891, 374.86336978993717, 2024.7706086726716, 831.4719321241992, 390.12323716971434, 385.8045512071529, 384.8623592131754, 354.6865034571648, 349.6531398549393, 237.67611982080425, 237.54024169455863, 215.66310428551802, 167.90991946832912, 157.1406147277182, 152.9363138479388, 144.06427508104375, 128.32852189490816, 124.99266065297833, 129.62381408516964, 122.41921298976266, 116.81713307215344, 114.83093214197538, 101.3505538945089, 93.01566630241257, 88.73790704819197, 88.70039471285682, 90.83925507951562, 83.19066859632558, 82.1128262247065, 393.94666451370625, 78.05351515714209, 76.31389075272503, 74.76052142729135, 1678.2496404630997, 745.1034686228369, 615.2647709143519, 115.22888730291672, 526.5334380915112, 351.7677347218524, 187.24686457622298, 162.79227793700747, 468.96589391221414, 198.4314088553642, 183.62298167924286, 307.63855599354383, 1377.4945566572646, 1321.471427705253, 853.807207378181, 451.86420243230884, 552.0357876944782, 474.3915654984668, 555.5163132743406, 221.30393723853027, 494.05910515428354, 337.32558135621053, 711.036920095931, 674.6175107500177, 1484.6728907088627, 1004.5554949269747, 686.2120433709039, 535.328189073171, 777.6613529894098, 856.1617570695327, 2391.9906122311977, 341.00056061500317, 288.4267193805491, 210.38311053343125, 176.62278721260498, 156.327767880022, 143.3182432251304, 138.95482456356453, 135.16744950073115, 122.71846086504839, 119.95744897573215, 100.80636618599081, 95.07594622777859, 93.62573371027965, 91.25768882754825, 81.19413167956964, 76.87226989010355, 73.61596898285157, 73.266574988438, 73.24617064034747, 72.50234475098449, 67.91488720956418, 67.05471694829599, 63.930729339679765, 62.51905692274339, 58.37965218443355, 57.33677376926261, 66.37045166797873, 56.17585861411487, 57.325591884166755, 53.15451257558175, 75.2096334425388, 124.33152246310975, 267.7694185067036, 152.92161540642607, 225.2594451935065, 282.90972504259975, 96.13732384476053, 115.50765335053183, 88.27751279330062, 335.1516252758942, 203.76272008730464, 385.0447689963085, 481.9608337867939, 297.90352882390874, 1155.7574527892657, 199.26225979713425, 467.2719635855778, 3875.928957213965, 240.15218703137305, 388.9061486561184, 1186.4534845836076, 582.0024565150046, 1705.0708877899483, 936.6434236004608, 400.5502456603824, 939.6422902289615, 3952.7009895401575, 2467.182401118613, 1356.5187783949905, 1033.8034989960845, 555.0566508832092, 4065.993776817891, 3503.157270849605, 968.5166047838358, 1253.0881849114448, 174.87123305382468, 119.22888580067172, 101.24344076601544, 95.55850327088773, 78.66262583166635, 73.6688505863318, 66.84849105778707, 63.162240465399535, 57.535836415460054, 50.823098667772356, 51.78118701433744, 46.58182075666493, 42.08404936747219, 42.083374457457644, 41.49425863395217, 39.88145019954755, 39.67454134632334, 38.448680419416725, 38.148204786370975, 37.40639697664013, 36.822450333605104, 34.28233458981915, 35.815740519980174, 31.92572251714075, 31.426199879422743, 30.29743816652156, 28.81411458587915, 28.387185724158634, 28.35415796738372, 28.006038072034954, 34.34751309967931, 334.51874742303795, 133.02024270434373, 444.5587858558001, 110.76525229122785, 403.34615310086446, 167.5421251756708, 155.13305852283625, 173.35655472958973, 450.2315026135285, 512.4925751308889, 218.49086934587203, 109.33934732138003, 222.61881473723608, 348.4052389746177, 79.09270407541709, 177.03438490652997, 347.813844345449, 50.430972394976756, 369.9871998537616, 246.54197184991096, 185.57337844092243, 787.1432159395422, 207.20836127338399, 404.86690859162144, 396.2633429419302, 657.0155197596706, 283.64460704275217, 797.6349379521381, 1309.6522886688078, 614.9505271548107, 691.3964857743241, 889.4964134539601, 674.6175107500177, 605.471917878168, 1853.9963280738182, 1078.889490199823, 1136.3531868997516, 386.9283538946699, 229.08023848641108, 228.4974082182027, 264.84360798114335, 318.5650810530371, 200.1610785118088, 169.69660750681697, 132.76930531535308, 132.2836873545998, 128.27707766700033, 125.20061514733119, 122.31851785063901, 121.6714826401535, 115.32300380265971, 113.54882170126099, 109.91547642768363, 108.48750936331244, 90.77879557270067, 87.35080439220157, 85.5410129684923, 82.86061790167541, 82.59805405146002, 80.59536274806834, 78.94164132636757, 82.35294970107478, 77.85655208021156, 75.69160121196387, 74.36436831856292, 73.74209995239062, 71.58268312444542, 410.6091811291677, 439.60856204636883, 200.87685155170908, 176.69173413891883, 143.41177190183257, 181.58562127143554, 169.02620248941435, 109.21700349791085, 800.8195497086214, 158.39639839995263, 568.9554874406111, 279.120911381077, 252.15410821433983, 460.65311126015155, 549.2088044213016, 365.87204577074186, 160.54957153508087, 268.72124433040955, 2603.284086226313, 535.3959664820521, 287.5085092954418, 1070.8682014975132, 318.6031070819775, 411.9156809756465, 1448.0069799613887, 923.643075125337, 1432.987155722334, 354.3926335502791, 316.2881330603215, 208.57567461184152, 163.4642097608738, 211.6808441163554, 137.58188345389422, 111.70784041280226, 106.15255618881925, 105.35725648253961, 96.85767964049246, 95.5484851428322, 90.20786275621677, 89.17632239913533, 86.60105131483662, 81.29440609907766, 81.15342218422789, 70.2207754113856, 69.89635392903585, 69.5278061587065, 68.55543384617101, 64.98803305866666, 59.625227701461014, 56.45429272220031, 55.882738019282556, 55.626971016327225, 53.36468641442679, 52.116186111813725, 50.00873477369377, 48.37406972472942, 216.12206472933136, 112.10867860103939, 2391.9906122311977, 113.59516678300888, 275.89102748614573, 74.3206743411484, 179.54034654085817, 71.54179732402724, 126.11269897036345, 321.8507046481569, 456.22450605170894, 473.95596012438466, 427.39185564843723, 156.71983247820665, 529.8180351504514, 1183.1441088895544, 741.766730525911, 175.90495322050927, 375.2158007257767, 351.24352212344803, 212.83397024831166, 617.8853031213583, 620.9859372013458, 349.5613877133028, 255.75755241788895, 204.57444507762958, 185.1622118799545, 141.78759121811777, 139.01625514868707, 135.4590370383594, 127.95544747928831, 98.76481940767938, 96.64632862119771, 89.71048704413705, 88.67497028054, 80.4850301054071, 81.68210247925506, 77.12976038795695, 67.21382198867454, 64.36445427696535, 62.918203674413355, 62.7157815469264, 59.69223517694646, 58.113308916225456, 678.5051274704032, 57.684392572600395, 54.86933100471864, 54.44148861589729, 52.40512724757047, 50.156931743514136, 49.50435652468446, 48.31110460741977, 95.07769618284303, 378.71078396063183, 138.67744517603643, 360.6782009333858, 102.11478105404024, 359.0546806067181, 399.1891117409224, 354.68363668374525, 1192.0883863384377, 150.80401085366657, 463.190985633435, 576.2683031242802, 128.01655463671426, 252.04013430367408, 526.4974310102161, 305.3563200891739, 290.87049695808395, 353.22731073451223, 328.15412394136655, 832.4920923440491, 547.2587672563283, 280.91208284158074, 936.7125771919749, 2603.284086226313, 853.807207378181, 398.8367129509216, 731.765967083013, 623.2592236426591, 4399.558131014312, 621.3682216148873, 424.71626107787415, 391.27686065193205, 353.07124813727035, 244.06992776347676, 198.6975188304015, 174.59175517586192, 151.88535488533842, 132.39123724150738, 129.87026111859026, 120.51645556681781, 116.5729109282576, 111.65784073027717, 108.3987034371462, 107.07971015314064, 106.8020402282893, 106.62700140093078, 105.4117691283474, 103.01877877568624, 93.44383867450891, 85.82775882513991, 83.15698245660518, 81.84539348043047, 77.26946426224686, 75.79048935380959, 73.90933627912352, 72.62328154802974, 72.02555953698173, 71.63871009609649, 369.7909854752879, 1142.1856000512494, 229.0349501836402, 240.81759087428628, 201.75555019389046, 658.6398147469794, 243.05550807492165, 323.11007051792404, 143.75795479959223, 848.8103152747519, 812.4689890414268, 194.4805399397269, 535.4728370643353, 288.63799673912115, 267.4883193798581, 176.01646173874045, 682.7467981390189, 139.96278313209788, 105.19289628839704, 96.53051162373441, 75.72930025198998, 67.92170535333989, 63.59937567313982, 63.19400250874387, 59.91336864467164, 338.854854526372, 57.17905451301199, 52.499751422501156, 61.489982688829826, 51.20018945196372, 51.020506902742056, 50.90142973331773, 50.59918088491472, 49.973405472706, 46.63476982750106, 45.32294796006921, 44.75690154038035, 44.61316075676311, 41.25115167291882, 36.554459123767806, 36.22967093888083, 35.823974446799234, 35.351417751983966, 205.26966910433293, 169.41419652437614, 117.54939154845898, 623.977377400442, 76.48633462975465, 225.10540229083028, 181.05959104391405, 122.45739936454433, 151.29953583802316, 206.36664548126487, 946.7194128913052, 221.00966003856453, 71.50884893594797, 1232.065020353543, 142.42176484367263, 527.7823301721552, 196.12528361343269, 456.22450605170894, 629.2969642889416, 1321.471427705253, 208.9768123574204, 227.02766414330114, 331.8513571529242, 3153.473011203095, 185.87740324408182, 126.54519550828356, 78.3619217126069, 75.03922197939242, 73.42151383595143, 68.0428479733337, 65.57943168076322, 54.04133437945594, 50.122665268546946, 49.15268854044584, 43.27380065182401, 42.87189579391183, 42.73364648998809, 42.14455171364526, 38.99593942561732, 37.9838574832006, 37.86334195665212, 37.04647138741504, 36.32428108969501, 35.95364302293918, 35.87042153900237, 34.76091458037471, 31.789614480539516, 31.34072489044709, 31.203729872160963, 29.745734343675508, 29.57644588714102, 29.004518337161105, 28.20338441117389, 28.00134337412847, 377.4781564371254, 649.112449730549, 40.627583122330066, 55.932772524382294, 933.8374745748064, 126.53411833416082, 89.0886450901022, 113.76729023403371, 114.15682552838742, 841.7123734313301, 139.68341450698156, 277.6275308765242, 1183.1441088895544, 242.3007041890332, 64.56885371575643, 599.8975191431529, 69.85166480019117, 102.0758056785972, 386.08784220935655, 1249.771597065108, 1083.4163331041661, 184.7922304111355, 157.60016645428595, 137.58360789911285, 135.80260365230944, 130.52750448048567, 124.57837501831153, 115.18517089135746, 108.79875626914382, 108.66206517678062, 101.93622668096064, 99.65260783539438, 100.6877241472507, 95.97343322226497, 86.1312569781109, 111.64616595928075, 78.89404719156279, 78.2900526602522, 77.2604574962462, 77.07076594659722, 76.6148643324582, 74.00610589681911, 73.34888866830163, 72.77961303157778, 69.8038787067329, 66.40197776451443, 150.7052037897829, 43.38607672320678, 34.53728876387867, 31.173259039790313, 31.070905417487456, 135.37810767224806, 105.83377886808043, 225.53834543230812, 151.23137346361528, 192.5740030615171, 131.55372457983628, 350.31675380465657, 248.25864219636676, 2391.9906122311977], \"Category\": [\"Default\", \"Default\", \"Default\", \"Default\", \"Default\", \"Default\", \"Default\", \"Default\", \"Default\", \"Default\", \"Default\", \"Default\", \"Default\", \"Default\", \"Default\", \"Default\", \"Default\", \"Default\", \"Default\", \"Default\", \"Default\", \"Default\", \"Default\", \"Default\", \"Default\", \"Default\", \"Default\", \"Default\", \"Default\", \"Default\", \"Topic1\", \"Topic1\", \"Topic1\", \"Topic1\", \"Topic1\", \"Topic1\", \"Topic1\", \"Topic1\", \"Topic1\", \"Topic1\", \"Topic1\", \"Topic1\", \"Topic1\", \"Topic1\", \"Topic1\", \"Topic1\", \"Topic1\", \"Topic1\", \"Topic1\", \"Topic1\", \"Topic1\", \"Topic1\", \"Topic1\", \"Topic1\", \"Topic1\", \"Topic1\", \"Topic1\", \"Topic1\", \"Topic1\", \"Topic1\", \"Topic1\", \"Topic1\", \"Topic1\", \"Topic1\", \"Topic1\", \"Topic1\", \"Topic1\", \"Topic1\", \"Topic1\", \"Topic1\", \"Topic1\", \"Topic1\", \"Topic1\", \"Topic1\", \"Topic1\", \"Topic1\", \"Topic1\", \"Topic1\", \"Topic1\", \"Topic1\", \"Topic1\", \"Topic1\", \"Topic1\", \"Topic1\", \"Topic1\", \"Topic1\", \"Topic1\", \"Topic1\", \"Topic1\", \"Topic1\", \"Topic1\", \"Topic1\", \"Topic1\", \"Topic1\", \"Topic1\", \"Topic1\", \"Topic1\", \"Topic1\", \"Topic1\", \"Topic1\", \"Topic1\", \"Topic1\", \"Topic2\", \"Topic2\", \"Topic2\", \"Topic2\", \"Topic2\", \"Topic2\", \"Topic2\", \"Topic2\", \"Topic2\", \"Topic2\", \"Topic2\", \"Topic2\", \"Topic2\", \"Topic2\", \"Topic2\", \"Topic2\", \"Topic2\", \"Topic2\", \"Topic2\", \"Topic2\", \"Topic2\", \"Topic2\", \"Topic2\", \"Topic2\", \"Topic2\", \"Topic2\", \"Topic2\", \"Topic2\", \"Topic2\", \"Topic2\", \"Topic2\", \"Topic2\", \"Topic2\", \"Topic2\", \"Topic2\", \"Topic2\", \"Topic2\", \"Topic2\", \"Topic2\", \"Topic2\", \"Topic2\", \"Topic2\", \"Topic2\", \"Topic2\", \"Topic2\", \"Topic2\", \"Topic2\", \"Topic2\", \"Topic2\", \"Topic2\", \"Topic2\", \"Topic2\", \"Topic2\", \"Topic2\", \"Topic2\", \"Topic2\", \"Topic2\", \"Topic2\", \"Topic2\", \"Topic2\", \"Topic2\", \"Topic2\", \"Topic2\", \"Topic2\", \"Topic2\", \"Topic3\", \"Topic3\", \"Topic3\", \"Topic3\", \"Topic3\", \"Topic3\", \"Topic3\", \"Topic3\", \"Topic3\", \"Topic3\", \"Topic3\", \"Topic3\", \"Topic3\", \"Topic3\", \"Topic3\", \"Topic3\", \"Topic3\", \"Topic3\", \"Topic3\", \"Topic3\", \"Topic3\", \"Topic3\", \"Topic3\", \"Topic3\", \"Topic3\", \"Topic3\", \"Topic3\", \"Topic3\", \"Topic3\", \"Topic3\", \"Topic3\", \"Topic3\", \"Topic3\", \"Topic3\", \"Topic3\", \"Topic3\", \"Topic3\", \"Topic3\", \"Topic3\", \"Topic3\", \"Topic3\", \"Topic3\", \"Topic3\", \"Topic3\", \"Topic3\", \"Topic3\", \"Topic3\", \"Topic3\", \"Topic3\", \"Topic3\", \"Topic3\", \"Topic3\", \"Topic3\", \"Topic3\", \"Topic3\", \"Topic3\", \"Topic3\", \"Topic3\", \"Topic3\", \"Topic3\", \"Topic3\", \"Topic3\", \"Topic3\", \"Topic3\", \"Topic3\", \"Topic3\", \"Topic3\", \"Topic3\", \"Topic3\", \"Topic3\", \"Topic3\", \"Topic4\", \"Topic4\", \"Topic4\", \"Topic4\", \"Topic4\", \"Topic4\", \"Topic4\", \"Topic4\", \"Topic4\", \"Topic4\", \"Topic4\", \"Topic4\", \"Topic4\", \"Topic4\", \"Topic4\", \"Topic4\", \"Topic4\", \"Topic4\", \"Topic4\", \"Topic4\", \"Topic4\", \"Topic4\", \"Topic4\", \"Topic4\", \"Topic4\", \"Topic4\", \"Topic4\", \"Topic4\", \"Topic4\", \"Topic4\", \"Topic4\", \"Topic4\", \"Topic4\", \"Topic4\", \"Topic4\", \"Topic4\", \"Topic4\", \"Topic4\", \"Topic4\", \"Topic4\", \"Topic4\", \"Topic4\", \"Topic4\", \"Topic4\", \"Topic4\", \"Topic4\", \"Topic4\", \"Topic4\", \"Topic4\", \"Topic4\", \"Topic4\", \"Topic4\", \"Topic4\", \"Topic4\", \"Topic4\", \"Topic4\", \"Topic4\", \"Topic4\", \"Topic4\", \"Topic4\", \"Topic4\", \"Topic4\", \"Topic4\", \"Topic4\", \"Topic4\", \"Topic4\", \"Topic4\", \"Topic4\", \"Topic4\", \"Topic5\", \"Topic5\", \"Topic5\", \"Topic5\", \"Topic5\", \"Topic5\", \"Topic5\", \"Topic5\", \"Topic5\", \"Topic5\", \"Topic5\", \"Topic5\", \"Topic5\", \"Topic5\", \"Topic5\", \"Topic5\", \"Topic5\", \"Topic5\", \"Topic5\", \"Topic5\", \"Topic5\", \"Topic5\", \"Topic5\", \"Topic5\", \"Topic5\", \"Topic5\", \"Topic5\", \"Topic5\", \"Topic5\", \"Topic5\", \"Topic5\", \"Topic5\", \"Topic5\", \"Topic5\", \"Topic5\", \"Topic5\", \"Topic5\", \"Topic5\", \"Topic5\", \"Topic5\", \"Topic5\", \"Topic5\", \"Topic5\", \"Topic5\", \"Topic5\", \"Topic5\", \"Topic5\", \"Topic5\", \"Topic5\", \"Topic5\", \"Topic5\", \"Topic5\", \"Topic5\", \"Topic5\", \"Topic5\", \"Topic5\", \"Topic5\", \"Topic5\", \"Topic6\", \"Topic6\", \"Topic6\", \"Topic6\", \"Topic6\", \"Topic6\", \"Topic6\", \"Topic6\", \"Topic6\", \"Topic6\", \"Topic6\", \"Topic6\", \"Topic6\", \"Topic6\", \"Topic6\", \"Topic6\", \"Topic6\", \"Topic6\", \"Topic6\", \"Topic6\", \"Topic6\", \"Topic6\", \"Topic6\", \"Topic6\", \"Topic6\", \"Topic6\", \"Topic6\", \"Topic6\", \"Topic6\", \"Topic6\", \"Topic6\", \"Topic6\", \"Topic6\", \"Topic6\", \"Topic6\", \"Topic6\", \"Topic6\", \"Topic6\", \"Topic6\", \"Topic6\", \"Topic6\", \"Topic6\", \"Topic6\", \"Topic6\", \"Topic6\", \"Topic6\", \"Topic6\", \"Topic6\", \"Topic6\", \"Topic6\", \"Topic6\", \"Topic6\", \"Topic6\", \"Topic6\", \"Topic6\", \"Topic6\", \"Topic6\", \"Topic7\", \"Topic7\", \"Topic7\", \"Topic7\", \"Topic7\", \"Topic7\", \"Topic7\", \"Topic7\", \"Topic7\", \"Topic7\", \"Topic7\", \"Topic7\", \"Topic7\", \"Topic7\", \"Topic7\", \"Topic7\", \"Topic7\", \"Topic7\", \"Topic7\", \"Topic7\", \"Topic7\", \"Topic7\", \"Topic7\", \"Topic7\", \"Topic7\", \"Topic7\", \"Topic7\", \"Topic7\", \"Topic7\", \"Topic7\", \"Topic7\", \"Topic7\", \"Topic7\", \"Topic7\", \"Topic7\", \"Topic7\", \"Topic7\", \"Topic7\", \"Topic7\", \"Topic7\", \"Topic7\", \"Topic7\", \"Topic7\", \"Topic7\", \"Topic7\", \"Topic7\", \"Topic7\", \"Topic7\", \"Topic7\", \"Topic7\", \"Topic7\", \"Topic7\", \"Topic7\", \"Topic7\", \"Topic7\", \"Topic7\", \"Topic7\", \"Topic8\", \"Topic8\", \"Topic8\", \"Topic8\", \"Topic8\", \"Topic8\", \"Topic8\", \"Topic8\", \"Topic8\", \"Topic8\", \"Topic8\", \"Topic8\", \"Topic8\", \"Topic8\", \"Topic8\", \"Topic8\", \"Topic8\", \"Topic8\", \"Topic8\", \"Topic8\", \"Topic8\", \"Topic8\", \"Topic8\", \"Topic8\", \"Topic8\", \"Topic8\", \"Topic8\", \"Topic8\", \"Topic8\", \"Topic8\", \"Topic8\", \"Topic8\", \"Topic8\", \"Topic8\", \"Topic8\", \"Topic8\", \"Topic8\", \"Topic8\", \"Topic8\", \"Topic8\", \"Topic8\", \"Topic8\", \"Topic8\", \"Topic8\", \"Topic8\", \"Topic8\", \"Topic8\", \"Topic8\", \"Topic8\", \"Topic8\", \"Topic8\", \"Topic8\", \"Topic8\", \"Topic8\", \"Topic8\", \"Topic8\", \"Topic8\", \"Topic8\", \"Topic8\", \"Topic8\", \"Topic8\", \"Topic8\", \"Topic8\", \"Topic8\", \"Topic8\", \"Topic8\", \"Topic8\", \"Topic8\", \"Topic8\", \"Topic8\", \"Topic8\", \"Topic8\", \"Topic8\", \"Topic8\", \"Topic8\", \"Topic9\", \"Topic9\", \"Topic9\", \"Topic9\", \"Topic9\", \"Topic9\", \"Topic9\", \"Topic9\", \"Topic9\", \"Topic9\", \"Topic9\", \"Topic9\", \"Topic9\", \"Topic9\", \"Topic9\", \"Topic9\", \"Topic9\", \"Topic9\", \"Topic9\", \"Topic9\", \"Topic9\", \"Topic9\", \"Topic9\", \"Topic9\", \"Topic9\", \"Topic9\", \"Topic9\", \"Topic9\", \"Topic9\", \"Topic9\", \"Topic9\", \"Topic9\", \"Topic9\", \"Topic9\", \"Topic9\", \"Topic9\", \"Topic9\", \"Topic9\", \"Topic9\", \"Topic9\", \"Topic9\", \"Topic9\", \"Topic9\", \"Topic9\", \"Topic9\", \"Topic9\", \"Topic9\", \"Topic9\", \"Topic9\", \"Topic9\", \"Topic9\", \"Topic9\", \"Topic9\", \"Topic9\", \"Topic9\", \"Topic9\", \"Topic9\", \"Topic9\", \"Topic9\", \"Topic9\", \"Topic9\", \"Topic9\", \"Topic9\", \"Topic10\", \"Topic10\", \"Topic10\", \"Topic10\", \"Topic10\", \"Topic10\", \"Topic10\", \"Topic10\", \"Topic10\", \"Topic10\", \"Topic10\", \"Topic10\", \"Topic10\", \"Topic10\", \"Topic10\", \"Topic10\", \"Topic10\", \"Topic10\", \"Topic10\", \"Topic10\", \"Topic10\", \"Topic10\", \"Topic10\", \"Topic10\", \"Topic10\", \"Topic10\", \"Topic10\", \"Topic10\", \"Topic10\", \"Topic10\", \"Topic10\", \"Topic10\", \"Topic10\", \"Topic10\", \"Topic10\", \"Topic10\", \"Topic10\", \"Topic10\", \"Topic10\", \"Topic10\", \"Topic10\", \"Topic10\", \"Topic10\", \"Topic10\", \"Topic10\", \"Topic10\", \"Topic10\", \"Topic10\", \"Topic10\", \"Topic10\", \"Topic10\", \"Topic10\", \"Topic10\", \"Topic10\", \"Topic11\", \"Topic11\", \"Topic11\", \"Topic11\", \"Topic11\", \"Topic11\", \"Topic11\", \"Topic11\", \"Topic11\", \"Topic11\", \"Topic11\", \"Topic11\", \"Topic11\", \"Topic11\", \"Topic11\", \"Topic11\", \"Topic11\", \"Topic11\", \"Topic11\", \"Topic11\", \"Topic11\", \"Topic11\", \"Topic11\", \"Topic11\", \"Topic11\", \"Topic11\", \"Topic11\", \"Topic11\", \"Topic11\", \"Topic11\", \"Topic11\", \"Topic11\", \"Topic11\", \"Topic11\", \"Topic11\", \"Topic11\", \"Topic11\", \"Topic11\", \"Topic11\", \"Topic11\", \"Topic11\", \"Topic11\", \"Topic11\", \"Topic11\", \"Topic11\", \"Topic11\", \"Topic11\", \"Topic11\", \"Topic11\", \"Topic11\", \"Topic11\", \"Topic11\", \"Topic11\", \"Topic11\", \"Topic11\", \"Topic11\", \"Topic11\", \"Topic11\", \"Topic11\", \"Topic11\", \"Topic11\", \"Topic12\", \"Topic12\", \"Topic12\", \"Topic12\", \"Topic12\", \"Topic12\", \"Topic12\", \"Topic12\", \"Topic12\", \"Topic12\", \"Topic12\", \"Topic12\", \"Topic12\", \"Topic12\", \"Topic12\", \"Topic12\", \"Topic12\", \"Topic12\", \"Topic12\", \"Topic12\", \"Topic12\", \"Topic12\", \"Topic12\", \"Topic12\", \"Topic12\", \"Topic12\", \"Topic12\", \"Topic12\", \"Topic12\", \"Topic12\", \"Topic12\", \"Topic12\", \"Topic12\", \"Topic12\", \"Topic12\", \"Topic12\", \"Topic12\", \"Topic12\", \"Topic12\", \"Topic12\", \"Topic12\", \"Topic12\", \"Topic12\", \"Topic12\", \"Topic12\", \"Topic12\", \"Topic12\", \"Topic12\", \"Topic12\", \"Topic12\", \"Topic12\", \"Topic12\", \"Topic12\", \"Topic12\", \"Topic12\", \"Topic12\", \"Topic12\", \"Topic12\", \"Topic12\", \"Topic12\", \"Topic12\", \"Topic12\", \"Topic12\", \"Topic12\", \"Topic12\", \"Topic13\", \"Topic13\", \"Topic13\", \"Topic13\", \"Topic13\", \"Topic13\", \"Topic13\", \"Topic13\", \"Topic13\", \"Topic13\", \"Topic13\", \"Topic13\", \"Topic13\", \"Topic13\", \"Topic13\", \"Topic13\", \"Topic13\", \"Topic13\", \"Topic13\", \"Topic13\", \"Topic13\", \"Topic13\", \"Topic13\", \"Topic13\", \"Topic13\", \"Topic13\", \"Topic13\", \"Topic13\", \"Topic13\", \"Topic13\", \"Topic13\", \"Topic13\", \"Topic13\", \"Topic13\", \"Topic13\", \"Topic13\", \"Topic13\", \"Topic13\", \"Topic13\", \"Topic13\", \"Topic13\", \"Topic13\", \"Topic13\", \"Topic13\", \"Topic13\", \"Topic13\", \"Topic13\", \"Topic13\", \"Topic13\", \"Topic13\", \"Topic13\", \"Topic13\", \"Topic13\", \"Topic13\", \"Topic13\", \"Topic13\", \"Topic13\", \"Topic13\", \"Topic13\", \"Topic13\", \"Topic13\", \"Topic13\", \"Topic13\", \"Topic13\", \"Topic13\", \"Topic13\", \"Topic13\", \"Topic13\", \"Topic14\", \"Topic14\", \"Topic14\", \"Topic14\", \"Topic14\", \"Topic14\", \"Topic14\", \"Topic14\", \"Topic14\", \"Topic14\", \"Topic14\", \"Topic14\", \"Topic14\", \"Topic14\", \"Topic14\", \"Topic14\", \"Topic14\", \"Topic14\", \"Topic14\", \"Topic14\", \"Topic14\", \"Topic14\", \"Topic14\", \"Topic14\", \"Topic14\", \"Topic14\", \"Topic14\", \"Topic14\", \"Topic14\", \"Topic14\", \"Topic14\", \"Topic14\", \"Topic14\", \"Topic14\", \"Topic14\", \"Topic14\", \"Topic14\", \"Topic14\", \"Topic14\", \"Topic14\", \"Topic14\", \"Topic14\", \"Topic14\", \"Topic14\", \"Topic14\", \"Topic14\", \"Topic14\", \"Topic14\", \"Topic14\", \"Topic14\", \"Topic14\", \"Topic14\", \"Topic14\", \"Topic14\", \"Topic14\", \"Topic14\", \"Topic15\", \"Topic15\", \"Topic15\", \"Topic15\", \"Topic15\", \"Topic15\", \"Topic15\", \"Topic15\", \"Topic15\", \"Topic15\", \"Topic15\", \"Topic15\", \"Topic15\", \"Topic15\", \"Topic15\", \"Topic15\", \"Topic15\", \"Topic15\", \"Topic15\", \"Topic15\", \"Topic15\", \"Topic15\", \"Topic15\", \"Topic15\", \"Topic15\", \"Topic15\", \"Topic15\", \"Topic15\", \"Topic15\", \"Topic15\", \"Topic15\", \"Topic15\", \"Topic15\", \"Topic15\", \"Topic15\", \"Topic15\", \"Topic15\", \"Topic15\", \"Topic15\", \"Topic15\", \"Topic15\", \"Topic15\", \"Topic15\", \"Topic15\", \"Topic15\", \"Topic15\", \"Topic15\", \"Topic15\", \"Topic15\", \"Topic15\", \"Topic15\", \"Topic15\", \"Topic15\", \"Topic16\", \"Topic16\", \"Topic16\", \"Topic16\", \"Topic16\", \"Topic16\", \"Topic16\", \"Topic16\", \"Topic16\", \"Topic16\", \"Topic16\", \"Topic16\", \"Topic16\", \"Topic16\", \"Topic16\", \"Topic16\", \"Topic16\", \"Topic16\", \"Topic16\", \"Topic16\", \"Topic16\", \"Topic16\", \"Topic16\", \"Topic16\", \"Topic16\", \"Topic16\", \"Topic16\", \"Topic16\", \"Topic16\", \"Topic16\", \"Topic16\", \"Topic16\", \"Topic16\", \"Topic16\", \"Topic16\", \"Topic16\", \"Topic16\", \"Topic16\", \"Topic16\", \"Topic16\", \"Topic16\", \"Topic16\", \"Topic16\", \"Topic16\", \"Topic16\", \"Topic16\", \"Topic16\", \"Topic16\", \"Topic16\", \"Topic16\", \"Topic16\", \"Topic16\", \"Topic16\", \"Topic16\", \"Topic16\", \"Topic16\", \"Topic16\", \"Topic17\", \"Topic17\", \"Topic17\", \"Topic17\", \"Topic17\", \"Topic17\", \"Topic17\", \"Topic17\", \"Topic17\", \"Topic17\", \"Topic17\", \"Topic17\", \"Topic17\", \"Topic17\", \"Topic17\", \"Topic17\", \"Topic17\", \"Topic17\", \"Topic17\", \"Topic17\", \"Topic17\", \"Topic17\", \"Topic17\", \"Topic17\", \"Topic17\", \"Topic17\", \"Topic17\", \"Topic17\", \"Topic17\", \"Topic17\", \"Topic17\", \"Topic17\", \"Topic17\", \"Topic17\", \"Topic17\", \"Topic17\", \"Topic17\", \"Topic17\", \"Topic17\", \"Topic17\", \"Topic17\", \"Topic17\", \"Topic17\", \"Topic18\", \"Topic18\", \"Topic18\", \"Topic18\", \"Topic18\", \"Topic18\", \"Topic18\", \"Topic18\", \"Topic18\", \"Topic18\", \"Topic18\", \"Topic18\", \"Topic18\", \"Topic18\", \"Topic18\", \"Topic18\", \"Topic18\", \"Topic18\", \"Topic18\", \"Topic18\", \"Topic18\", \"Topic18\", \"Topic18\", \"Topic18\", \"Topic18\", \"Topic18\", \"Topic18\", \"Topic18\", \"Topic18\", \"Topic18\", \"Topic18\", \"Topic18\", \"Topic18\", \"Topic18\", \"Topic18\", \"Topic18\", \"Topic18\", \"Topic18\", \"Topic18\", \"Topic18\", \"Topic18\", \"Topic18\", \"Topic18\", \"Topic18\", \"Topic18\", \"Topic18\", \"Topic18\", \"Topic18\", \"Topic18\", \"Topic18\", \"Topic18\", \"Topic18\", \"Topic18\", \"Topic18\", \"Topic19\", \"Topic19\", \"Topic19\", \"Topic19\", \"Topic19\", \"Topic19\", \"Topic19\", \"Topic19\", \"Topic19\", \"Topic19\", \"Topic19\", \"Topic19\", \"Topic19\", \"Topic19\", \"Topic19\", \"Topic19\", \"Topic19\", \"Topic19\", \"Topic19\", \"Topic19\", \"Topic19\", \"Topic19\", \"Topic19\", \"Topic19\", \"Topic19\", \"Topic19\", \"Topic19\", \"Topic19\", \"Topic19\", \"Topic19\", \"Topic19\", \"Topic19\", \"Topic19\", \"Topic19\", \"Topic19\", \"Topic19\", \"Topic19\", \"Topic19\", \"Topic19\", \"Topic19\", \"Topic19\", \"Topic19\", \"Topic19\", \"Topic19\", \"Topic19\", \"Topic19\", \"Topic19\", \"Topic19\", \"Topic19\", \"Topic19\", \"Topic19\", \"Topic20\", \"Topic20\", \"Topic20\", \"Topic20\", \"Topic20\", \"Topic20\", \"Topic20\", \"Topic20\", \"Topic20\", \"Topic20\", \"Topic20\", \"Topic20\", \"Topic20\", \"Topic20\", \"Topic20\", \"Topic20\", \"Topic20\", \"Topic20\", \"Topic20\", \"Topic20\", \"Topic20\", \"Topic20\", \"Topic20\", \"Topic20\", \"Topic20\", \"Topic20\", \"Topic20\", \"Topic20\", \"Topic20\", \"Topic20\", \"Topic20\", \"Topic20\", \"Topic20\", \"Topic20\", \"Topic20\", \"Topic20\", \"Topic20\", \"Topic20\", \"Topic20\"], \"logprob\": [30.0, 29.0, 28.0, 27.0, 26.0, 25.0, 24.0, 23.0, 22.0, 21.0, 20.0, 19.0, 18.0, 17.0, 16.0, 15.0, 14.0, 13.0, 12.0, 11.0, 10.0, 9.0, 8.0, 7.0, 6.0, 5.0, 4.0, 3.0, 2.0, 1.0, -4.8333, -5.3437, -5.6611, -5.8343, -5.8513, -5.8862, -6.1409, -6.2954, -6.3337, -6.3777, -6.4106, -6.6616, -6.6658, -6.7081, -6.8024, -6.7881, -6.8596, -6.8908, -6.9368, -6.8593, -6.9627, -7.0207, -7.0904, -7.1166, -7.1222, -7.1682, -7.1979, -7.2131, -6.5631, -7.2287, -5.7461, -5.4442, -5.8073, -5.14, -5.0534, -5.319, -5.5206, -5.8587, -5.8935, -5.5586, -5.3288, -5.9598, -6.0082, -5.4919, -4.5396, -4.9964, -4.5946, -4.5731, -5.8325, -5.3085, -4.5964, -5.6136, -4.6212, -4.1414, -5.172, -4.9211, -4.9156, -4.4485, -5.1951, -4.8013, -5.2432, -4.6166, -4.9388, -4.6026, -5.0554, -5.2323, -5.275, -5.2316, -5.1053, -5.1315, -5.2156, -5.3107, -4.6016, -5.3424, -5.3119, -5.7111, -5.9724, -6.0761, -6.101, -6.1093, -6.2936, -6.2857, -6.2168, -6.3847, -6.4106, -6.4785, -6.2586, -6.5676, -6.618, -6.6404, -6.6441, -6.6485, -6.7098, -6.7211, -6.7929, -6.8374, -6.8556, -6.8869, -6.934, -6.9411, -6.9488, -6.9596, -5.2681, -6.6491, -5.5472, -5.4185, -6.5339, -6.3785, -5.6233, -6.1883, -4.9417, -6.265, -5.567, -5.3838, -4.1344, -5.2879, -5.1747, -4.7599, -5.5907, -5.1863, -5.2068, -6.0263, -5.5569, -5.613, -5.3413, -5.3566, -5.5891, -5.79, -4.9742, -5.2261, -5.4707, -5.5118, -5.2806, -5.4617, -5.299, -5.3222, -5.4739, -5.3748, -6.1584, -6.2833, -6.6754, -6.6946, -6.7417, -6.8579, -6.8691, -7.0277, -7.1026, -7.1032, -7.1758, -7.0787, -7.2509, -7.2074, -7.3036, -7.3334, -7.3551, -7.3913, -7.3929, -7.3925, -7.4139, -7.4197, -7.4313, -7.4488, -7.4679, -7.4673, -7.4888, -7.4921, -7.4981, -6.4289, -4.781, -6.8625, -7.1149, -4.9434, -4.9896, -4.4852, -6.1213, -5.3896, -3.5786, -5.6183, -5.144, -4.231, -6.6226, -4.5041, -4.5141, -3.753, -6.0045, -4.9611, -4.8643, -4.4553, -4.0434, -4.8661, -4.7696, -4.852, -3.9526, -3.9859, -4.221, -5.5405, -5.2394, -5.4585, -4.2393, -4.7823, -5.1185, -4.7266, -5.1835, -5.0684, -5.3272, -5.1172, -5.3111, -5.2944, -5.126, -5.4604, -5.6201, -5.7457, -6.0095, -6.2342, -6.3654, -6.4159, -6.4184, -6.4202, -6.4372, -6.5002, -6.5093, -6.546, -6.5953, -6.6389, -6.6524, -6.6537, -6.6687, -6.7261, -6.7589, -6.813, -6.8197, -6.8345, -6.8831, -6.8939, -6.9542, -6.8981, -6.9617, -5.5281, -5.7295, -4.4491, -5.6448, -5.5531, -6.1631, -5.4136, -5.9232, -5.3797, -6.2825, -6.3115, -5.9481, -4.5302, -5.7939, -5.9752, -6.0563, -6.1158, -6.0337, -6.0784, -5.4746, -5.7716, -5.404, -5.6599, -5.8183, -5.9277, -5.2216, -4.8921, -4.8106, -5.5584, -5.9797, -5.1453, -5.0163, -5.6266, -5.2336, -5.7686, -5.5354, -5.6772, -5.6123, -5.7799, -5.7937, -4.7269, -5.2134, -5.3737, -5.4246, -5.4853, -5.5148, -5.6239, -5.6596, -5.7887, -6.0154, -6.0431, -6.1108, -6.0945, -6.2702, -6.2774, -6.2793, -5.6911, -6.3451, -6.3872, -6.4071, -5.5358, -6.4982, -6.5115, -6.5109, -6.604, -6.6121, -6.6288, -6.6381, -6.6633, -6.7098, -5.0528, -4.5709, -5.2075, -5.5726, -5.7746, -5.4573, -5.3749, -5.0259, -4.2282, -5.4496, -5.4726, -5.8755, -4.6657, -5.4626, -5.1015, -5.7342, -4.8348, -5.5888, -5.5734, -4.846, -5.1046, -5.2378, -5.2112, -5.1571, -5.2925, -5.4395, -5.4811, -5.55, -4.5911, -4.6987, -4.7532, -4.8382, -5.0217, -5.3731, -5.5782, -5.6065, -5.633, -5.6619, -5.7703, -5.8918, -5.9458, -5.9466, -6.0534, -6.1428, -6.1752, -6.1871, -6.2084, -6.2094, -6.2324, -6.2364, -6.3015, -6.3206, -6.3261, -6.3525, -6.3656, -6.381, -6.3879, -6.3903, -4.6059, -5.8472, -5.0926, -5.6428, -6.0637, -5.3889, -4.8856, -5.7848, -5.6445, -5.7869, -5.5944, -5.9457, -5.4874, -5.7148, -5.6668, -5.6191, -5.297, -4.7987, -4.49, -5.5443, -5.514, -5.1843, -5.5089, -5.2947, -5.6756, -5.5282, -5.6117, -4.7555, -5.2735, -5.5521, -5.5629, -5.5749, -5.611, -5.6228, -5.6986, -5.7921, -5.8617, -5.8857, -5.9734, -6.056, -6.1302, -6.1949, -6.2305, -6.2519, -6.2595, -6.2636, -6.3243, -6.3279, -6.335, -6.4816, -6.5583, -6.5667, -6.5683, -6.5794, -6.5806, -6.5849, -6.6433, -5.3802, -3.8064, -4.6294, -4.8185, -4.7774, -5.0496, -5.8392, -5.7159, -4.7266, -5.0766, -6.0657, -5.5012, -6.0975, -5.0549, -5.0288, -5.8042, -4.7735, -5.739, -5.4378, -5.069, -5.1679, -5.7253, -5.4962, -5.2579, -5.533, -5.5823, -5.6992, -5.1434, -5.5542, -5.7195, -5.8072, -6.0179, -6.116, -6.2887, -6.3804, -6.5035, -6.4913, -6.5426, -6.5585, -6.6376, -6.6873, -6.6952, -6.725, -6.7703, -6.7918, -6.7635, -6.8313, -6.8383, -6.8425, -6.8457, -6.8832, -6.9063, -6.9136, -6.9245, -6.9525, -6.954, -7.0471, -6.312, -6.093, -6.6401, -6.4631, -5.4591, -6.4055, -5.1687, -5.0139, -5.646, -5.8839, -5.3938, -5.6503, -5.4041, -5.8411, -5.9415, -4.8066, -5.676, -6.1769, -5.977, -5.793, -5.4856, -5.4113, -5.3516, -6.0175, -5.5907, -4.8551, -5.0216, -5.7233, -5.1784, -5.4413, -5.2374, -5.1133, -5.5428, -5.486, -5.4792, -5.4726, -5.4646, -5.1878, -5.1513, -5.4448, -5.3736, -5.3847, -5.4903, -5.5396, -5.5861, -4.1871, -5.295, -5.635, -5.6608, -5.6697, -5.757, -5.9387, -6.028, -6.0394, -5.9948, -6.1003, -5.9878, -6.1398, -6.1778, -6.2967, -6.3414, -6.3539, -6.3834, -6.4314, -6.4441, -6.4857, -6.5006, -6.5025, -6.2815, -6.5799, -6.5828, -6.5896, -6.6189, -6.6232, -6.6266, -4.8489, -5.503, -5.5836, -5.995, -4.4144, -6.1287, -4.6854, -5.6286, -5.8908, -4.2971, -5.5531, -5.2042, -5.358, -4.4791, -5.1554, -5.4487, -4.5557, -4.6197, -4.7661, -4.8841, -5.2526, -5.2135, -5.4297, -5.4528, -5.3859, -5.5414, -5.325, -5.3365, -5.3255, -5.3351, -5.4942, -5.521, -5.5769, -3.9343, -4.3734, -4.4363, -4.5678, -4.6555, -4.6996, -4.7108, -3.0758, -5.2167, -5.2704, -5.3994, -5.4945, -5.4468, -5.5626, -5.7156, -5.7439, -5.8619, -6.0728, -6.0816, -6.1021, -6.1058, -6.1283, -6.1748, -6.1997, -6.2424, -6.277, -6.3099, -6.3251, -6.369, -6.3961, -5.3025, -5.3927, -4.6633, -5.744, -5.6293, -5.7529, -5.5429, -5.1907, -5.3268, -5.4406, -5.1122, -4.9924, -5.2923, -4.5467, -4.843, -4.544, -4.9912, -5.1841, -4.9924, -5.1601, -5.3338, -4.9544, -5.4179, -5.3634, -3.8534, -4.6107, -4.6218, -4.6243, -4.7062, -4.7205, -5.1078, -5.1084, -5.2054, -5.4569, -5.5236, -5.5509, -5.611, -5.7275, -5.754, -5.7177, -5.775, -5.8222, -5.8395, -5.9655, -6.0521, -6.0997, -6.1002, -6.0768, -6.165, -6.1782, -4.6104, -6.2295, -6.2523, -6.2731, -3.1733, -3.9797, -4.1781, -5.8431, -4.3559, -4.7545, -5.3704, -5.5166, -4.5059, -5.3402, -5.4301, -5.0321, -3.8757, -3.971, -4.3521, -4.8227, -4.6825, -4.8637, -4.8359, -5.3513, -4.9459, -5.1421, -4.7979, -4.9358, -4.6933, -4.8246, -4.9932, -5.073, -5.0261, -5.0167, -4.9933, -4.5351, -4.7031, -5.0205, -5.1956, -5.3184, -5.4058, -5.4369, -5.4648, -5.5621, -5.585, -5.7605, -5.8196, -5.8351, -5.861, -5.9791, -6.0345, -6.0783, -6.0831, -6.0834, -6.0942, -6.16, -6.1729, -6.2217, -6.244, -6.3136, -6.3319, -6.1858, -6.3527, -6.3325, -6.409, -6.07, -5.594, -4.8653, -5.5039, -5.1975, -5.0432, -5.9143, -5.7878, -5.9862, -5.0948, -5.4679, -5.1558, -5.1294, -5.376, -4.792, -5.6189, -5.2354, -4.3417, -5.5439, -5.3846, -5.0154, -5.253, -4.9148, -5.1359, -5.3911, -5.1996, -4.8949, -5.0214, -5.167, -5.2713, -5.3532, -5.1651, -5.2306, -5.3835, -5.3893, -5.041, -5.4266, -5.5915, -5.6503, -5.8466, -5.913, -6.0114, -6.069, -6.1638, -6.29, -6.2718, -6.3789, -6.4827, -6.4828, -6.4971, -6.5377, -6.543, -6.5752, -6.5832, -6.6034, -6.6195, -6.693, -6.6501, -6.7662, -6.7825, -6.8202, -6.8721, -6.8875, -6.8887, -6.9016, -6.6992, -4.4568, -5.3676, -4.2275, -5.5688, -4.3357, -5.1781, -5.2632, -5.1642, -4.2681, -4.2281, -5.0197, -5.6496, -5.0584, -4.8118, -5.9943, -5.4039, -4.916, -6.352, -4.9207, -5.2096, -5.414, -4.4364, -5.3506, -4.9243, -4.9821, -4.7338, -5.2458, -4.7427, -4.5089, -4.8767, -4.8924, -4.9493, -5.0926, -5.1304, -4.9518, -5.0609, -5.1138, -4.0655, -4.5914, -4.5939, -4.4463, -4.262, -4.7269, -4.8929, -5.1398, -5.1435, -5.1745, -5.199, -5.2224, -5.2278, -5.2818, -5.2974, -5.3302, -5.3434, -5.5233, -5.5623, -5.5834, -5.6156, -5.6188, -5.6436, -5.6646, -5.6223, -5.6786, -5.7072, -5.7251, -5.7336, -5.7637, -4.0418, -3.9934, -4.7581, -4.9057, -5.1113, -4.9363, -5.0011, -5.3814, -3.7262, -5.077, -4.0913, -4.6662, -4.7759, -4.3601, -4.2506, -4.6684, -5.1528, -5.0253, -4.3995, -4.8655, -5.0299, -4.8895, -5.0654, -5.0412, -4.9398, -5.1092, -2.737, -4.1345, -4.2486, -4.6665, -4.9115, -4.6536, -5.0857, -5.2949, -5.3463, -5.3539, -5.4388, -5.4526, -5.5107, -5.5224, -5.5519, -5.6159, -5.6176, -5.7642, -5.7689, -5.7742, -5.7885, -5.8427, -5.9302, -5.9857, -5.9961, -6.0007, -6.043, -6.0671, -6.1091, -6.143, -4.6891, -5.3497, -2.5059, -5.3481, -4.6286, -5.7528, -5.0418, -5.7944, -5.3768, -4.737, -4.5443, -4.6076, -4.6724, -5.3194, -4.651, -4.4763, -4.8066, -5.3475, -5.1594, -5.1992, -5.3137, -5.2727, -5.2764, -4.0751, -4.3885, -4.6129, -4.7129, -4.9814, -5.0013, -5.0274, -5.0848, -5.3459, -5.3678, -5.443, -5.4548, -5.5528, -5.538, -5.5959, -5.7353, -5.7793, -5.8023, -5.8056, -5.8558, -5.883, -3.4256, -5.8906, -5.9414, -5.9494, -5.9882, -6.0329, -6.0462, -6.0711, -5.3943, -4.052, -5.0407, -4.1684, -5.358, -4.2637, -4.2169, -4.3392, -3.3113, -5.0776, -4.1924, -4.1437, -5.2805, -4.8842, -4.4435, -4.7836, -4.8374, -4.7488, -4.8457, -4.435, -4.6566, -4.948, -4.5984, -4.2747, -4.7541, -4.9036, -4.916, -4.9593, -1.4144, -3.3732, -3.7543, -3.8365, -3.9395, -4.3099, -4.5165, -4.6464, -4.7866, -4.9249, -4.9442, -5.0196, -5.0531, -5.0965, -5.1264, -5.1388, -5.1414, -5.143, -5.1546, -5.1778, -5.2763, -5.3622, -5.3942, -5.4102, -5.4685, -5.488, -5.5135, -5.5313, -5.5396, -5.5451, -3.9397, -2.9346, -4.4532, -4.4122, -4.6059, -3.6332, -4.5212, -4.3413, -5.0074, -3.8598, -4.0292, -4.8909, -5.0887, -3.9569, -4.0334, -4.4541, -3.0992, -4.6842, -4.9721, -5.0588, -5.3042, -5.4145, -5.4812, -5.4877, -5.5418, -3.8099, -5.5895, -5.6762, -5.5183, -5.7017, -5.7053, -5.7077, -5.7137, -5.7264, -5.7969, -5.8261, -5.8389, -5.8422, -5.9223, -6.0462, -6.0554, -6.0669, -6.0806, -4.3385, -4.5364, -4.8962, -3.313, -5.3385, -4.3287, -4.6704, -5.0098, -4.8778, -4.6415, -3.5073, -4.6238, -5.4818, -3.6836, -5.0619, -4.3317, -4.9434, -4.5892, -4.4583, -4.1834, -5.0142, -5.1637, -5.1046, -4.8252, -3.6771, -4.0639, -4.5478, -4.5916, -4.6137, -4.6909, -4.7282, -4.9249, -5.0015, -5.0215, -5.1515, -5.1611, -5.1644, -5.1786, -5.2581, -5.285, -5.2883, -5.3106, -5.3309, -5.3414, -5.3438, -5.3761, -5.468, -5.4827, -5.4872, -5.5366, -5.5425, -5.5627, -5.5916, -5.5991, -3.0907, -2.654, -5.2516, -4.9705, -2.7608, -4.3681, -4.6725, -4.4984, -4.5035, -3.2729, -4.4719, -4.1398, -3.3378, -4.3291, -5.0168, -4.0782, -5.0156, -4.913, -4.9177, -4.8449, -4.9536, -3.5446, -3.7047, -3.8414, -3.8545, -3.8944, -3.9414, -4.0205, -4.078, -4.0792, -4.1437, -4.1666, -4.1565, -4.2046, -4.3139, -4.0547, -4.4027, -4.4105, -4.4239, -4.4264, -4.4324, -4.4675, -4.4765, -4.4849, -4.5267, -4.5774, -3.7596, -5.0107, -5.2445, -5.35, -5.3534, -3.9093, -4.1637, -3.515, -3.8893, -3.7121, -4.0437, -3.8962, -4.0467, -3.7928], \"loglift\": [30.0, 29.0, 28.0, 27.0, 26.0, 25.0, 24.0, 23.0, 22.0, 21.0, 20.0, 19.0, 18.0, 17.0, 16.0, 15.0, 14.0, 13.0, 12.0, 11.0, 10.0, 9.0, 8.0, 7.0, 6.0, 5.0, 4.0, 3.0, 2.0, 1.0, 2.2252, 2.2243, 2.2234, 2.2229, 2.2228, 2.2227, 2.2215, 2.2207, 2.2205, 2.2201, 2.22, 2.2182, 2.2181, 2.2178, 2.2169, 2.2164, 2.2163, 2.216, 2.2155, 2.2154, 2.2153, 2.2146, 2.2137, 2.2134, 2.2133, 2.2126, 2.2123, 2.2121, 2.212, 2.2119, 2.2006, 2.1906, 2.1943, 2.1788, 2.1701, 2.1743, 2.1713, 2.1806, 2.1766, 2.1489, 2.1108, 2.1452, 2.138, 2.086, 1.9701, 1.9988, 1.9405, 1.9115, 2.0941, 1.9713, 1.7558, 2.0218, 1.6538, 1.4176, 1.787, 1.6418, 1.6238, 1.2517, 1.7201, 1.4193, 1.5972, 0.8373, 1.1514, 0.7306, 1.1802, 1.2055, 1.2239, 0.9424, 0.2824, 0.2213, 0.4086, 1.2211, 2.483, 2.4815, 2.4808, 2.4802, 2.4788, 2.4784, 2.4782, 2.4782, 2.4769, 2.4768, 2.4768, 2.4762, 2.476, 2.4754, 2.4746, 2.4746, 2.4741, 2.4739, 2.4738, 2.4737, 2.4731, 2.473, 2.4721, 2.4716, 2.4714, 2.4709, 2.4703, 2.4702, 2.4701, 2.4699, 2.4588, 2.4604, 2.405, 2.3889, 2.4474, 2.4197, 2.3054, 2.3515, 2.0695, 2.3593, 1.9511, 1.8239, 1.1705, 1.7659, 1.6219, 1.3455, 1.8363, 1.529, 1.4532, 2.1086, 1.6044, 1.5138, 1.0706, 1.0922, 1.4322, 1.7248, 0.3786, 0.7863, 1.161, 1.1625, 0.4196, 0.8132, 0.26, 0.2873, 0.6219, 2.4962, 2.4926, 2.4917, 2.4882, 2.4879, 2.4874, 2.486, 2.4858, 2.4835, 2.4823, 2.4823, 2.481, 2.4806, 2.4796, 2.4788, 2.4786, 2.478, 2.4775, 2.4767, 2.4767, 2.4767, 2.4761, 2.4761, 2.4758, 2.4754, 2.475, 2.4749, 2.4744, 2.4744, 2.4742, 2.4431, 2.3906, 2.4536, 2.459, 2.3068, 2.293, 2.1549, 2.3338, 2.2037, 1.8753, 2.1837, 2.087, 1.9073, 2.3313, 1.8566, 1.8469, 1.6347, 2.162, 1.8603, 1.8272, 1.692, 1.5662, 1.7776, 1.7123, 1.7379, 1.4002, 1.3473, 1.4032, 1.9608, 1.8203, 1.8905, 1.0656, 1.3135, 1.5005, 1.0779, 1.444, 1.037, 1.5335, 0.8849, 1.4587, 1.1174, 2.5419, 2.5409, 2.5403, 2.5398, 2.5374, 2.5369, 2.5359, 2.5354, 2.5354, 2.5354, 2.5352, 2.5347, 2.5346, 2.534, 2.5337, 2.5332, 2.5331, 2.533, 2.5329, 2.5322, 2.5318, 2.5311, 2.531, 2.5308, 2.5301, 2.53, 2.5291, 2.529, 2.529, 2.5285, 2.5285, 2.5059, 2.5158, 2.437, 2.4751, 2.3722, 2.4251, 2.3376, 2.4582, 2.4618, 2.3965, 2.1089, 2.3464, 2.3808, 2.3838, 2.387, 2.3378, 2.3518, 2.0366, 2.1568, 1.9281, 2.0848, 2.1418, 2.1854, 1.6145, 1.1981, 0.9402, 1.6552, 2.2198, 0.6592, 0.3169, 1.537, 0.3906, 1.4958, 0.0237, 0.5584, -0.2246, 1.0759, 1.2873, 2.5861, 2.585, 2.5846, 2.5844, 2.5842, 2.5841, 2.5836, 2.5834, 2.5829, 2.5816, 2.5814, 2.5809, 2.5805, 2.5798, 2.5797, 2.5797, 2.5796, 2.579, 2.5788, 2.5786, 2.5782, 2.5777, 2.5776, 2.5775, 2.5766, 2.5764, 2.5763, 2.5762, 2.5759, 2.5753, 2.567, 2.5437, 2.5532, 2.5418, 2.546, 2.5223, 2.5099, 2.4604, 2.2871, 2.4461, 2.4383, 2.4954, 2.1881, 2.3424, 2.195, 2.3849, 1.8252, 2.1313, 1.9623, 0.4589, 0.9078, 1.1229, 0.5396, 0.1957, 0.3171, 1.0702, 0.6928, -0.1623, 2.6804, 2.6802, 2.6801, 2.6799, 2.6795, 2.6784, 2.6776, 2.6775, 2.6774, 2.6772, 2.6767, 2.676, 2.6757, 2.6756, 2.6749, 2.6743, 2.674, 2.6739, 2.6737, 2.6737, 2.6735, 2.6735, 2.6729, 2.6727, 2.6727, 2.6724, 2.6723, 2.6722, 2.6721, 2.6721, 2.6473, 2.6437, 2.5968, 2.628, 2.6537, 2.5474, 2.4544, 2.5681, 2.4988, 2.5106, 2.3908, 2.552, 2.2638, 2.3873, 2.3333, 2.2683, 1.934, 1.3395, 0.8149, 2.091, 2.0223, 1.3311, 1.9628, 1.3729, 2.1167, 0.8745, 0.5356, 2.727, 2.7258, 2.7247, 2.7247, 2.7246, 2.7244, 2.7244, 2.724, 2.7235, 2.7231, 2.7229, 2.7224, 2.7218, 2.7212, 2.7207, 2.7203, 2.7201, 2.7201, 2.72, 2.7195, 2.7194, 2.7194, 2.7178, 2.7169, 2.7168, 2.7168, 2.7166, 2.7166, 2.7164, 2.7158, 2.704, 2.6673, 2.6731, 2.6431, 2.6365, 2.6423, 2.672, 2.6312, 2.4575, 2.4463, 2.6605, 2.4934, 2.663, 2.2757, 2.1732, 2.4275, 1.5389, 2.3467, 2.018, 1.3183, 1.331, 2.2501, 1.5292, 0.4929, 0.8044, 0.8204, 1.1369, 2.7354, 2.7339, 2.7331, 2.7326, 2.7312, 2.7304, 2.7289, 2.728, 2.7267, 2.7265, 2.7262, 2.726, 2.725, 2.7243, 2.7242, 2.7237, 2.7231, 2.7227, 2.7227, 2.7221, 2.722, 2.7219, 2.7219, 2.7212, 2.7208, 2.7207, 2.7205, 2.72, 2.7198, 2.7182, 2.7107, 2.6941, 2.7012, 2.6805, 2.583, 2.6717, 2.5436, 2.5218, 2.5428, 2.5277, 2.4115, 2.4583, 2.3746, 2.4503, 2.4768, 2.1147, 2.385, 2.5231, 2.4383, 2.3594, 2.197, 2.1405, 2.0844, 2.3959, 2.0213, 1.3805, 1.4272, 2.0969, 1.4577, 1.6855, 1.3424, 1.0606, 1.6758, 1.4654, 1.3991, 1.3678, 1.3084, 0.3712, 0.1536, 0.7757, 0.236, 0.3155, -0.1375, 0.5506, 1.4129, 2.7382, 2.7358, 2.7343, 2.7342, 2.7342, 2.7337, 2.7326, 2.7319, 2.7319, 2.7316, 2.7314, 2.7311, 2.7311, 2.7308, 2.7297, 2.7292, 2.7291, 2.7288, 2.7283, 2.7282, 2.7277, 2.7275, 2.7275, 2.7273, 2.7265, 2.7265, 2.7264, 2.726, 2.726, 2.7259, 2.5653, 2.5634, 2.5674, 2.5597, 1.923, 2.5415, 1.8779, 2.2822, 2.404, 1.5074, 2.1965, 1.8849, 1.8923, 1.1305, 1.6175, 1.8582, 0.832, 0.7331, 0.567, 0.7401, 1.3372, 1.1891, 1.5, 1.3978, 1.1507, 1.5376, 0.7805, 0.8108, 0.6869, 0.667, 0.8668, 1.1533, 1.5641, 2.9216, 2.921, 2.9209, 2.9206, 2.9204, 2.9203, 2.9203, 2.9191, 2.9187, 2.9185, 2.9179, 2.9175, 2.9174, 2.9171, 2.9162, 2.916, 2.9152, 2.9134, 2.9133, 2.9131, 2.9131, 2.9129, 2.9124, 2.9122, 2.9117, 2.9113, 2.9109, 2.9108, 2.9102, 2.9099, 2.9055, 2.9012, 2.883, 2.9011, 2.8924, 2.8927, 2.8515, 2.6694, 2.6566, 2.6798, 2.5508, 2.3146, 2.4588, 1.8652, 2.0757, 1.1562, 1.7774, 1.9076, 1.1033, 1.5075, 1.9985, 0.3505, 2.2708, 0.6387, 3.0387, 3.0382, 3.0381, 3.0381, 3.0379, 3.0379, 3.0366, 3.0366, 3.0362, 3.035, 3.0346, 3.0344, 3.034, 3.0332, 3.033, 3.033, 3.0329, 3.0325, 3.0324, 3.0312, 3.0304, 3.0299, 3.0299, 3.0295, 3.0292, 3.029, 3.0287, 3.0284, 3.0282, 3.0279, 3.0166, 3.0221, 3.0151, 3.0253, 2.9931, 2.9979, 3.0125, 3.0063, 2.9589, 2.9846, 2.9723, 2.8543, 2.5116, 2.4579, 2.5135, 2.6792, 2.6192, 2.5895, 2.4595, 2.8644, 2.4668, 2.6521, 2.2507, 2.1654, 1.6191, 1.8785, 2.091, 2.2594, 1.9329, 1.8462, 0.8421, 3.2483, 3.2478, 3.2459, 3.2457, 3.245, 3.2445, 3.2442, 3.2441, 3.2433, 3.2432, 3.2417, 3.2411, 3.2409, 3.2407, 3.2394, 3.2387, 3.2382, 3.2381, 3.2381, 3.2375, 3.2371, 3.2369, 3.2359, 3.2358, 3.2348, 3.2345, 3.2342, 3.2341, 3.2341, 3.2331, 3.225, 3.1984, 3.1599, 3.0815, 3.0006, 2.927, 3.1353, 3.0782, 3.1486, 2.7059, 2.8305, 2.5062, 2.3081, 2.5426, 1.7708, 2.7018, 2.233, 1.0111, 2.5901, 2.2674, 1.5212, 1.9959, 1.2591, 1.6372, 2.2314, 1.5702, 0.4383, 0.7831, 1.2357, 1.4031, 1.943, 0.1398, 0.2233, 1.3561, 1.0926, 3.4103, 3.4077, 3.4063, 3.4053, 3.4036, 3.4028, 3.4015, 3.4006, 3.3991, 3.3969, 3.3965, 3.3952, 3.393, 3.3929, 3.3927, 3.3917, 3.3916, 3.3908, 3.3906, 3.3901, 3.3897, 3.3877, 3.3869, 3.3857, 3.3852, 3.384, 3.3824, 3.3819, 3.3818, 3.3813, 3.3796, 3.3458, 3.3573, 3.2908, 3.3392, 3.2798, 3.316, 3.3079, 3.2958, 3.2375, 3.148, 3.2089, 3.2713, 3.1515, 2.9502, 3.2505, 3.0351, 2.8476, 3.3427, 2.7812, 2.8982, 2.9778, 2.5105, 2.931, 2.6874, 2.6512, 2.3938, 2.7218, 2.191, 1.9289, 2.3171, 2.1842, 1.8754, 2.0086, 2.0789, 1.1384, 1.5707, 1.4659, 3.5916, 3.5899, 3.5899, 3.5899, 3.5895, 3.5893, 3.5884, 3.5869, 3.5869, 3.5866, 3.5865, 3.5863, 3.5862, 3.5858, 3.5857, 3.5854, 3.5853, 3.5836, 3.5831, 3.5829, 3.5826, 3.5825, 3.5822, 3.582, 3.582, 3.5818, 3.5815, 3.5812, 3.5811, 3.5807, 3.5559, 3.536, 3.5545, 3.5352, 3.5383, 3.4773, 3.4842, 3.5406, 3.2035, 3.4732, 3.1802, 3.3175, 3.3094, 3.1225, 3.0563, 3.0446, 3.3839, 2.9964, 1.3513, 2.4669, 2.9242, 1.7496, 2.786, 2.5534, 1.3976, 1.6778, 3.6108, 3.6104, 3.6101, 3.6085, 3.6073, 3.6067, 3.6054, 3.6046, 3.6041, 3.6041, 3.6033, 3.6031, 3.6025, 3.6023, 3.6021, 3.6014, 3.6014, 3.5995, 3.5994, 3.5994, 3.5992, 3.5984, 3.5971, 3.5962, 3.596, 3.5959, 3.5952, 3.5948, 3.594, 3.5933, 3.5504, 3.5461, 3.3296, 3.5346, 3.3667, 3.5541, 3.3831, 3.5507, 3.4014, 3.1042, 2.9481, 2.8466, 2.8852, 3.2415, 2.6918, 2.0631, 2.1997, 3.0979, 2.5284, 2.5547, 2.9411, 1.9163, 1.9076, 3.6836, 3.6826, 3.6815, 3.6812, 3.6796, 3.6795, 3.6793, 3.6789, 3.6766, 3.6765, 3.6757, 3.6756, 3.6745, 3.6745, 3.674, 3.6721, 3.6715, 3.6712, 3.6711, 3.6703, 3.6699, 3.6698, 3.6698, 3.6689, 3.6688, 3.6681, 3.6673, 3.667, 3.6665, 3.6663, 3.6266, 3.6425, 3.5589, 3.6312, 3.4682, 3.4089, 3.4049, 3.2206, 3.5218, 3.2848, 3.115, 3.4827, 3.2015, 2.9056, 3.1103, 3.105, 2.9994, 2.9761, 2.4559, 2.6538, 3.0293, 2.1745, 1.4761, 2.1116, 2.7232, 2.1039, 2.221, 3.8116, 3.8103, 3.8096, 3.8094, 3.8092, 3.808, 3.8071, 3.8064, 3.8056, 3.8047, 3.8046, 3.804, 3.8037, 3.8034, 3.8031, 3.803, 3.803, 3.803, 3.8029, 3.8026, 3.8017, 3.8008, 3.8004, 3.8002, 3.7996, 3.7993, 3.799, 3.7988, 3.7987, 3.7986, 3.7627, 3.6401, 3.7283, 3.7191, 3.7023, 3.4919, 3.6008, 3.496, 3.6398, 3.0117, 2.886, 3.4541, 2.2435, 3.9932, 3.9929, 3.9906, 3.99, 3.9897, 3.9875, 3.9866, 3.9839, 3.9825, 3.9815, 3.9814, 3.9806, 3.9798, 3.9796, 3.9783, 3.9781, 3.9779, 3.9778, 3.9777, 3.9776, 3.9774, 3.976, 3.9754, 3.9752, 3.9751, 3.9733, 3.9703, 3.9701, 3.9698, 3.9694, 3.9525, 3.9465, 3.9523, 3.8662, 3.9397, 3.8701, 3.7461, 3.7978, 3.7183, 3.6442, 3.255, 3.5933, 3.8637, 2.8153, 3.5947, 3.015, 3.3932, 2.9032, 2.7124, 2.2454, 3.2589, 3.0266, 2.706, 0.7339, 4.7131, 4.7109, 4.7062, 4.7057, 4.7054, 4.7043, 4.7038, 4.7007, 4.6993, 4.6989, 4.6963, 4.6961, 4.696, 4.6957, 4.6938, 4.6932, 4.6931, 4.6925, 4.692, 4.6917, 4.6916, 4.6908, 4.6882, 4.6877, 4.6876, 4.6861, 4.6859, 4.6852, 4.6843, 4.684, 4.5911, 4.4857, 4.6593, 4.6207, 4.0152, 4.4067, 4.4531, 4.3828, 4.3743, 3.607, 4.2041, 3.8492, 3.2016, 3.796, 4.4308, 3.1404, 4.3534, 4.0767, 2.7415, 1.6397, 1.6739, 4.8514, 4.8506, 4.8497, 4.8496, 4.8493, 4.849, 4.8483, 4.8478, 4.8478, 4.8473, 4.847, 4.8468, 4.8467, 4.8455, 4.8453, 4.8445, 4.8444, 4.8443, 4.8442, 4.8442, 4.8437, 4.8436, 4.843, 4.8429, 4.8422, 4.8404, 4.8345, 4.8288, 4.8258, 4.8257, 4.7979, 4.7897, 4.6819, 4.7073, 4.6427, 4.6922, 3.8603, 4.0541, 2.0427]}, \"token.table\": {\"Topic\": [1, 4, 7, 15, 18, 1, 1, 2, 4, 9, 10, 10, 1, 7, 8, 15, 19, 16, 5, 6, 7, 1, 3, 20, 3, 6, 3, 5, 7, 5, 1, 2, 4, 5, 7, 9, 12, 2, 4, 16, 13, 19, 1, 8, 10, 4, 5, 16, 2, 4, 15, 6, 14, 11, 15, 2, 1, 5, 8, 10, 19, 1, 18, 1, 7, 11, 13, 1, 4, 1, 7, 15, 4, 6, 7, 14, 15, 16, 6, 6, 7, 11, 13, 6, 2, 8, 9, 10, 13, 18, 18, 6, 6, 6, 1, 4, 6, 7, 10, 18, 1, 2, 5, 7, 9, 10, 13, 1, 4, 5, 8, 12, 13, 1, 2, 4, 5, 12, 16, 7, 8, 8, 3, 7, 16, 10, 10, 10, 16, 14, 13, 19, 5, 1, 4, 11, 13, 15, 18, 5, 9, 3, 6, 6, 1, 2, 5, 9, 12, 19, 9, 13, 4, 17, 5, 20, 9, 2, 3, 4, 5, 6, 7, 8, 9, 11, 13, 18, 4, 8, 9, 5, 20, 4, 19, 16, 2, 9, 3, 3, 6, 2, 8, 2, 3, 8, 1, 2, 3, 5, 9, 10, 3, 14, 2, 4, 5, 8, 9, 12, 13, 16, 1, 2, 3, 4, 5, 7, 8, 9, 12, 13, 16, 17, 10, 10, 15, 11, 11, 1, 17, 1, 2, 3, 5, 8, 9, 12, 15, 16, 18, 1, 17, 4, 10, 11, 14, 4, 2, 3, 6, 12, 20, 9, 16, 15, 2, 3, 4, 7, 8, 12, 15, 8, 2, 8, 16, 19, 2, 19, 15, 20, 6, 14, 4, 16, 14, 12, 13, 3, 20, 14, 18, 1, 4, 5, 7, 11, 13, 3, 4, 16, 1, 4, 5, 8, 9, 10, 1, 19, 17, 1, 11, 1, 17, 20, 14, 20, 14, 1, 3, 4, 6, 9, 10, 12, 2, 19, 20, 8, 9, 1, 5, 18, 12, 9, 3, 4, 5, 1, 17, 1, 5, 6, 9, 16, 17, 9, 15, 2, 4, 6, 9, 15, 4, 5, 19, 1, 2, 3, 4, 5, 6, 7, 8, 9, 10, 12, 13, 15, 19, 10, 2, 4, 6, 12, 13, 18, 13, 18, 4, 7, 7, 2, 3, 6, 8, 9, 13, 2, 4, 7, 9, 10, 12, 10, 11, 13, 20, 13, 20, 14, 2, 3, 6, 7, 18, 1, 1, 10, 10, 10, 10, 10, 4, 7, 2, 3, 4, 5, 6, 7, 14, 6, 2, 3, 8, 9, 10, 13, 11, 5, 1, 5, 15, 9, 1, 8, 11, 13, 15, 18, 18, 1, 10, 16, 1, 15, 1, 2, 3, 4, 5, 6, 9, 10, 12, 19, 13, 15, 11, 15, 20, 19, 15, 1, 5, 7, 8, 17, 2, 3, 4, 12, 16, 2, 16, 5, 6, 1, 2, 5, 6, 1, 4, 7, 8, 9, 11, 15, 18, 8, 13, 11, 1, 2, 4, 5, 6, 7, 8, 16, 18, 17, 5, 2, 10, 8, 8, 1, 8, 1, 2, 8, 9, 3, 4, 9, 13, 14, 1, 2, 4, 5, 9, 12, 1, 2, 3, 4, 5, 6, 7, 8, 9, 12, 13, 15, 15, 5, 1, 17, 18, 19, 1, 2, 6, 2, 5, 8, 10, 13, 14, 5, 5, 14, 9, 14, 15, 12, 1, 3, 4, 8, 11, 12, 13, 16, 13, 8, 18, 12, 4, 4, 6, 2, 8, 1, 4, 5, 7, 11, 17, 18, 1, 18, 18, 6, 3, 5, 9, 10, 13, 15, 1, 2, 3, 4, 6, 7, 8, 9, 10, 11, 12, 15, 2, 8, 15, 7, 13, 13, 13, 1, 4, 13, 18, 1, 20, 14, 7, 9, 11, 15, 19, 16, 1, 2, 3, 4, 5, 6, 8, 9, 10, 12, 13, 1, 3, 4, 5, 6, 8, 9, 10, 12, 12, 12, 1, 4, 11, 19, 3, 5, 8, 10, 12, 13, 9, 1, 17, 16, 1, 4, 11, 10, 7, 8, 14, 12, 6, 9, 12, 10, 15, 1, 2, 3, 4, 8, 9, 10, 11, 12, 13, 16, 17, 1, 2, 5, 8, 9, 11, 12, 16, 5, 12, 14, 3, 2, 15, 18, 1, 2, 3, 4, 5, 6, 8, 9, 10, 11, 12, 4, 5, 15, 16, 17, 18, 19, 18, 4, 5, 17, 1, 4, 16, 4, 16, 4, 17, 4, 5, 13, 20, 4, 2, 18, 2, 3, 7, 12, 8, 12, 12, 5, 4, 7, 19, 20, 1, 8, 11, 14, 15, 16, 20, 7, 5, 17, 1, 4, 5, 7, 11, 15, 18, 4, 1, 7, 8, 13, 16, 5, 3, 4, 5, 6, 7, 8, 9, 10, 11, 12, 13, 17, 18, 7, 13, 5, 4, 8, 4, 8, 8, 11, 13, 14, 11, 13, 14, 1, 4, 1, 2, 13, 5, 10, 12, 17, 1, 3, 4, 10, 13, 2, 3, 6, 10, 12, 13, 2, 5, 6, 8, 10, 1, 2, 3, 4, 5, 8, 9, 10, 13, 15, 18, 8, 4, 9, 15, 12, 1, 2, 3, 5, 6, 10, 13, 6, 10, 13, 1, 10, 7, 12, 6, 8, 9, 13, 11, 2, 4, 5, 6, 8, 9, 12, 1, 2, 3, 6, 7, 8, 9, 10, 12, 13, 10, 13, 8, 9, 1, 5, 6, 12, 15, 4, 9, 9, 1, 11, 12, 12, 12, 1, 7, 15, 16, 18, 5, 20, 4, 15, 16, 18, 2, 5, 7, 3, 1, 11, 8, 11, 19, 2, 2, 8, 8, 9, 19, 7, 1, 17, 9, 8, 1, 3, 4, 6, 7, 8, 10, 12, 13, 16, 10, 16, 18, 6, 12, 12, 1, 11, 18, 17, 2, 4, 8, 18, 14, 9, 4, 1, 11, 16, 4, 1, 11, 13, 5, 5, 2, 5, 9, 9, 14, 3, 2, 4, 20, 1, 2, 3, 4, 5, 6, 7, 8, 10, 11, 12, 13, 15, 6, 1, 6, 13, 17, 18, 1, 2, 3, 4, 5, 6, 8, 9, 10, 11, 13, 17, 7, 15, 5, 14, 3, 10, 10, 1, 2, 3, 4, 5, 6, 9, 12, 3, 16, 1, 2, 3, 4, 5, 7, 9, 12, 15, 16, 20, 10, 1, 2, 3, 4, 5, 9, 12, 7, 15, 5, 6, 18, 16, 18, 18, 1, 2, 3, 4, 5, 6, 7, 9, 10, 11, 14, 15, 6, 6, 10, 3, 4, 6, 7, 12, 2, 4, 5, 6, 7, 8, 10, 11, 12, 6, 8, 15, 13, 2, 2, 3, 2, 2, 3, 5, 6, 9, 14, 1, 2, 4, 8, 9, 17, 1, 8, 17, 19, 14, 20, 2, 7, 9, 12, 1, 3, 7, 8, 6, 10, 3, 5, 9, 10, 12, 12, 1, 6, 9, 11, 12, 13, 11, 1, 2, 3, 4, 5, 7, 9, 12, 14, 16, 17, 18, 2, 3, 6, 7, 8, 9, 10, 3, 4, 5, 9, 12, 14, 6, 9, 14, 8, 10, 12, 1, 2, 4, 5, 6, 9, 2, 9, 9, 9, 18, 8, 15, 8, 6, 7, 12, 3, 4, 5, 6, 12, 9, 1, 15, 17, 4, 7, 12, 14, 17, 1, 2, 4, 5, 7, 9, 13, 3, 5, 11, 18, 7, 11, 18, 15, 1, 2, 4, 7, 8, 10, 11, 15, 1, 4, 7, 8, 9, 11, 12, 15, 16, 17, 1, 4, 7, 11, 1, 3, 5, 6, 7, 8, 11, 13, 15, 18, 18, 8, 18, 12, 2, 4, 15, 1, 15, 17, 7, 13, 4, 5, 11, 13, 1, 20, 3, 6, 7, 8, 15, 1, 3, 4, 7, 8, 11, 12, 15, 16, 19, 10, 19, 1, 8, 15, 18, 2, 17, 2, 2, 4, 6, 9, 6, 10, 6, 19, 14, 10, 14, 6, 10, 6, 10, 5, 1, 7, 8, 10, 12, 13, 14, 14, 6, 7, 18, 3, 8, 10, 13, 17, 1, 2, 3, 4, 5, 6, 8, 9, 10, 12, 16, 15, 1, 5, 7, 8, 13, 1, 11, 1, 12, 2, 6, 15, 2, 3, 5, 6, 9, 12, 1, 2, 3, 4, 5, 6, 8, 9, 10, 12, 20, 7, 8, 12, 4, 5, 6, 10, 1, 2, 3, 4, 5, 7, 8, 11, 18, 18, 1, 3, 4, 5, 6, 9, 10, 12, 13, 7, 7, 2, 5, 10, 2, 11, 14, 14, 12, 6, 3, 6, 8, 10, 12, 1, 3, 4, 6, 8, 9, 10, 2, 5, 14, 1, 2, 3, 4, 5, 6, 9, 10, 12, 19, 11, 11, 7, 15, 2, 3, 5, 6, 7, 8, 9, 10, 12, 13, 2, 3, 4, 13, 3, 1, 2, 3, 4, 5, 6, 7, 8, 9, 10, 11, 12, 13, 15, 16, 1, 3, 4, 8, 9, 13, 15, 1, 3, 4, 6, 7, 10, 11, 13, 14, 15, 19, 1, 6, 11, 15, 19, 1, 2, 3, 4, 5, 8, 9, 12, 2, 4, 5, 7, 10, 12, 13, 1, 3, 4, 5, 6, 7, 16, 1, 2, 3, 4, 5, 6, 9, 10, 11, 15, 2, 3, 10, 7, 14, 1, 3, 4, 5, 8, 9, 12, 16, 14, 3, 4, 7, 9, 17, 18, 7, 1, 15, 1, 3, 8, 12, 15, 1, 8, 17, 17, 1, 4, 7, 11, 15, 19, 19, 1, 2, 3, 4, 5, 6, 7, 8, 9, 10, 11, 12, 13, 15, 16, 3, 4, 6, 8, 9, 10, 12, 13, 15, 1, 9, 8, 1, 4, 16, 18, 16, 1, 2, 7, 9, 10, 14, 15, 12, 12, 7, 7, 10, 13, 17, 1, 1, 2, 3, 5, 8, 9, 10, 12, 2, 5, 6, 8, 9, 10, 2, 3, 5, 8, 11, 13, 13, 2, 18, 19, 7, 12, 20, 16, 17, 4, 1, 13, 16, 17, 9, 11, 12, 15, 15, 16, 4, 5, 6, 2, 4, 6, 7, 2, 14, 19, 1, 3, 4, 6, 7, 1, 14, 4, 11, 15, 19, 7, 7, 11, 1, 4, 4, 14, 20, 3, 4, 5, 7, 9, 16, 1, 16, 17, 1, 14, 7, 9, 13, 3, 4, 5, 12, 17, 11, 4, 4, 15, 11, 12, 12, 2, 6, 12, 7, 2, 4, 5, 6, 7, 14, 6, 6, 19, 1, 2, 3, 4, 5, 6, 8, 9, 10, 12, 15, 17, 1, 3, 7, 9, 10, 11, 15, 15, 7, 1, 2, 3, 4, 5, 6, 7, 8, 9, 10, 11, 12, 13, 14, 15, 16, 18, 1, 2, 3, 6, 7, 9, 11, 15, 1, 8, 10, 12, 15, 7, 10, 15, 7, 14, 15, 1, 16, 1, 2, 3, 5, 7, 8, 9, 11, 13, 15, 17, 18, 2, 17, 1, 5, 17, 8, 1, 2, 4, 5, 6, 7, 8, 9, 13, 15, 17, 20, 20, 7, 13, 16, 8, 13, 4, 8, 12, 16, 4, 5, 8, 3, 11, 3, 13, 4, 13, 5, 15, 7, 7, 15, 20, 6, 4, 1, 11, 13, 6, 4, 15, 13, 8, 9, 14, 1, 2, 4, 5, 6, 16, 5, 2, 6, 8, 13, 2, 19, 9, 1, 2, 3, 5, 6, 8, 9, 10, 12, 15, 2, 5, 6, 9, 10, 13, 14, 16, 2, 3, 9, 13, 2, 5, 8, 14, 14, 18, 1, 9, 3, 4, 9, 10, 18, 12, 18, 1, 2, 17, 14, 20, 9, 20, 14, 1, 7, 11, 5, 9, 14, 4, 9, 14, 9, 14, 9, 14, 17, 3, 4, 5, 14, 16, 17, 1, 2, 3, 5, 6, 7, 8, 9, 10, 11, 13, 10, 2, 6, 7, 1, 17, 4, 19, 2, 3, 4, 5, 7, 8, 11, 12, 13, 17, 18, 1, 2, 3, 4, 7, 8, 9, 10, 12, 15, 1, 2, 5, 7, 8, 19, 2, 3, 7, 8, 10, 11, 13, 15, 2, 7, 8, 9, 1, 2, 4, 6, 8, 9, 14, 3, 20, 8, 3, 5, 6, 7, 1, 4, 6, 7, 3, 4, 5, 16, 17, 1, 18, 1, 18, 18, 11, 5, 1, 5, 7, 1, 2, 4, 7, 8, 9, 10, 12, 13, 8, 4, 5, 7, 8, 10, 13, 18, 4, 5, 11, 12, 16, 18, 7, 1, 7, 8, 11, 13, 16, 15, 1, 7, 11, 16, 18, 2, 4, 7, 11, 13, 18, 11, 5, 4, 2, 5, 6, 1, 4, 13, 18, 14, 11, 18, 1, 5, 6, 7, 11, 18, 9, 8, 17, 1, 20, 9, 19, 1, 2, 3, 5, 6, 7, 8, 9, 10, 12, 3, 4, 5, 7, 13, 4, 5, 7, 9, 12, 15, 1, 17, 19, 14, 19, 20, 1, 2, 3, 8, 10, 11, 13, 1, 2, 3, 4, 5, 8, 9, 16, 4, 5, 7, 8, 15, 4, 4, 12, 6, 10, 10, 2, 6, 8, 10, 8, 9, 8, 6, 1, 8, 11, 13, 7, 8, 2, 7, 18, 8, 11, 15, 13, 10, 1, 3, 4, 6, 7, 11, 13, 15, 10, 15, 19, 12, 15, 1, 2, 3, 4, 5, 6, 8, 9, 12, 15, 2, 5, 6, 13, 1, 8, 8, 2, 4, 6, 9, 15, 1, 9, 14, 19, 7, 3, 9, 13, 17, 1, 4, 6, 9, 17, 1, 10, 13, 1, 2, 6, 8, 11, 12, 16, 1, 2, 4, 6, 15, 8, 9, 11, 4, 6, 6, 7, 19, 3, 8, 1, 2, 3, 5, 6, 8, 9, 10, 12, 13, 16, 10, 14, 16, 19, 2, 7, 7, 3, 4, 5, 6, 9, 12, 1, 2, 3, 4, 5, 6, 8, 9, 10, 12, 13, 7, 1, 5, 7, 8, 11, 12, 15, 7, 13, 7, 13, 9, 14, 9, 9, 14, 1, 11, 16, 18, 10, 17, 9, 14, 3, 17, 1, 2, 3, 4, 6, 8, 9, 10, 13, 14, 1, 5, 1, 6, 7, 13, 2, 1, 5, 1, 5, 6, 7, 13, 13, 2, 15, 1, 5, 16, 2, 20, 5, 5, 1, 3, 6, 7, 8, 11, 13, 15, 16, 19, 12, 13, 6, 1, 1, 11, 15, 1, 3, 4, 6, 7, 9, 10, 11, 13, 15, 2, 2, 11, 16, 20, 6, 13, 1, 16, 16, 7, 2, 12, 18, 17, 10, 15, 8, 11, 20, 13, 17, 17, 1, 2, 4, 5, 6, 7, 9, 16, 18, 1, 11, 15, 17, 18, 4, 7, 4, 5, 6, 6, 12, 1, 1, 3, 5, 6, 9, 20, 1, 2, 5, 7, 10, 12, 1, 3, 4, 6, 7, 10, 11, 13, 15, 6, 7, 4, 7, 11, 17, 7, 2, 7, 8, 15, 1, 4, 5, 17, 3, 5, 10, 1, 3, 5, 6, 8, 9, 15, 1, 2, 4, 5, 6, 7, 11, 4, 3, 16, 20, 13, 3, 4, 6, 8, 9, 11, 13, 12, 12, 1, 2, 4, 6, 7, 8, 10, 11, 12, 15, 15, 6, 3, 7, 11, 12, 15, 13, 1, 4, 1, 4, 5, 6, 7, 8, 10, 11, 15, 16, 1, 2, 4, 5, 6, 9, 11, 12, 13, 15, 7, 12, 18, 19, 20, 16, 19, 16, 12, 12, 16, 17, 1, 4, 5, 7, 8, 11, 13, 15, 16, 17, 18, 5, 4, 4, 11, 12, 3, 12, 5, 5, 7, 9, 14, 9, 1, 5, 7, 8, 18, 1, 2, 3, 5, 8, 9, 12, 13, 19, 3, 5, 8, 12, 13, 20, 16, 10, 11, 4, 10, 1, 3, 15, 16, 19, 1, 2, 3, 4, 5, 9, 12, 13, 16, 1, 2, 3, 4, 8, 9, 11, 12, 1, 2, 3, 4, 5, 8, 9, 10, 12, 1, 2, 5, 6, 8, 9, 10, 12, 9, 11, 1, 2, 3, 4, 5, 6, 7, 8, 9, 10, 11, 12, 15, 15, 4, 1, 2, 3, 10, 11, 13, 14, 3, 16, 19, 1, 2, 3, 4, 5, 6, 9, 12, 15, 8, 13, 20, 14, 16, 19, 6, 12, 6, 13, 20, 6, 1, 2, 3, 5, 8, 9, 10, 13, 2, 3, 10, 16, 16, 6, 6, 6, 20, 8, 19, 15, 1, 6, 7, 8, 15, 11, 17, 19, 16, 4, 8, 11, 13, 1, 2, 4, 5, 7, 8, 10, 11, 12, 13, 16, 18, 1, 2, 3, 4, 6, 7, 8, 9, 10, 12, 13, 16, 18, 1, 11, 1, 2, 4, 5, 7, 8, 10, 11, 13, 16, 18, 11, 1, 16, 8, 15, 15, 18, 5, 9, 13, 1, 2, 13, 6, 14, 20, 16, 12, 1, 2, 10, 11, 13, 16, 16, 17, 16, 1, 16, 17, 2, 4, 8, 16, 16, 6, 2, 7, 8, 9, 19, 19, 17, 3, 1, 3, 4, 5, 6, 8, 9, 10, 12, 16, 6, 5, 1, 4, 14, 15, 3, 6, 20, 8, 1, 2, 3, 4, 5, 6, 7, 8, 9, 10, 12, 13, 2, 2, 6, 3, 3, 4, 5, 6, 14, 11, 11, 18, 9, 16, 1, 6, 11, 1, 11, 15, 16, 9, 9, 14, 9, 4, 12, 4, 5, 12, 3, 3, 6, 1, 2, 3, 4, 5, 9, 14, 1, 2, 3, 5, 6, 8, 9, 10, 1, 3, 4, 5, 6, 7, 8, 11, 12, 16, 17, 1, 2, 3, 5, 6, 7, 9, 10, 13, 15, 10, 17, 11, 1, 11, 2, 3, 4, 5, 6, 7, 8, 9, 13, 14, 16, 2, 3, 4, 5, 6, 7, 9, 10, 12, 14, 1, 2, 3, 5, 9, 10, 4, 6, 7, 14, 11], \"Freq\": [0.5210481372316857, 0.05684161497072936, 0.02084192548926743, 0.024631366487316054, 0.37515465880681376, 0.9846469569123806, 0.031245061443638034, 0.9234651493341908, 0.03471673493737559, 0.0034716734937375593, 0.0034716734937375593, 0.9947421562752652, 0.2467088048828602, 0.03167207630252935, 0.34505893655913555, 0.16836208981870865, 0.20670197165861262, 0.9854063908250649, 0.8694413453979492, 0.013123642949403005, 0.1148318758072763, 0.9242002305206584, 0.07339237124722875, 0.9655334982003864, 0.9494091437442445, 0.04355087815340571, 0.9679807811462465, 0.9128631274623976, 0.08442664762658013, 0.9883130776302638, 0.09188251310717298, 0.0720647161624886, 0.10089060262748405, 0.1783601725021593, 0.08107280568279969, 0.20538444106309253, 0.2702426856093323, 0.9913763078948048, 0.9980526853975816, 0.9731872180954276, 0.9522412914204177, 0.9807307796631349, 0.1407525664217084, 0.8225228100268586, 0.030789623904748716, 0.9862280855641403, 0.9926558160396896, 0.9925329675436995, 0.9912789821165664, 0.9841847734765513, 0.9971601749303234, 0.10057612222024963, 0.8933526150151585, 0.9874433141353983, 0.010153658757176331, 0.9932842711032875, 0.19810715394958953, 0.04682532729717571, 0.24853442950039414, 0.07924286157983582, 0.4178259974209525, 0.9473045824093916, 0.05084403125926114, 0.3161944918695752, 0.044267228861740525, 0.6366049102974114, 0.9546174884365644, 0.9736524505817507, 0.024168677851320052, 0.9844050507808665, 0.055524178038131616, 0.9392840118117265, 0.003729181676589872, 0.15289644874018476, 0.6358254758585732, 0.13425054035723538, 0.0466147709573734, 0.026104271736129104, 0.9933894391471255, 0.9960206812942246, 0.16577896042741241, 0.828894802137062, 0.960768248467692, 0.9946363048894612, 0.2220745410026378, 0.05299506092108402, 0.027759317625329724, 0.2296452639913641, 0.464337676641879, 0.9822906794948494, 0.9847551779288433, 0.9965425749485163, 0.9983220763632814, 0.9979636838758842, 0.038193112139267335, 0.009548278034816834, 0.9452795254468664, 0.004774139017408417, 0.0389731226971181, 0.9548415060793934, 0.12358717757610341, 0.2862018849130816, 0.052036706347833014, 0.16424085441034797, 0.032522941467395636, 0.006504588293479127, 0.33336015004080527, 0.10137414256511634, 0.030927704511391426, 0.2199303431921168, 0.32302269156342156, 0.2852221638272765, 0.037800527736145076, 0.0035598326347676046, 0.20291046018175346, 0.07475648533011969, 0.0818761505996549, 0.11747447694733096, 0.5197355646760703, 0.045709867517383214, 0.9484797509857017, 0.9778233313354617, 0.9804601938717685, 0.9848571216610114, 0.984156340367192, 0.996540485263944, 0.9943130899211324, 0.9953470030652976, 0.9933124348289424, 0.991859998829152, 0.962594887274685, 0.9642394523452167, 0.992089466590805, 0.10291558118374547, 0.12410408319216365, 0.5584683743647364, 0.005297125502104546, 0.03556641408555909, 0.1732916771402773, 0.15567032885096768, 0.8367280175739513, 0.9912681313485034, 0.996519915028786, 0.9892692986043309, 0.1610922024514889, 0.18745274467082346, 0.030753965922556973, 0.4261620992125752, 0.1947751175095275, 0.9749297047079268, 0.98886637950392, 0.9742408493534827, 0.9930236724896319, 0.9941196751977187, 0.1444276858042847, 0.8513632005305203, 0.9957378085181111, 0.18337656255212686, 0.02336007166269132, 0.0654082006555357, 0.02686408241209502, 0.01168003583134566, 0.09694429740016898, 0.016352050163883924, 0.045552139742248074, 0.3025129280318526, 0.13782442280987878, 0.08993627590136158, 0.053608270321548974, 0.7505157845016857, 0.19006568568549181, 0.056692674722300836, 0.9354291329179638, 0.9918360659758548, 0.9956916933424954, 0.9966112483272015, 0.8838183915670359, 0.10877764819286596, 0.9777412557023719, 0.966455651910843, 0.01757192094383351, 0.1405331251170874, 0.8545933284147206, 0.15415334092993796, 0.13213143508280395, 0.7102064635700712, 0.027528251301299864, 0.2432902209601366, 0.2514742956713339, 0.04761643468332949, 0.08258475390389959, 0.3474511718299199, 0.9960448015493275, 0.991420952792032, 0.03843227995071744, 0.09928338987268673, 0.024553956635180587, 0.21030997639698154, 0.32560681624913385, 0.030959336626966826, 0.049107913270361174, 0.2209856097166253, 0.10473951894367398, 0.05366818326039493, 0.04154956123385414, 0.11512690925213752, 0.06838365286405161, 0.0017312317180772558, 0.15754208634503028, 0.42242053921085043, 0.017312317180772557, 0.0008656158590386279, 0.014715469603656675, 0.998313553909953, 0.9980250872515292, 0.9950592962452591, 0.9960703654127125, 0.9907610968542071, 0.9856874741312253, 0.09912986275113456, 0.8971252578977678, 0.7515920306029661, 0.01262472615794456, 0.06817352125290062, 0.03955747529489295, 0.01851626503165202, 0.07995659900031554, 0.02524945231588912, 0.004208242052648186, 0.11187426617880221, 0.8810098461580674, 0.9948334305832339, 0.9952502093149777, 0.8124430051390354, 0.1125343351712853, 0.03293687858671765, 0.03842635835117059, 0.993228659968446, 0.004439325503714003, 0.004439325503714003, 0.1775730201485601, 0.7768819631499504, 0.03551460402971202, 0.9823524151327817, 0.9728612165241528, 0.9911449495416789, 0.05973331376492614, 0.1947825448856287, 0.09089852094662673, 0.05973331376492614, 0.0025971005984750497, 0.47526940952093405, 0.11427242633290217, 0.9867654814866945, 0.11554238411408226, 0.08935277704822361, 0.0015405651215210968, 0.7918504724618437, 0.11656303616426307, 0.8795210910576213, 0.9785827360924113, 0.9940899244143778, 0.050936168824536, 0.9451489104108346, 0.17185277374814267, 0.8123949304457654, 0.9845358677392768, 0.516339249426868, 0.47886301358136957, 0.9651709865204815, 0.9957128586555132, 0.9916710871167815, 0.9886599159212558, 0.11081464444230871, 0.17838454959005792, 0.062164312735929275, 0.06486710894183924, 0.04865033170637943, 0.5297480563583538, 0.9915099650261457, 0.05545128601931498, 0.9426718623283546, 0.008989713889589093, 0.09289371019242063, 0.7821051083942512, 0.10487999537853943, 0.002996571296529698, 0.005993142593059396, 0.9959585102840833, 0.9828321112227113, 0.9964895443359971, 0.988189420957262, 0.007905515367658097, 0.9931105566550139, 0.9894914703533626, 0.9836856066208585, 0.13224769134832856, 0.8596099937641356, 0.9955063088260251, 0.06582719016546422, 0.6616476549964608, 0.011815136696365372, 0.10127260025456034, 0.09114534022910431, 0.043884793443642815, 0.027006026734549424, 0.9886684293473921, 0.9353251431565991, 0.024613819556752608, 0.9932929169888335, 0.9954769371600639, 0.9830077437953132, 0.03922269271396021, 0.9413446251350449, 0.9852928819501113, 0.9825016464732944, 0.9861198777817441, 0.961800732527611, 0.037140108180160745, 0.6030999417936129, 0.3963228188929456, 0.09626277086477751, 0.024065692716194378, 0.04469342933007527, 0.04125547322776179, 0.5603868446770977, 0.23034305885500334, 0.9858515423180448, 0.9798288283385167, 0.687645313979245, 0.16670189429799878, 0.041675473574499695, 0.06251321036174955, 0.033340378859599756, 0.8978581230834857, 0.09735810973194423, 0.9751612439017501, 0.044490191475597594, 0.2660142698645106, 0.011122547868899399, 0.16961885500071583, 0.10195668879824449, 0.005561273934449699, 0.005561273934449699, 0.14830063825199197, 0.027806369672248494, 0.0027806369672248497, 0.05746649732264689, 0.15849630713181642, 0.0009268789890749499, 0.9806390012724666, 0.9931940348720681, 0.44299683296125963, 0.10058382197671112, 0.01284048791192057, 0.36167374285242937, 0.07918300879017684, 0.9793796080915665, 0.9880885054891003, 0.9864298849897095, 0.08714171586539535, 0.911948189289021, 0.9900266068670034, 0.31403311989646937, 0.053501938945324415, 0.01163085629246183, 0.5489764170041983, 0.025587883843416027, 0.04187108265286259, 0.5870034112116352, 0.06522260124573726, 0.01574338650759175, 0.19341874852184152, 0.12369803684536376, 0.01574338650759175, 0.9937139421509124, 0.9927414390627491, 0.9815991254136051, 0.9864050961116392, 0.9875097034161834, 0.9959586718325367, 0.9952844536327163, 0.028694336583778988, 0.4371666573646328, 0.4726126025563598, 0.06076447747153197, 0.9811057622346573, 0.9984907597818367, 0.9961047985193761, 0.9971469365251898, 0.9975572793971721, 0.9941260284576539, 0.9986031840978606, 0.9977281201717473, 0.9941591256169876, 0.9873031296566582, 0.04127058226997938, 0.06554739536996725, 0.0558366701299721, 0.01699376916999151, 0.4321272731797841, 0.031559857029984234, 0.35201378994982413, 0.9910972570225784, 0.46847626429275224, 0.19277013746017554, 0.024656645489092223, 0.033622698394216666, 0.18380408455505112, 0.09414355550380667, 0.9884069423818193, 0.9957454675771232, 0.017429218873200713, 0.9785261453096972, 0.9868090276938047, 0.9880329330610346, 0.26580898214751025, 0.012657570578452869, 0.4542661440933641, 0.19267635213867146, 0.030940728080662568, 0.043598298659115436, 0.9905757616832557, 0.9526065272341889, 0.012897960716903911, 0.03316618470061006, 0.0013956859222453036, 0.997915434405392, 0.07130445140914586, 0.09945094538644028, 0.4859961293412836, 0.055354771488679025, 0.030022926909114046, 0.040343308034122, 0.09569807952280102, 0.12009170763645619, 0.000938216465909814, 0.9796627656004975, 0.9873072519011148, 0.9959273430594506, 0.99210381515072, 0.9919529109250241, 0.9898572637282799, 0.9771984745128806, 0.9826151818427846, 0.7959227347196608, 0.0013332039107532005, 0.16398408102264367, 0.031996893858076816, 0.006666019553766003, 0.07532184037744252, 0.00982458787531859, 0.183392307005947, 0.16701799388041602, 0.5632763715182658, 0.990542235661243, 0.9884032625869268, 0.9348064978980567, 0.060655383451400625, 0.9918486219576577, 0.8746725376453348, 0.03748596589908578, 0.08121959278135252, 0.006329702023818167, 0.1476930472224239, 0.1624623519446663, 0.0189891060714545, 0.02953860944448478, 0.14558314654781784, 0.4641781484133322, 0.025318808095272666, 0.9769628788625231, 0.9896930530515383, 0.994580907005314, 0.1456104976668886, 0.48772448247647154, 0.22477737018480862, 0.02120541228158572, 0.019791718129480003, 0.06927101345318001, 0.008482164912634288, 0.014136941521057145, 0.009895859064740001, 0.9969659151150879, 0.9934382447738986, 0.9617809110719405, 0.029144876093089106, 0.9814938140141191, 0.9880397506226409, 0.814350917984815, 0.182090888493499, 0.31128994068476473, 0.19270329661437818, 0.4891699067903446, 0.004941110169599441, 0.9808529553095351, 0.10238537531421124, 0.23710297441185763, 0.6466444756687026, 0.01077740792781171, 0.20313384160417067, 0.03342708785891416, 0.07971074797125684, 0.08999600577399966, 0.21856172830828488, 0.37284059534942715, 0.02775869594007921, 0.02775869594007921, 0.23701655764221477, 0.011744063666956588, 0.09929072009336025, 0.035232191000869766, 0.009608779363873571, 0.2391518419452978, 0.08861429857794516, 0.1985814401867205, 0.022420485182371667, 0.001067642151541508, 0.989514040858821, 0.9954270340799105, 0.19025039734806876, 0.6992987578199285, 0.10283805262057771, 0.9765488201220706, 0.9842496092084664, 0.9101138971858334, 0.08710661062174643, 0.019304240308732182, 0.028956360463098275, 0.16408604262422358, 0.08686908138929483, 0.6177356898794298, 0.08204302131211179, 0.9942238218305289, 0.9927971181818045, 0.9951666455623388, 0.05050619888338567, 0.8838584804592493, 0.056819473743808885, 0.9768760890102055, 0.09782841573940736, 0.029979675791108704, 0.3644897425129532, 0.12623021385729982, 0.171988666380571, 0.05049208554291992, 0.11991870316443481, 0.03786906415718994, 0.9883304078443707, 0.9859696741288515, 0.9696698971500425, 0.9766855774857143, 0.9863432921345464, 0.9231970358576034, 0.07101515660443103, 0.9943882675628122, 0.989303562687903, 0.3668637551858244, 0.0016232909521496654, 0.0008116454760748327, 0.24674022472674917, 0.038958982851591974, 0.03652404642336747, 0.30680198995628677, 0.034028249294263894, 0.9527909802393891, 0.980521530131909, 0.9950608624074563, 0.1474057101636077, 0.10295001979680538, 0.06785342213880355, 0.18718185417600977, 0.00935909270880049, 0.4819932745032252, 0.0010642347735927585, 0.03937668662293207, 0.35332594483279584, 0.0691752602835293, 0.057468677774008964, 0.024477399792633445, 0.013835052056705861, 0.09684536439694102, 0.10003806871771931, 0.024477399792633445, 0.18624108537873274, 0.03405551275496827, 0.093969961546393, 0.38997534041753096, 0.5121362904278419, 0.09669118976205794, 0.8960050251284036, 0.9776644322647231, 0.9838046343228125, 0.9948277643553365, 0.09037792295800405, 0.6834830423699056, 0.22594480739501013, 0.9913441592204995, 0.9957581581990437, 0.9958949827162044, 0.7896019451893336, 0.03622027271510705, 0.14125906358891746, 0.03259824544359634, 0.9826201083020685, 0.9920802230871013, 0.02798180197349361, 0.013705372395180543, 0.4459956600265002, 0.0005710571831325226, 0.0708110907084328, 0.11706672254216714, 0.04340034591807172, 0.14561958169879327, 0.09936394986505893, 0.031979202255421266, 0.0022842287325300905, 0.03645666768176702, 0.7085680539174206, 0.0028043590524436173, 0.04019581308502518, 0.015891367963847165, 0.007478290806516312, 0.1794789793563915, 0.001869572701629078, 0.005608718104887235, 0.9934257529992577, 0.9829865421024342, 0.9221905982300292, 0.07280452091289705, 0.9980644782068858, 0.9705641604703764, 0.032771705969136734, 0.030040730471708677, 0.8220236247258464, 0.046426583456277044, 0.024578779476852552, 0.03823365696399286, 0.9925454629955297, 0.2717722129640219, 0.7257380882502931, 0.9937232771840726, 0.4068339150175812, 0.028336690598239487, 0.5626857133078984, 0.985324329938002, 0.20062989807146536, 0.035826767512761676, 0.7595274712705475, 0.9964739135734773, 0.06796747903454005, 0.02265582634484668, 0.9062330537938672, 0.9861274821003765, 0.997239972432486, 0.37722719531481913, 0.12671620210478435, 0.09275479923520238, 0.041995283118300294, 0.08873785911084323, 0.05879339636562041, 0.1709025434727351, 0.005112469249184383, 0.002921410999533933, 0.03177034461993152, 0.0025562346245921914, 0.0007303527498834833, 0.21764290817209953, 0.26697530069110875, 0.06577652335867896, 0.048365090704911004, 0.20506798458882267, 0.022247941724259063, 0.15767019569800989, 0.015476829025571522, 0.025972304977020706, 0.8397711942570028, 0.1212040898927633, 0.9871128330508607, 0.028085594953766703, 0.2948987470145504, 0.6670328801519592, 0.13467739108799762, 0.12177725784202084, 0.3330814404111206, 0.016254167889930747, 0.09133294338151564, 0.0010320106596781427, 0.05624458095245878, 0.1344193884230781, 0.0036120373088734995, 0.0005160053298390714, 0.10655510061176823, 0.813181668582881, 0.179533615141675, 0.011790625709529315, 0.9830434185320065, 0.0029476564273823286, 0.9903696422710466, 0.957331914722365, 0.9765588865039309, 0.15584157250101316, 0.0017510289045057658, 0.8422449030672734, 0.03507109685167499, 0.20541642441695354, 0.7590387390041088, 0.1164472926040713, 0.8816723582879684, 0.04597191567055131, 0.9518890774137683, 0.8550045598137863, 0.1324654951824176, 0.006021158871928073, 0.9816099644753777, 0.991049768929443, 0.98653896901768, 0.9862560565904276, 0.08135655919952203, 0.1401140741769546, 0.7525481725955788, 0.022599044222089453, 0.04021506292970509, 0.94907548514104, 0.9842708015737468, 0.9948950593481365, 0.08693307500630282, 0.17386615001260564, 0.7349796341441966, 0.9886677484120956, 0.01003348419399243, 0.00041806184141635126, 0.11078638797533309, 0.009197360511159729, 0.753347438232265, 0.05643834859120742, 0.059782843322538234, 0.9860294482144399, 0.9954053504520594, 0.9910842881559464, 0.03964274589161588, 0.0880949908702575, 0.16738048265348926, 0.13654723584889913, 0.09249974041377038, 0.09249974041377038, 0.3788084607421073, 0.9942892158172305, 0.45779663863760545, 0.0929258848577826, 0.1243566988537973, 0.11889047033275127, 0.2049835695392263, 0.9984954156093607, 0.0777112473293508, 0.23081400326180312, 0.1496231478430784, 0.04987438261435947, 0.008119085541872472, 0.01043882426812175, 0.16354158020057408, 0.1020685039549682, 0.08235072478184935, 0.02203751789936814, 0.05567372942998266, 0.03827568898311308, 0.011598693631246387, 0.9472434974937352, 0.048576589615063344, 0.9954013674777502, 0.9827118628695599, 0.011561316033759528, 0.9790479610292483, 0.9843500794882755, 0.9933967318783742, 0.08652686956889374, 0.8883425275739757, 0.02307383188503833, 0.08772743052400338, 0.8817731478310082, 0.029242476841334457, 0.1455611266500598, 0.8473737015699909, 0.3501669502991832, 0.020091546328641657, 0.6285783779960747, 0.9936754314543499, 0.9723249162000831, 0.02083553391857321, 0.9896708483583427, 0.017967933234759714, 0.09433164948248851, 0.04941181639558922, 0.06737974963034893, 0.7681291457859778, 0.5161152437092893, 0.12531871732238334, 0.018138235401923903, 0.29350962741295045, 0.02143609638409189, 0.023085026875175878, 0.05567159435037021, 0.17761889626070496, 0.09808804718874752, 0.5805751982252894, 0.08483290567675461, 0.11052626540921898, 0.13974585281625387, 0.06479125903299043, 0.010163334750273008, 0.11306709909678722, 0.021597086344330142, 0.006352084218920631, 0.10925584856543484, 0.4039925563233521, 0.002540833687568252, 0.01905625265676189, 0.9935642544650557, 0.697273772120138, 0.21611409311325913, 0.08155248796726759, 0.9941454540744407, 0.1333819306698827, 0.01333819306698827, 0.029344024747374194, 0.04001457920096481, 0.002667638613397654, 0.5201895296125425, 0.25876094549957246, 0.11460977441639912, 0.7664528664096691, 0.1181913298669116, 0.2135886483557519, 0.784527535306704, 0.013296169044142646, 0.9706203402224133, 0.06900745366014752, 0.755022728281614, 0.17048900316036444, 0.9710038663449595, 0.9977256834854394, 0.0059674483104583355, 0.017902344931375005, 0.047739586483666684, 0.13128386283008336, 0.023869793241833342, 0.19095834593466673, 0.5788424861144585, 0.04333537315580229, 0.38497936152363893, 0.10581893445021488, 0.10985013195308022, 0.015116990635744985, 0.06046796254297994, 0.04736657065866762, 0.1592323013631805, 0.06147576191869627, 0.01310139188431232, 0.998474368152901, 0.9571766378599225, 0.930365917353203, 0.05346930559501166, 0.10741732441482844, 0.11077411580279183, 0.2349753971574372, 0.49344833403061816, 0.05370866220741422, 0.15855078399287428, 0.8371481394823763, 0.990460354154686, 0.059705834397503814, 0.9211757307043446, 0.017058809827858235, 0.98271278562376, 0.9950534424008523, 0.3073665296266853, 0.1506698674640614, 0.19587082770327985, 0.06629474168418702, 0.2742191587845918, 0.5478157730856644, 0.44711434420962315, 0.2039512665732629, 0.030592689985989435, 0.21414882990192605, 0.5455696380834782, 0.06166207137671644, 0.9249310706507466, 0.009736116533165754, 0.9668709680968129, 0.023238497455741004, 0.9760168931411223, 0.0012026864183439776, 0.9982297272255015, 0.9846736577848357, 0.9915768467480478, 0.9965614644180498, 0.9813306069995457, 0.09965621741582485, 0.8186046430585613, 0.07118301243987489, 0.9933402376575975, 0.08305041142297855, 0.9094020050816151, 0.9938942252218417, 0.992952824531626, 0.21563749506960642, 0.003761119100051275, 0.03134265916709396, 0.05892419923413664, 0.10781874753480321, 0.08901315203454684, 0.06393902470087166, 0.02131300823362389, 0.29336728980399945, 0.114087279368222, 0.9951947381053022, 0.04131885133364727, 0.9503335806738873, 0.08216024116080767, 0.911231765601685, 0.9782800646710829, 0.9895055688708139, 0.9971208144947651, 0.9931211489900912, 0.9899167624604467, 0.007638330140154281, 0.9165996168185138, 0.06874497126138852, 0.976999357008171, 0.9904104692623247, 0.9939980993310282, 0.9890784026574216, 0.0013420954835283271, 0.9810717984592071, 0.016105145802339925, 0.9955132383934158, 0.3384517019409802, 0.15864923528483446, 0.5006264757876998, 0.9843695326198406, 0.9909077306076013, 0.9718594243754326, 0.01104385709517537, 0.9982631699158292, 0.4151426527843857, 0.5844771558938062, 0.9856200352394839, 0.9931142196639068, 0.984001427952515, 0.9919746078281874, 0.07007935636351505, 0.1264176624596742, 0.038474940748596496, 0.024733890481240608, 0.16901491828847748, 0.07420167144372182, 0.30092900085509405, 0.013741050267355892, 0.043971360855538856, 0.0893168267378133, 0.0027482100534711785, 0.008244630160413536, 0.03710083572186091, 0.9964108441601773, 0.10365578365345178, 0.8914397394196852, 0.9742564736924119, 0.991417606933425, 0.998174427275964, 0.02130847686082218, 0.11871865679600929, 0.03348474935272057, 0.02130847686082218, 0.09893221399667441, 0.06392543058246654, 0.01217627249189839, 0.14002713365683148, 0.12785086116493308, 0.0030440681229745976, 0.35920003851100246, 0.9967366824355404, 0.04036561867333622, 0.9418644357111784, 0.24588137960178633, 0.7535074536183775, 0.0029418088064573802, 0.9962925824535661, 0.9918574347832536, 0.04736089583961327, 0.015551338932410326, 0.5259180075324219, 0.0282751616952915, 0.231149446859008, 0.010603185635734313, 0.10461809827257855, 0.036757710203878954, 0.8412787141444513, 0.1417885473277165, 0.1057886923486741, 0.05836617508892364, 0.2415711135624895, 0.1519952476274053, 0.04417995197703248, 0.00162128264135899, 0.29183087544461817, 0.08471201801100722, 0.002431923962038485, 0.01783410905494889, 0.9897107337499607, 0.9813341235181845, 0.15912615665914595, 0.004444864711149328, 0.46671079467067944, 0.09423113187636575, 0.01866843178682718, 0.24624550499767278, 0.008889729422298657, 0.39459289094561645, 0.5996569130118423, 0.7401551924250593, 0.2590955746058736, 0.9799981034158011, 0.12019666532215992, 0.8782369679539151, 0.9881582888411271, 0.07730340370802267, 0.05768910724479304, 0.2976757933831321, 0.1765286681690667, 0.010384039304062748, 0.014999167883646192, 0.008076475014271027, 0.26190854689136045, 0.0796109679978144, 0.008076475014271027, 0.0023075642897917217, 0.004615128579583443, 0.9941651509516841, 0.7463781233788304, 0.2511849453678756, 0.0617314058139965, 0.8407229553715714, 0.017637544518284715, 0.011758363012189809, 0.0617314058139965, 0.07801280233414087, 0.001238298449748268, 0.027242565894461893, 0.0965872790803649, 0.10773196512809931, 0.536183228741, 0.009906387597986144, 0.09906387597986144, 0.04334044574118938, 0.18083425771441275, 0.8057425153857378, 0.011445206184456503, 0.9915763575820069, 0.9987001213721256, 0.9974875914457833, 0.9829752946651029, 0.987732512499149, 0.9910552813409356, 0.7289391675203977, 0.035849467255101526, 0.19717206990305838, 0.03286201165050973, 0.9908629068365572, 0.056549736891996716, 0.11309947378399343, 0.12252442993265955, 0.11781195185832649, 0.1413743422299918, 0.44886353658022393, 0.9499433694822984, 0.04826502108224149, 0.0021938645946473403, 0.9781100529269645, 0.9927594656033006, 0.9623632858440391, 0.06155045389648003, 0.9179045950648977, 0.018732746838059137, 0.9970658094719884, 0.10178467353840957, 0.8969774355572343, 0.040003354980478474, 0.9600805195314833, 0.024543462217425024, 0.9694667575882885, 0.9738424658379163, 0.07950291909222508, 0.1732027880223475, 0.6275051828350623, 0.11641498867075815, 0.9862182700032549, 0.5572103372085486, 0.09257997838713464, 0.0553749403437067, 0.0648925082152813, 0.2275563954749197, 0.0017304668857408344, 0.9916844213173607, 0.04207444184335388, 0.028428676921185052, 0.002274294153694804, 0.3945900356660485, 0.07846314830247074, 0.20354932675568496, 0.09779464860887657, 0.05230876553498049, 0.003411441230542206, 0.05344591261182789, 0.00568573538423701, 0.037525853535964264, 0.01717743364317445, 0.057973838545713766, 0.487409679625075, 0.09447588503745946, 0.06441537616190418, 0.06441537616190418, 0.2125707413342838, 0.14656097106171953, 0.10658979713579603, 0.003330931160493626, 0.632876920493789, 0.04330210508641714, 0.0632876920493789, 0.9931310588570802, 0.03409568183911586, 0.9619853090321976, 0.9842978807985135, 0.9292555565164442, 0.06483178301277517, 0.1307661298433765, 0.030970925489220747, 0.11011884618389599, 0.008603034858116873, 0.29078257820435033, 0.42843113593422033, 0.9788799084688448, 0.987775923452815, 0.9842037895265208, 0.9845087501134345, 0.9848319702422489, 0.3062790410184674, 0.6891278422915517, 0.9957697566769151, 0.07361503612423835, 0.2650141300472581, 0.657627656043196, 0.08927626724516469, 0.18084166954789768, 0.5356576034709881, 0.14879377874194114, 0.043493566093798175, 0.9922092458061433, 0.5356917262311646, 0.3384718867231737, 0.1225961164509133, 0.13080072278742516, 0.04360024092914172, 0.012457211694040493, 0.809718760112632, 0.9956163064688838, 0.16529581798166856, 0.41402666789694126, 0.10547447433115995, 0.07871229427698503, 0.04722737656619102, 0.12279117907209665, 0.06611832719266743, 0.9728476985603632, 0.9922765308983179, 0.005858687306777427, 0.9930474984987738, 0.008853348151653881, 0.0059022321011025876, 0.9827216448335807, 0.9842037442943836, 0.007200508615891192, 0.03780267023342875, 0.09360661200658549, 0.14581029947179663, 0.09000635769863989, 0.019801398693700775, 0.5598395448855401, 0.045003178849319946, 0.010029167000210976, 0.002507291750052744, 0.1379010462529009, 0.06017500200126585, 0.007521875250158231, 0.33597709450706764, 0.017551042250369207, 0.030087501000632923, 0.381108346008017, 0.015043750500316462, 0.5668801702883287, 0.005829102008106208, 0.0393464385547169, 0.3861780080370363, 0.24786604665779072, 0.0067354903983095306, 0.04041294238985718, 0.025594863513576215, 0.30377061696375984, 0.08688782613819294, 0.24113055625948118, 0.02828905967290003, 0.010776784637295249, 0.007409039438140484, 0.9830886072464722, 0.9890248285365667, 0.9708106374449702, 0.9790682573773883, 0.1759748921394453, 0.8212161633174114, 0.9891424546878632, 0.9146750958671608, 0.021075463038413844, 0.059011296507558764, 0.9940874811328716, 0.9877183079060977, 0.03512514254534991, 0.9584146037374047, 0.9474306566912116, 0.050395247696341045, 0.9919894507527773, 0.983522138299606, 0.08274773825144109, 0.0055165158834294065, 0.15997896061945277, 0.7392131283795405, 0.0055165158834294065, 0.14070126347365447, 0.18821078101021313, 0.025582047904300815, 0.0968463242091388, 0.14801042001774042, 0.00548186740806446, 0.014618313088171894, 0.0018272891360214868, 0.3563213815241899, 0.02192746963225784, 0.07151442382471411, 0.9118089037651049, 0.05260567918129285, 0.09425184186648303, 0.5150972753168258, 0.33536120478074194, 0.9912507214189166, 0.9941709002424441, 0.9954450604327553, 0.9898628757328937, 0.022387398624793005, 0.9701206070743635, 0.985670535020475, 0.966399071674043, 0.03278853993179789, 0.9967423402791665, 0.9861509494371115, 0.989613667825931, 0.9986029179028395, 0.9889983301684219, 0.5680474582043238, 0.4289941741647237, 0.7961216741654211, 0.20138302396146587, 0.994839018047085, 0.057901071245816345, 0.04856218878681371, 0.07844661265562214, 0.39596861626171176, 0.04295885931141213, 0.050429965278614236, 0.3231253330814912, 0.9902959512221734, 0.05269543293483232, 0.9334619548456011, 0.9977896301030048, 0.9683260949321447, 0.11379052094891395, 0.02528678243309199, 0.8471072115085816, 0.9866071014648425, 0.1432074088001624, 0.05129817628662533, 0.4213397083542091, 0.06278683035081746, 0.06385554235678882, 0.0034733140194069235, 0.04729050626423273, 0.1485509688300192, 0.01843528210300598, 0.03606903020153344, 0.0037404920208997635, 0.9840775502129864, 0.7737122357478976, 0.219068045540497, 0.004922877427876337, 0.0008204795713127228, 0.0008204795713127228, 0.9666052978828672, 0.029180537294577123, 0.9976940381409454, 0.9913629390430657, 0.0800817402586576, 0.9182706216326071, 0.9866102275421271, 0.01720625797811857, 0.7140597060919207, 0.05592033842888535, 0.01720625797811857, 0.04731720943982607, 0.14625319281400784, 0.24920377034293845, 0.03596755448248596, 0.535802379076398, 0.01741286367802892, 0.03910757908016331, 0.0011418271264281258, 0.013701925517137508, 0.04567308505712503, 0.013416468735530478, 0.04852765287319535, 0.9961918412411066, 0.9922967241772556, 0.8079123099968611, 0.18686407169995428, 0.17747260135450066, 0.028234277488216015, 0.7461916193314232, 0.04840161855122745, 0.09423910889439922, 0.1378683259751396, 0.0017451686832296153, 0.3507789053291527, 0.05410022918011807, 0.1029649523105473, 0.1605555188571246, 0.05060989181365884, 0.04711955444719961, 0.9945042078943672, 0.09496379240785877, 0.5431928925729521, 0.07976958562260136, 0.007597103392628701, 0.10446017164864464, 0.02469058602604328, 0.06647465468550114, 0.018992758481571753, 0.05697827544471526, 0.9971292451875089, 0.9908664516669697, 0.35663458508075496, 0.4662949521510406, 0.17641015572176383, 0.9984901054677724, 0.9927638648709389, 0.988527841288945, 0.9976007085411925, 0.9886832971906386, 0.9880200794032608, 0.02007404715811382, 0.055203629684813, 0.3111477309507642, 0.030111070737170727, 0.5771288557957722, 0.029052969292756473, 0.3224879591495968, 0.28471909906901344, 0.14381219799914455, 0.007263242323189118, 0.2091813789078466, 0.0014526484646378236, 0.13659107488865563, 0.8595243249091012, 0.9816529293610318, 0.12460583791754623, 0.09414663309325715, 0.3479733399623328, 0.04891932896022185, 0.08860859585247732, 0.060918409648578156, 0.16614111722339497, 0.019383130342729413, 0.0009230062067966387, 0.04799632275342521, 0.9969252770996001, 0.9866744300587185, 0.2138525509060376, 0.7829178134865106, 0.19390306597804735, 0.15561647333270043, 0.0037051541269690577, 0.02840618164009611, 0.027171130264439756, 0.0024701027513127053, 0.013585565132219878, 0.42856282735275436, 0.1432659595761369, 0.0012350513756563526, 0.06488638027342167, 0.25108208018845773, 0.6319369209237589, 0.04795949846296384, 0.9834003812142158, 0.22415052450073486, 0.04655044752611198, 0.31598646173974926, 0.1077744056854549, 0.04933335471517302, 0.013408552820021385, 0.0002529915626419129, 0.04351454877440902, 0.11384620318886082, 0.0073367553166154755, 0.014420519070589038, 0.05995900034613336, 0.0002529915626419129, 0.0007589746879257388, 0.0022769240637772166, 0.33726948806357143, 0.0033726948806357144, 0.16526204915115, 0.06183273947832143, 0.11129893106097857, 0.21472824073380714, 0.10567777292658571, 0.029983804208273953, 0.016062752254432475, 0.03962145556093344, 0.042834006011819935, 0.016062752254432475, 0.011779351653250482, 0.2462955345679646, 0.007495951052068488, 0.010708501502954984, 0.08138461142245787, 0.4947327694365202, 0.10738569108539568, 0.10022664501303596, 0.1288628293024748, 0.0644314146512374, 0.6013598700782158, 0.08156803880263064, 0.06091790239690136, 0.2942644437816422, 0.18172120037041764, 0.06298291603747429, 0.019617629585442813, 0.14764847530096434, 0.1507459957618237, 0.2780308909069526, 0.09959315495174421, 0.07262000881898015, 0.0020748573948280043, 0.1390154454534763, 0.3900731902276648, 0.016598859158624035, 0.1203351625695325, 0.0914547235528447, 0.22783457446498154, 0.20858094845385636, 0.09947706772414687, 0.0192536260111252, 0.2310435121335024, 0.1107475435227226, 0.041187102962996006, 0.36793811980276436, 0.1601720670783178, 0.032034413415663564, 0.005491613728399468, 0.11440861934165558, 0.02562753073253085, 0.1336292673910537, 0.007322151637865957, 0.9883647046449747, 0.013451414483201522, 0.9819532572737111, 0.10463383536077814, 0.8921411225497926, 0.10488852432180608, 0.3810949717025621, 0.12470080113814723, 0.07808367921734453, 0.04428626582476257, 0.22026590107579277, 0.03496284144060203, 0.010488852432180609, 0.9892206194629579, 0.002233545636098877, 0.6008237761105979, 0.21665392670159106, 0.13177919252983375, 0.0290360932692854, 0.017868365088791017, 0.9946777385849079, 0.9447997122726821, 0.05360565743391104, 0.8898896431765676, 0.04158362818582092, 0.04574199100440301, 0.014554269865037321, 0.0041583628185820915, 0.9530920665788394, 0.007812230053924913, 0.03906115026962456, 0.9860867671910902, 0.5476932143187389, 0.0008452055776523747, 0.01267808366478562, 0.006761644621218998, 0.21214659999074606, 0.21975345018961742, 0.9952796669806622, 0.1676614624600973, 0.18313022834183246, 0.05888110884015322, 0.04740428254080132, 0.1861241830286199, 0.004490932030181177, 0.004490932030181177, 0.05339219191437622, 0.12824105908406253, 0.04740428254080132, 0.002494962238989543, 0.06836196534831349, 0.020458690359714253, 0.004989924477979086, 0.02195566770310798, 0.42730470660600556, 0.008810406321773311, 0.05286243793063986, 0.0073420052681444255, 0.06754644846692871, 0.3626950602463346, 0.008810406321773311, 0.019089213697175506, 0.04698883371612432, 0.8764853349621624, 0.12182807744647818, 0.9811126824261717, 0.17060774911423768, 0.20631634776605487, 0.6149814212257405, 0.003967622072424132, 0.992388266064205, 0.07117568987140922, 0.02847027594856369, 0.07117568987140922, 0.21352706961422765, 0.15089246252738756, 0.11672813138911112, 0.347337366572477, 0.993316648260232, 0.9886529968303194, 0.9897346284906516, 0.985733358586493, 0.9787611147451422, 0.013883136379363718, 0.9998731393022456, 0.9889798935258718, 0.10523577324116236, 0.005688420175197966, 0.5076915006364184, 0.07252735723377406, 0.0014221050437994915, 0.22469259692031965, 0.00995473530659644, 0.07252735723377406, 0.2649695053910229, 0.10572015619136772, 0.005352919300828745, 0.2649695053910229, 0.1753081071021414, 0.18199925622817734, 0.3786795202373042, 0.08972727587952188, 0.060832051443743644, 0.34826349451543237, 0.003041602572187182, 0.11558089774311293, 0.9717459794416824, 0.45398134672436796, 0.1444486103213898, 0.396201902595812, 0.6182219704014406, 0.348193983329547, 0.028423998639146693, 0.15303500964986186, 0.8416925530742402, 0.9876855455438948, 0.4558426800668341, 0.04368492350640493, 0.45774202456711255, 0.04178557900612646, 0.18191642369436717, 0.10232798832808153, 0.11369776480897947, 0.5969132652471423, 0.03605488977427458, 0.9590600679957039, 0.8872802701359391, 0.010317212443441153, 0.09801351821269096, 0.24278317021092327, 0.005057982712727569, 0.5538491070436687, 0.19726132579637518, 0.9960752984835509, 0.28632102122704545, 0.687170450944909, 0.06833201833040534, 0.006507811269562413, 0.07158592396518654, 0.6605428438605848, 0.18872652681730995, 0.9920316067634417, 0.9944811830547062, 0.9869051676164814, 0.16152358263049493, 0.796478355729682, 0.03898845097977464, 0.9945581173808712, 0.9928463515528876, 0.9979146145253198, 0.9654971304032737, 0.032857232186498844, 0.9903098787205837, 0.013270941876630743, 0.982049698870675, 0.20002006606301045, 0.01081189546286543, 0.6757434664290893, 0.009009912885721191, 0.04324758185146172, 0.0612674076229041, 0.23965018740289537, 0.7556029438114819, 0.0028194139694458276, 0.9932125915734991, 0.9900443813483533, 0.9973707998781052, 0.05262356959879023, 0.9397065999783969, 0.849654526185533, 0.017222726882139182, 0.0746318164892698, 0.051668180646417546, 0.9966106350482251, 0.9977593048721667, 0.9925205170874708, 0.05351949621449175, 0.9365911837536056, 0.9898272321705113, 0.9915065128989685, 0.9920008406562038, 0.11381371193822305, 0.8805587186799362, 0.9931285252846492, 0.9983219655505231, 0.029512664971691006, 0.0016395924984272782, 0.20166987730655522, 0.12296943738204585, 0.5738573744495473, 0.06886288493394568, 0.9905324630660514, 0.9938651182550786, 0.9734757609310762, 0.4460985482271255, 0.035638726993351626, 0.005530147292071804, 0.11981985799488909, 0.11060294584143608, 0.0006144608102302005, 0.1407115255427159, 0.04301225671611403, 0.02519289321943822, 0.06881961074578245, 0.0018433824306906012, 0.0018433824306906012, 0.24159237985104093, 0.09437202337931286, 0.02264928561103509, 0.20573101096690205, 0.0018874404675862573, 0.03397392841655263, 0.3982499386607003, 0.9924087039723113, 0.9905932208413712, 0.11331840484133571, 0.013444556506599151, 0.04647975249424278, 0.2009000872271816, 0.12906774246335184, 0.04379084119292295, 0.10678819168098755, 0.0326510658017408, 0.0019206509295141645, 0.05531474677000794, 0.006146082974445326, 0.0046095622308339945, 0.006146082974445326, 0.10601993130918187, 0.023047811154169973, 0.10986123316821021, 0.0003841301859028329, 0.11328963425150664, 0.017802656810951042, 0.2670398521642657, 0.08901328405475521, 0.24761877200686452, 0.037223736968352183, 0.045315853700602655, 0.18288183814886072, 0.16256298925954601, 0.7005690727613769, 0.05031711572319282, 0.007741094726645049, 0.07354039990312797, 0.1506588960122486, 0.03171766231836813, 0.8088003891183873, 0.9916032362730245, 0.9968146938203492, 0.9744271632399613, 0.9926785682501519, 0.9853524711826623, 0.14318846282408526, 0.049175835717362615, 0.002892696218668389, 0.09545897521605684, 0.02892696218668389, 0.1619909882454298, 0.027480614077349697, 0.05785392437336778, 0.2921623180855073, 0.027480614077349697, 0.026034265968015502, 0.08678088656005167, 0.9856240780575931, 0.9924904034925275, 0.004773459390825625, 0.99287955329173, 0.9835709452062669, 0.996289779840333, 0.3604010042083483, 0.12216983193503332, 0.022906843487818747, 0.021379720588630833, 0.05268574002198312, 0.12369695483422125, 0.006872053046345625, 0.044286564076449576, 0.22601418907981163, 0.019089036239848957, 0.987696597954968, 0.9934511715290748, 0.99316973193033, 0.08952972265495762, 0.9072345229035705, 0.9898118759622101, 0.9822339044416883, 0.9511333832935019, 0.10583346228989113, 0.019495637790243103, 0.06684218670940492, 0.8048913316257509, 0.8539261787340342, 0.09613738436078531, 0.045241122052134264, 0.9772324157211175, 0.986502655837843, 0.9864809918260621, 0.9778982410334328, 0.8635421124587076, 0.13364342216622857, 0.041933528541537674, 0.936515470761008, 0.9952872774651597, 0.990637511631721, 0.9920595360275893, 0.9892880299976379, 0.9917460206965307, 0.9914550768882404, 0.16000231804150036, 0.07219616789677455, 0.7648891301496115, 0.987033886128416, 0.9921029433836822, 0.988729010318696, 0.9699014726171024, 0.9921744131944822, 0.9933887364957182, 0.9880716778806947, 0.0027525750329996557, 0.016515450197997935, 0.14313390171598211, 0.6330922575899208, 0.03853605046199518, 0.16515450197997936, 0.9931834854952258, 0.10506674171381512, 0.8321285943734158, 0.058837375359736474, 0.9906869101269192, 0.2803161339839688, 0.7095502141469211, 0.9817118461926228, 0.004918846682459093, 0.2688149711963894, 0.238564064099266, 0.11903608971551004, 0.1544517858292155, 0.07550429657574707, 0.017707848056852733, 0.07648806591223889, 0.04451556247625479, 0.00024594233412295464, 0.16715397794527134, 0.026049970588873456, 0.07163741911940201, 0.017366647059248973, 0.017366647059248973, 0.04558744853052855, 0.6230284632505568, 0.028220801471279578, 0.6597597438972758, 0.2695938173214741, 0.009483199604272958, 0.05960868322685859, 0.27989587352293704, 0.19166782643418517, 0.5263259360811752, 0.993675396751596, 0.9942056990241395, 0.9660590089003217, 0.15247851018551578, 0.8428673201921567, 0.06334564741449358, 0.045246891010352557, 0.14931474033416342, 0.0723950256165641, 0.6696539869532179, 0.17148820821749566, 0.8166105153214079, 0.03929531275809129, 0.034929166896081144, 0.9212567768841402, 0.05170703092517056, 0.9454999940602616, 0.9887085606266187, 0.9939071176707022, 0.9941992792982463, 0.985005088682419, 0.992987034749771, 0.9864475956330966, 0.03690974155898624, 0.29879314595369816, 0.6608601345799442, 0.052098597693251696, 0.3944608111060485, 0.5507566041858036, 0.42091217894383093, 0.5767043490723918, 0.9946594196256139, 0.9835713267589598, 0.9901107469163022, 0.05485227424177116, 0.34739773686455067, 0.03352083425886015, 0.057899622810758444, 0.49062311960695315, 0.00914204570696186, 0.0741100916876056, 0.2485775992021771, 0.09418157485299877, 0.026247324139360314, 0.002315940365237675, 0.02470336389586853, 0.2694210624893162, 0.1397284020360064, 0.09032167424426932, 0.0030879204869835664, 0.026247324139360314, 0.988629025928428, 0.28407312844704175, 0.7065408579323859, 0.007283926370436968, 0.9545094592630381, 0.041665095444021506, 0.46044211640109295, 0.5290186018225324, 0.16369219378226363, 0.0996387266500735, 0.06523964244945289, 0.06049494118040177, 0.08303227220839458, 0.26214474511507435, 0.06998434371850401, 0.023723506345255597, 0.11268665513996409, 0.053377889276825095, 0.005930876586313899, 0.22078114702643514, 0.05870481366020819, 0.20036208140549316, 0.0012761916013088737, 0.01786668241832423, 0.27948596068664333, 0.11868581892172525, 0.011485724411779863, 0.04594289764711945, 0.043390514444501704, 0.3004497612154772, 0.03626117807773, 0.03108100978091143, 0.10101328178796215, 0.39110270640980216, 0.13727445986569214, 0.020717580018748374, 0.010358790009374187, 0.018645822016873533, 0.5200112584705842, 0.037291644033747066, 0.010358790009374187, 0.1947452521762347, 0.1843864621668605, 0.03319817944207217, 0.0774624186981684, 0.769091157074672, 0.11619362804725261, 0.9951433739888809, 0.15034529905254068, 0.6471384611391968, 0.03548522586333258, 0.0009338217332455943, 0.007470573865964754, 0.15781587291850543, 0.9698067916421428, 0.9844432269263532, 0.9788517908914458, 0.004507322551959447, 0.9570548218660561, 0.03455613956502243, 0.0030048817013062982, 0.13513181775245864, 0.0022903697924145532, 0.517623573085689, 0.3458458386545975, 0.020823633600774383, 0.3088838984114867, 0.10411816800387193, 0.5639734100209729, 0.001735302800064532, 0.21539869705405978, 0.7787491355031392, 0.1155014483677681, 0.8795879529545416, 0.9904808802144734, 0.9951875040124976, 0.9972069646188194, 0.031530915805065785, 0.9659926023915608, 0.9914988670622896, 0.5638229465630833, 0.1881572548944697, 0.02919681541465909, 0.0006488181203257576, 0.0979715361691894, 0.0071369993235833335, 0.022059816091075757, 0.07201881135615909, 0.01881572548944697, 0.9819593380740749, 0.04025141674951612, 0.16963097058724652, 0.2012570837475806, 0.002875101196394009, 0.017250607178364054, 0.5663949356896197, 0.9942251893447945, 0.17226791620511434, 0.2009792355726334, 0.009570439789173019, 0.043066979051278584, 0.08613395810255717, 0.47852198945865093, 0.9933201842356393, 0.14010944657984625, 0.2439211090716494, 0.007259556817608613, 0.5894760135898194, 0.0029038227270434453, 0.01669698068049981, 0.9857871405396869, 0.16251712832575768, 0.2689938675736679, 0.45766317746908775, 0.04670032423153957, 0.06164442798563222, 0.9842538990695575, 0.06427534041748059, 0.7391664148010268, 0.09182191488211514, 0.009182191488211514, 0.09182191488211514, 0.9890806963731202, 0.9963628004240712, 0.9831096161333206, 0.0656389691832409, 0.8163846792165588, 0.11486819607067159, 0.9943539879665292, 0.12114360797840096, 0.17444679548889738, 0.7026329262747255, 0.9978231340911854, 0.9534057358627861, 0.045581150718539576, 0.0023149709616030805, 0.6701840933840918, 0.03472456442404621, 0.11111860615694787, 0.1527880834658033, 0.026622166058435426, 0.9937597026326548, 0.9786855305379539, 0.9957146468970665, 0.9914016920782495, 0.9926584062489844, 0.2244955008550468, 0.7632847029071591, 0.15269077134659745, 0.16572534938838016, 0.1377941107274172, 0.04189685799144442, 0.00372416515479506, 0.000931041288698765, 0.277450304032232, 0.01675874319657777, 0.16293222552228387, 0.03910373412534813, 0.33362406089434204, 0.14368957078122652, 0.12882513242454793, 0.12882513242454793, 0.2626050776346554, 0.668284431662774, 0.06297968465931901, 0.19943566808784355, 0.05248307054943251, 0.01399548547984867, 0.9918980332409926, 0.2661631680564697, 0.7304012518758937, 0.9805099676499115, 0.9483182460997273, 0.04881049796101537, 0.9788865059187492, 0.2428822334304313, 0.072160663555418, 0.15752144849292465, 0.24728227389112753, 0.10560097105670926, 0.031680291317012776, 0.14256131092655752, 0.06222479157100987, 0.01131359846745634, 0.5211326294072076, 0.08060938908062643, 0.08485198850592254, 0.08414488860170653, 0.1534406792148766, 0.0007070999042160213, 0.9943029966026536, 0.29686427028200063, 0.01272275444065717, 0.6827878216486015, 0.9957706389875872, 0.9876831352616287, 0.9929200157394289, 0.9920184283351521, 0.03701511821541678, 0.9600796287123727, 0.990106997000672, 0.06649060608657148, 0.10765145747349668, 0.047493290061836765, 0.7757237376766672, 0.972174713297284, 0.020253639860360082, 0.9846308270723783, 0.9887516465261031, 0.0741123750516875, 0.005928990004135, 0.6788693554734575, 0.2371596001654, 0.9445958719186942, 0.05257827310104056, 0.1784539512990007, 0.05948465043300024, 0.7600816444216698, 0.04901347270202497, 0.9367019227498105, 0.010891882822672215, 0.9829981312087468, 0.9876553732722426, 0.09632795166111803, 0.10373779409658865, 0.01728963234943144, 0.1630165335803536, 0.044459054612823706, 0.083978214268667, 0.48163975830559014, 0.009879789913960824, 0.9902586473043974, 0.9942596144563434, 0.9728422377957177, 0.0704255315305951, 0.9243351013390606, 0.08105368960526232, 0.3203811379667464, 0.23166020745287816, 0.06845750811255265, 0.10953201298008423, 0.029573643504622743, 0.015882141882112212, 0.14074863667940823, 0.0005476600649004211, 0.0010953201298008423, 0.5235380524392195, 0.20530904017224294, 0.25047702901013635, 0.018477813615501864, 0.9941392297418213, 0.9903561490952549, 0.9783178099476706, 0.9857152884004154, 0.6779998453662667, 0.14576996675374732, 0.09152997912444599, 0.081359981443952, 0.0263696181374156, 0.21974681781179667, 0.03515949084988747, 0.7119796897102212, 0.9930945562644992, 0.962729329635714, 0.9895569468515582, 0.18514289331031655, 0.8105144440473858, 0.08313306985452823, 0.16626613970905646, 0.029341083478068786, 0.7139663646330071, 0.9950853854150542, 0.9945710269413776, 0.06576611974508692, 0.9326831527485054, 0.5333226703242772, 0.04682276120619992, 0.001142018566004876, 0.2535281216530825, 0.0959295595444096, 0.022840371320097523, 0.04453872407419017, 0.7744516331541502, 0.014177604268268196, 0.17544785281981892, 0.012405403734734671, 0.023038606935935818, 0.03401999566982959, 0.5811749260262555, 0.38272495128558287, 0.029749467616810653, 0.9638827507846651, 0.8746981435163057, 0.1230044264319805, 0.9911644296708172, 0.9903027002633972, 0.9890024907779233, 0.007356573340917, 0.009620134368891461, 0.5534406713397558, 0.008488353854904231, 0.2614412987310503, 0.005658902569936154, 0.07469751392315722, 0.057154915956355155, 0.022069720022751, 0.0005658902569936154, 0.9983940225292754, 0.9900072051100293, 0.9950870916301824, 0.003139075998833383, 0.957220999350409, 0.9876684111660708, 0.9942490992140641, 0.9893045372229029, 0.7444458622646878, 0.01212452544405029, 0.002424905088810058, 0.09699620355240232, 0.05819772213144139, 0.08487167810835203, 0.018440573429504614, 0.1551177647305388, 0.30535420120032636, 0.0037965886472509495, 0.09925367463527483, 0.027660860144256918, 0.07593177294501899, 0.08244021062602062, 0.16216857221829056, 0.06888096545726723, 0.0010847396135002713, 0.9859342733107522, 0.003967799298493132, 0.11903397895479396, 0.6824614793408187, 0.003967799298493132, 0.06745258807438324, 0.04761359158191758, 0.07142038737287637, 0.9182670674198365, 0.0807734920415597, 0.97454979489494, 0.01980792266046626, 0.9871170617911912, 0.9899365497745558, 0.9922872439552585, 0.045780417333054206, 0.9522326805275275, 0.8691533948150759, 0.07402130560238283, 0.04298011293041584, 0.011938920258448844, 0.9933550452948349, 0.997798050226432, 0.05459402311975111, 0.9440216497790296, 0.9736718226894927, 0.987096677425139, 0.16673107193393122, 0.20895517456655016, 0.1125976070203172, 0.12558963859958455, 0.0562988035101586, 0.004330677193089123, 0.12450696930131228, 0.030314740351623858, 0.023818724561990176, 0.14724302456503016, 0.04082793369223929, 0.9553736483983994, 0.07995886514165541, 0.044421591745364114, 0.0377583529835595, 0.8373470044001136, 0.9935847224060638, 0.004081257058814596, 0.991745465291947, 0.052291450129756806, 0.8802394105175729, 0.054470260551830005, 0.010894052110366, 0.9640778153108519, 0.9624022335666702, 0.9755171839437053, 0.022170845089629666, 0.08776218332477634, 0.4076694967344449, 0.5039247945745222, 0.9384461469839616, 0.056630370938687336, 0.9886722182068602, 0.9933604752262295, 0.21622588160140455, 0.0011880542945132118, 0.0011880542945132118, 0.04158190030796242, 0.07484742055433234, 0.23998696749166878, 0.009504434356105694, 0.028513303068317085, 0.05940271472566059, 0.32909103958015967, 0.9865289151295926, 0.994155378623873, 0.9904337684152342, 0.9960609434453519, 0.006501266103787407, 0.9751899155681111, 0.01787848178541537, 0.3255171084637499, 0.027873024577935772, 0.12045128478322245, 0.05674151431936925, 0.016922907779461004, 0.04180953686690366, 0.0955646556957798, 0.31257606133827975, 0.000995465163497706, 0.000995465163497706, 0.990927147480969, 0.9926412709565076, 0.9806568703813189, 0.008678379383905477, 0.9861067172040413, 0.06319671426915868, 0.9298945099604776, 0.9929168907196865, 0.9944452740091607, 0.9970380056787095, 0.9931197471752408, 0.10401787360076384, 0.8945537129665689, 0.986388485890484, 0.9932989961589775, 0.9771080970064542, 0.014656621455096813, 0.15815353507369187, 0.8404730721059054, 0.9868658949398778, 0.9772239661071616, 0.9941084233227627, 0.9857611722342101, 0.18742169962941654, 0.04146497779411871, 0.4113325797176576, 0.04644077512941295, 0.12605353249412088, 0.14595672183529784, 0.024878986676471225, 0.0016585991117647482, 0.014927392005882735, 0.39082329459159454, 0.07077070469631577, 0.060207912950597, 0.0010562791745718772, 0.4763819077319166, 0.05453623685314593, 0.9349069174825017, 0.8230674452541082, 0.1679729480110425, 0.9968400785722341, 0.27217162643809983, 0.7246127716858503, 0.9934270162796291, 0.19411004258710995, 0.2255101965350248, 0.07421854569507146, 0.06850942679545058, 0.06565486734564013, 0.36823816902554685, 0.15229050702348224, 0.2896016199135072, 0.1348145472011154, 0.002496565688909545, 0.05991757653382907, 0.35950545920297444, 0.057810536160914465, 0.03705803600058619, 0.0029646428800468956, 0.11265642944178203, 0.07856303632124273, 0.03261107168051585, 0.41653232464658885, 0.2445830376038689, 0.017787857280281375, 0.8433491053094322, 0.15199896665460697, 0.003165840880239874, 0.9402547414312427, 0.05461075518413783, 0.001582920440119937, 0.9908201162602231, 0.14686569013390433, 0.03896436677021951, 0.7223394147402233, 0.08991776946973734, 0.2465111035765585, 0.5397099161638289, 0.0037350167208569473, 0.20916093636798905, 0.9656775703828554, 0.9873673598170892, 0.9958632850266709, 0.030964590320738127, 0.5839037031910619, 0.004423512902962589, 0.19242281127887265, 0.02875283386925683, 0.12385836128295251, 0.037599859675182014, 0.005465468157237957, 0.4219341417387703, 0.0076516554201331395, 0.2546908161272888, 0.19566376002911887, 0.06777180514975066, 0.04700302615224643, 0.9961558571111833, 0.9787476438867277, 0.9788011210179147, 0.9852555083720372, 0.9950178594923241, 0.12002502541952194, 0.7245955238289659, 0.12891576804319024, 0.02222685655917073, 0.030713987563554777, 0.96441920949562, 0.9849136904852888, 0.9854415967204978, 0.9916326716694437, 0.043140247038731525, 0.1725609881549261, 0.016177592639524323, 0.012133194479643242, 0.039095848878850446, 0.1361614047159964, 0.08897675951738378, 0.23187882783318195, 0.016177592639524323, 0.24266388959286483, 0.9847966923729676, 0.9952292334947525, 0.03804101195631606, 0.15035257106543967, 0.6557545870564958, 0.04166396547596521, 0.11412303586894817, 0.9909208494362488, 0.009426999660289336, 0.9851214645002355, 0.013213338722566463, 0.008408488277996841, 0.21621827000563304, 0.07327396927968675, 0.04564607922341142, 0.14054187550366148, 0.014414551333708869, 0.18018189167136087, 0.015615763944851275, 0.2918946645076046, 0.19469789840186674, 0.0868133486380618, 0.037928162026337676, 0.1963835944919262, 0.01769980894562425, 0.2039692268971937, 0.0016856960900594523, 0.17699808945624249, 0.0809134123228537, 0.0016856960900594523, 0.9069036801223452, 0.05668148000764658, 0.03091717091326177, 0.9776016446345792, 0.9908155646776015, 0.991649303108618, 0.9717524679618871, 0.9885868990344826, 0.9930713309657799, 0.9793514789558089, 0.8487837907985448, 0.14588471404349987, 0.13666043995170635, 0.019068898597912515, 0.031781497663187525, 0.20181251016124077, 0.07150836974217194, 0.07945374415796881, 0.036548722312665656, 0.08104281904112819, 0.019068898597912515, 0.04449409672846254, 0.27649902966973144, 0.9950404605066355, 0.9900511159346103, 0.9955232320036658, 0.9971552892174695, 0.9916976207209139, 0.9505604345278416, 0.02715886955793833, 0.9969395051532802, 0.9953527489524169, 0.032466739866003666, 0.28970321726587883, 0.6768066541297687, 0.9951961164722255, 0.07818403444818749, 0.39725941827727695, 0.4902350268102567, 0.004226164024226351, 0.02747006615747128, 0.20730450147131657, 0.03921977054862746, 0.5277860550972437, 0.036978640802991604, 0.057148808513714296, 0.06499276262343978, 0.06051050313216808, 0.0067233892369075645, 0.9744604325402386, 0.0513300716125655, 0.014665734746447287, 0.8066154110546008, 0.102660143225131, 0.02199860211967093, 0.9680524991450684, 0.9769337616297923, 0.9815658876004018, 0.993005023743831, 0.9306811428212879, 0.06204540952141919, 0.7297333385889778, 0.10081842177874036, 0.044808187457217936, 0.07761418184553821, 0.04640847986640429, 0.11414508327983584, 0.08364079378263833, 0.5107008467434034, 0.050184476269583, 0.0924968778302118, 0.0846248031212576, 0.05608853230129864, 0.003936037354477098, 0.003936037354477098, 0.01835465394769914, 0.17636428358441347, 0.4548762065299352, 0.0534679049780801, 0.10294566779361691, 0.03990142162543291, 0.03670930789539828, 0.11571412271375545, 0.03302069616234788, 0.11106961436426105, 0.39324647247887023, 0.007671474866000013, 0.10306459711278278, 0.08171788444217405, 0.20012543128695687, 0.031352984234956575, 0.0380238319445218, 0.09134127925095878, 0.1116393413067274, 0.0492952935640095, 0.06959335561977811, 0.09279114082637083, 0.3001213461102931, 0.12323823391002375, 0.15948477329532484, 0.9911522016956507, 0.9827830721279518, 0.16245615376298417, 0.08122807688149208, 0.3340504661751362, 0.11608845987646577, 0.0483983958085557, 0.03249123075259683, 0.02030701922037302, 0.0010153509610186509, 0.13538012813582012, 0.02910672754920133, 0.02132237018139167, 0.015230264415279764, 0.003046052883055953, 0.9871759558453378, 0.986606151775277, 0.1379075527987519, 0.052729358423052194, 0.04056104494080938, 0.016224417976323752, 0.06895377639937594, 0.5962473606298979, 0.0851781943756997, 0.9684350209812304, 0.9881355676626216, 0.9635428135129506, 0.032690184823054504, 0.003441072086637316, 0.8241367647496372, 0.00860268021659329, 0.01892589647650524, 0.08086519403597693, 0.001720536043318658, 0.02752857669309853, 0.987117579482866, 0.9609124774477705, 0.027852535578196246, 0.9953573401625562, 0.9607876592506158, 0.034847220801835804, 0.9653668326608927, 0.15040385192683162, 0.8435694303722295, 0.9959088082860316, 0.9319669593497962, 0.059487252724455084, 0.990685819114187, 0.09353382746067743, 0.1764388108917324, 0.07015037059550806, 0.06164729537181012, 0.08184209902809275, 0.08184209902809275, 0.3178024364857108, 0.11691728432584678, 0.14818988559799415, 0.15858917581539725, 0.6889529769029552, 0.9939736606326433, 0.9922561554583279, 0.9968972543551112, 0.9986559440311878, 0.9971306866914276, 0.9884837530288219, 0.9922598856252235, 0.9757342818495748, 0.9715949116427768, 0.020934451524922272, 0.027375821224898355, 0.7616919670221719, 0.006441369699976084, 0.18196869402432436, 0.9580185069175562, 0.039798988417940016, 0.974098010355169, 0.9926896667760176, 0.018291676775071836, 0.018291676775071836, 0.09145838387535918, 0.8688546468159122, 0.4452234076562951, 0.10813474502193492, 0.08054611506032688, 0.03012551547531911, 0.03995594684094956, 0.09386476400731007, 0.0038053282705666244, 0.069130130248627, 0.023149080312613632, 0.04154150028701899, 0.025685965826324715, 0.03837039339488013, 0.3414246244261152, 0.03505940061247628, 0.0010787507880761933, 0.25997893992636256, 0.0161812618211429, 0.00647250472845716, 0.11219008195992411, 0.012405634062876224, 0.030205022066133413, 0.039913779158819156, 0.10248132486723836, 0.04045315455285725, 0.0021575015761523867, 0.30097537992152273, 0.6971120932005856, 0.6245494015719256, 0.06448770476388009, 0.04696387194760833, 0.002803813250603482, 0.06028198488797487, 0.07920772432954837, 0.0021028599379526117, 0.0764039110789449, 0.02453336594278047, 0.017523832816271765, 0.001401906625301741, 0.9896474932050092, 0.01051771382929714, 0.978147386124634, 0.9873038248019662, 0.9930595378957755, 0.9936634670387815, 0.9617718938045102, 0.10660818175510657, 0.017354820285715025, 0.872699534367384, 0.07322960473314759, 0.10984440709972138, 0.8146793526562668, 0.13301507529682594, 0.026603015059365184, 0.8379949743700034, 0.9819408872645411, 0.9763675847181319, 0.13703327752324374, 0.011712245942157584, 0.040992860797551545, 0.5902971954847422, 0.011712245942157584, 0.20730675317618924, 0.9499114525708727, 0.04896450786447798, 0.9971919998247504, 0.32384049917307456, 0.6692703649576874, 0.004317873322307661, 0.26267965059353754, 0.040861278981216956, 0.6946417426806882, 0.9808424449237545, 0.9735222409866955, 0.9958585458099461, 0.9843552423052926, 0.9895205763934706, 0.1703607756213848, 0.06194937295323084, 0.7433924754387701, 0.9614235260626681, 0.9903555814986812, 0.9883599752497089, 0.276821335335676, 0.11143231719020855, 0.04867832803572268, 0.1501403852668073, 0.042226983356289556, 0.1865025098236122, 0.01583511875860858, 0.020527005798196312, 0.13665121002799258, 0.010556745839072389, 0.9980390698864435, 0.9847017054039207, 0.9913800862114764, 0.4833600067822796, 0.4456955906693747, 0.06591272819758358, 0.9955083684395529, 0.18694112095961327, 0.8048853819094459, 0.9969064813342406, 0.16248754233728943, 0.07013140125196078, 0.19903489228549434, 0.07408246611122618, 0.06716810260751173, 0.021236973618551504, 0.0004938831074081746, 0.09334390730014498, 0.1259401923890845, 0.10173992012608395, 0.0484005445260011, 0.035559583733388564, 0.9949603510950025, 0.8376175459272507, 0.15938471521692624, 0.9909477584558998, 0.8138969681993676, 0.026656014242337368, 0.0017770676161558245, 0.09596165127241452, 0.06042029894929803, 0.9981320349212072, 0.9920582484780103, 0.9757686923353046, 0.8392981893213294, 0.15812864436488813, 0.6442392926871121, 0.0244322286647807, 0.3304780403604547, 0.3657446922532288, 0.003355455892231457, 0.0016777279461157285, 0.6274702518472824, 0.9925725756588147, 0.9917589905841044, 0.9926129404004375, 0.985778951772471, 0.9706711405737254, 0.025656505918248248, 0.9928717688807873, 0.9842730873110396, 0.9908019858779622, 0.9881428964717394, 0.3378967609264264, 0.6587567103775708, 0.0971807351921353, 0.10026583789664753, 0.13882962170305044, 0.10180838924890365, 0.10180838924890365, 0.3085102704512232, 0.14808492981658714, 0.19850251372158492, 0.06556046324749594, 0.0382436035610393, 0.02549573570735953, 0.03460135560284508, 0.05645484335201039, 0.03460135560284508, 0.5445160697500357, 0.35120241735492624, 0.09107558247570023, 0.13723717907297295, 0.09544221999165846, 0.016218939344987714, 0.003119026797113022, 0.257007808082113, 0.005614248234803439, 0.01559513398556511, 0.02557601973632678, 0.0006238053594226044, 0.06725784243208374, 0.011529915845500071, 0.10857337421179233, 0.01249074216595841, 0.2699921960487933, 0.08935684780262554, 0.12298576901866742, 0.24308905907595982, 0.053806273945667, 0.020177352729625123, 0.9931578938225328, 0.9895700719107462, 0.9926124982724202, 0.02136217345509522, 0.9719788922068325, 0.018646318956777378, 0.006906044058065695, 0.08425373750840148, 0.07734769345033578, 0.037292637913554756, 0.14571752962518617, 0.001381208811613139, 0.44198681971620446, 0.06422620974001096, 0.1111873093348577, 0.009668461681291972, 0.01916670849979884, 0.05381422001866597, 0.10762844003733193, 0.1525964869022446, 0.16439138444058235, 0.14817340032536794, 0.21230815569007944, 0.008108992057607201, 0.13342977840244574, 0.0007371810961461091, 0.14232760613177994, 0.34897634195772964, 0.30928883640175253, 0.05474138697376151, 0.14232760613177994, 0.0013685346743440379, 0.003478157924614352, 0.26434000227069077, 0.21564579132608983, 0.5112892149183098, 0.9938777532661748], \"Term\": [\"access\", \"access\", \"access\", \"access\", \"access\", \"acquired\", \"action\", \"action\", \"action\", \"action\", \"action\", \"adam\", \"address\", \"address\", \"address\", \"address\", \"address\", \"adl\", \"administration\", \"administration\", \"administration\", \"advance\", \"advance\", \"affair\", \"afraid\", \"afraid\", \"afternoon\", \"agencies\", \"agencies\", \"agents\", \"ago\", \"ago\", \"ago\", \"ago\", \"ago\", \"ago\", \"ago\", \"aids\", \"air\", \"alcohol\", \"allocated\", \"alomar\", \"alt\", \"alt\", \"alt\", \"aluminum\", \"amendment\", \"amiga\", \"amp\", \"analog\", \"andrew\", \"angeles\", \"angeles\", \"anonymous\", \"anonymous\", \"apparent\", \"appears\", \"appears\", \"appears\", \"appears\", \"appears\", \"apple\", \"apple\", \"application\", \"application\", \"application\", \"applying\", \"appreciated\", \"appreciated\", \"apps\", \"apr\", \"apr\", \"april\", \"april\", \"april\", \"april\", \"april\", \"april\", \"arab\", \"arabs\", \"archive\", \"archive\", \"argc\", \"argic\", \"argument\", \"argument\", \"argument\", \"argument\", \"argument\", \"arithmetic\", \"arizona\", \"armenia\", \"armenian\", \"armenians\", \"army\", \"army\", \"army\", \"army\", \"art\", \"art\", \"article\", \"article\", \"article\", \"article\", \"article\", \"article\", \"article\", \"ask\", \"ask\", \"ask\", \"ask\", \"ask\", \"ask\", \"asking\", \"asking\", \"asking\", \"asking\", \"asking\", \"asking\", \"aspects\", \"aspects\", \"ass\", \"assert\", \"astronomy\", \"atf\", \"atheism\", \"atheist\", \"atheists\", \"ati\", \"atlanta\", \"atomic\", \"atoms\", \"attorney\", \"available\", \"available\", \"available\", \"available\", \"available\", \"available\", \"average\", \"average\", \"awful\", \"azerbaijan\", \"azerbaijani\", \"bad\", \"bad\", \"bad\", \"bad\", \"bad\", \"baerga\", \"ball\", \"balls\", \"band\", \"bank\", \"banks\", \"banks\", \"baseball\", \"based\", \"based\", \"based\", \"based\", \"based\", \"based\", \"based\", \"based\", \"based\", \"based\", \"based\", \"basically\", \"basically\", \"basically\", \"batf\", \"batf\", \"battery\", \"bay\", \"bbs\", \"bear\", \"bear\", \"beautiful\", \"bed\", \"bed\", \"belief\", \"belief\", \"beliefs\", \"beliefs\", \"beliefs\", \"believe\", \"believe\", \"believe\", \"believe\", \"believe\", \"believe\", \"believed\", \"bell\", \"best\", \"best\", \"best\", \"best\", \"best\", \"best\", \"best\", \"best\", \"better\", \"better\", \"better\", \"better\", \"better\", \"better\", \"better\", \"better\", \"better\", \"better\", \"better\", \"bhj\", \"bible\", \"biblical\", \"bike\", \"binaries\", \"binary\", \"bios\", \"bios\", \"bit\", \"bit\", \"bit\", \"bit\", \"bit\", \"bit\", \"bit\", \"bit\", \"bitnet\", \"bitnet\", \"bits\", \"biz\", \"black\", \"black\", \"black\", \"black\", \"block\", \"blood\", \"blood\", \"blood\", \"blood\", \"blood\", \"blues\", \"bmp\", \"bmw\", \"body\", \"body\", \"body\", \"body\", \"body\", \"body\", \"body\", \"bomb\", \"book\", \"book\", \"book\", \"book\", \"books\", \"books\", \"borland\", \"bos\", \"boston\", \"boston\", \"brand\", \"brand\", \"braves\", \"break\", \"break\", \"bringing\", \"buf\", \"buffalo\", \"buffer\", \"build\", \"build\", \"build\", \"build\", \"build\", \"build\", \"bunch\", \"bus\", \"bus\", \"business\", \"business\", \"business\", \"business\", \"business\", \"business\", \"button\", \"buyer\", \"bxn\", \"byte\", \"byte\", \"bytes\", \"cache\", \"cadre\", \"cal\", \"cal\", \"calgary\", \"came\", \"came\", \"came\", \"came\", \"came\", \"came\", \"came\", \"campaign\", \"campbell\", \"campbell\", \"canadian\", \"cancer\", \"canon\", \"capabilities\", \"capabilities\", \"capacity\", \"caps\", \"captain\", \"car\", \"car\", \"card\", \"card\", \"cards\", \"cards\", \"cards\", \"cards\", \"cards\", \"cards\", \"career\", \"carl\", \"carry\", \"carry\", \"carry\", \"carry\", \"carry\", \"cars\", \"cars\", \"carter\", \"case\", \"case\", \"case\", \"case\", \"case\", \"case\", \"case\", \"case\", \"case\", \"case\", \"case\", \"case\", \"case\", \"catalog\", \"catholic\", \"cause\", \"cause\", \"cause\", \"cause\", \"cause\", \"cdc\", \"cds\", \"cells\", \"center\", \"center\", \"centers\", \"certain\", \"certain\", \"certain\", \"certain\", \"certain\", \"certain\", \"certainly\", \"certainly\", \"certainly\", \"certainly\", \"certainly\", \"certainly\", \"chapter\", \"char\", \"charles\", \"chastity\", \"checks\", \"chi\", \"chicago\", \"children\", \"children\", \"children\", \"children\", \"chinese\", \"chip\", \"chips\", \"christ\", \"christian\", \"christianity\", \"christians\", \"church\", \"circuit\", \"circuits\", \"city\", \"city\", \"city\", \"city\", \"city\", \"city\", \"city\", \"civilians\", \"claim\", \"claim\", \"claim\", \"claim\", \"claim\", \"claim\", \"clients\", \"clinton\", \"clipper\", \"clipper\", \"cmu\", \"coach\", \"code\", \"code\", \"code\", \"code\", \"code\", \"code\", \"codes\", \"color\", \"color\", \"color\", \"com\", \"com\", \"come\", \"come\", \"come\", \"come\", \"come\", \"come\", \"come\", \"come\", \"come\", \"comics\", \"commonly\", \"comp\", \"compile\", \"compiler\", \"compound\", \"compress\", \"compuserve\", \"computer\", \"computer\", \"computer\", \"computer\", \"computer\", \"condition\", \"condition\", \"condition\", \"condition\", \"condition\", \"conditions\", \"config\", \"congress\", \"congress\", \"connect\", \"constitution\", \"constitution\", \"constitution\", \"contact\", \"contact\", \"contact\", \"contact\", \"contact\", \"contact\", \"contact\", \"contact\", \"contacts\", \"contest\", \"contrib\", \"control\", \"control\", \"control\", \"control\", \"control\", \"control\", \"control\", \"control\", \"control\", \"controller\", \"conversation\", \"converter\", \"converter\", \"cool\", \"cooling\", \"copy\", \"copy\", \"correct\", \"correct\", \"correct\", \"correct\", \"correction\", \"count\", \"count\", \"count\", \"count\", \"couple\", \"couple\", \"couple\", \"couple\", \"couple\", \"couple\", \"course\", \"course\", \"course\", \"course\", \"course\", \"course\", \"course\", \"course\", \"course\", \"course\", \"course\", \"course\", \"courses\", \"court\", \"cpu\", \"cpu\", \"cpu\", \"craig\", \"crash\", \"crime\", \"crime\", \"cross\", \"cross\", \"cross\", \"cross\", \"cross\", \"cross\", \"crypto\", \"cryptography\", \"cubs\", \"cup\", \"cup\", \"cup\", \"cure\", \"current\", \"current\", \"current\", \"current\", \"current\", \"current\", \"current\", \"current\", \"curt\", \"cycle\", \"cycles\", \"cylinders\", \"dallas\", \"damage\", \"damage\", \"dangerous\", \"darren\", \"data\", \"data\", \"data\", \"data\", \"data\", \"data\", \"data\", \"database\", \"database\", \"databases\", \"daughter\", \"david\", \"david\", \"david\", \"david\", \"david\", \"david\", \"day\", \"day\", \"day\", \"day\", \"day\", \"day\", \"day\", \"day\", \"day\", \"day\", \"day\", \"day\", \"define\", \"define\", \"define\", \"defined\", \"defined\", \"deletion\", \"der\", \"des\", \"description\", \"description\", \"description\", \"desktop\", \"det\", \"detroit\", \"development\", \"development\", \"development\", \"development\", \"devils\", \"diamond\", \"did\", \"did\", \"did\", \"did\", \"did\", \"did\", \"did\", \"did\", \"did\", \"did\", \"did\", \"didn\", \"didn\", \"didn\", \"didn\", \"didn\", \"didn\", \"didn\", \"didn\", \"didn\", \"die\", \"diet\", \"digital\", \"digital\", \"directory\", \"disc\", \"discussion\", \"discussion\", \"discussion\", \"discussion\", \"discussion\", \"discussion\", \"disease\", \"disk\", \"disk\", \"disks\", \"display\", \"display\", \"display\", \"divine\", \"division\", \"division\", \"division\", \"doctor\", \"doctors\", \"doctors\", \"doctors\", \"doctrine\", \"dod\", \"does\", \"does\", \"does\", \"does\", \"does\", \"does\", \"does\", \"does\", \"does\", \"does\", \"does\", \"does\", \"doesn\", \"doesn\", \"doesn\", \"doesn\", \"doesn\", \"doesn\", \"doesn\", \"doesn\", \"dog\", \"dog\", \"dog\", \"dogs\", \"domain\", \"domain\", \"domain\", \"don\", \"don\", \"don\", \"don\", \"don\", \"don\", \"don\", \"don\", \"don\", \"don\", \"don\", \"door\", \"door\", \"dos\", \"dos\", \"dos\", \"dot\", \"dragon\", \"dram\", \"drive\", \"drive\", \"drive\", \"driver\", \"driver\", \"driver\", \"drivers\", \"drivers\", \"drives\", \"drives\", \"driving\", \"driving\", \"driving\", \"dsl\", \"dual\", \"duty\", \"dynamic\", \"earth\", \"earth\", \"earth\", \"earth\", \"eat\", \"eat\", \"eating\", \"economy\", \"edition\", \"edition\", \"edition\", \"edm\", \"edu\", \"edu\", \"edu\", \"edu\", \"edu\", \"edu\", \"edu\", \"educational\", \"eff\", \"eisa\", \"electronic\", \"electronic\", \"electronic\", \"electronic\", \"electronic\", \"electronic\", \"electronic\", \"electronics\", \"email\", \"email\", \"email\", \"email\", \"email\", \"encryption\", \"end\", \"end\", \"end\", \"end\", \"end\", \"end\", \"end\", \"end\", \"end\", \"end\", \"end\", \"end\", \"end\", \"energy\", \"energy\", \"enforcement\", \"engine\", \"engine\", \"engines\", \"ensure\", \"entirely\", \"entries\", \"entries\", \"entries\", \"entry\", \"entry\", \"entry\", \"equipment\", \"equipment\", \"error\", \"error\", \"error\", \"escrow\", \"eternal\", \"eternal\", \"ethernet\", \"event\", \"event\", \"event\", \"event\", \"event\", \"evidence\", \"evidence\", \"evidence\", \"evidence\", \"evidence\", \"evidence\", \"exactly\", \"exactly\", \"exactly\", \"exactly\", \"exactly\", \"example\", \"example\", \"example\", \"example\", \"example\", \"example\", \"example\", \"example\", \"example\", \"example\", \"example\", \"examples\", \"excellent\", \"excellent\", \"excellent\", \"excuse\", \"exist\", \"exist\", \"exist\", \"exist\", \"exist\", \"exist\", \"exist\", \"existence\", \"existence\", \"existence\", \"exists\", \"exists\", \"experienced\", \"experienced\", \"explain\", \"explain\", \"explain\", \"explosive\", \"export\", \"face\", \"face\", \"face\", \"face\", \"face\", \"face\", \"face\", \"fact\", \"fact\", \"fact\", \"fact\", \"fact\", \"fact\", \"fact\", \"fact\", \"fact\", \"fact\", \"faith\", \"fake\", \"familiar\", \"familiar\", \"family\", \"family\", \"family\", \"family\", \"family\", \"fan\", \"fan\", \"fans\", \"faq\", \"faq\", \"faq\", \"fat\", \"father\", \"fax\", \"fax\", \"fax\", \"fax\", \"fax\", \"fbi\", \"fbi\", \"features\", \"features\", \"features\", \"features\", \"federal\", \"federal\", \"federal\", \"figured\", \"file\", \"file\", \"files\", \"files\", \"film\", \"firearm\", \"firearms\", \"fish\", \"flames\", \"flames\", \"flames\", \"flight\", \"floppy\", \"floppy\", \"flyers\", \"focus\", \"following\", \"following\", \"following\", \"following\", \"following\", \"following\", \"following\", \"following\", \"following\", \"following\", \"font\", \"fonts\", \"fonts\", \"food\", \"food\", \"foods\", \"ford\", \"format\", \"formats\", \"fpu\", \"frame\", \"frame\", \"frame\", \"frames\", \"francisco\", \"frank\", \"frequency\", \"ftp\", \"ftp\", \"ftp\", \"fuel\", \"function\", \"function\", \"function\", \"fund\", \"funds\", \"funny\", \"funny\", \"game\", \"games\", \"games\", \"gathered\", \"gay\", \"gear\", \"geb\", \"general\", \"general\", \"general\", \"general\", \"general\", \"general\", \"general\", \"general\", \"general\", \"general\", \"general\", \"general\", \"general\", \"genocide\", \"germany\", \"germany\", \"gfx\", \"ghj\", \"gif\", \"given\", \"given\", \"given\", \"given\", \"given\", \"given\", \"given\", \"given\", \"given\", \"given\", \"given\", \"giz\", \"gmt\", \"gmt\", \"goal\", \"goal\", \"god\", \"god\", \"gods\", \"going\", \"going\", \"going\", \"going\", \"going\", \"going\", \"going\", \"going\", \"gold\", \"gold\", \"good\", \"good\", \"good\", \"good\", \"good\", \"good\", \"good\", \"good\", \"good\", \"good\", \"gordon\", \"gospel\", \"got\", \"got\", \"got\", \"got\", \"got\", \"got\", \"got\", \"gov\", \"gov\", \"government\", \"government\", \"graphic\", \"graphics\", \"graphics\", \"gray\", \"great\", \"great\", \"great\", \"great\", \"great\", \"great\", \"great\", \"great\", \"great\", \"great\", \"great\", \"great\", \"greece\", \"greek\", \"greek\", \"ground\", \"ground\", \"ground\", \"ground\", \"ground\", \"group\", \"group\", \"group\", \"group\", \"group\", \"group\", \"group\", \"group\", \"group\", \"groups\", \"groups\", \"groups\", \"guidelines\", \"gun\", \"guns\", \"hadn\", \"handgun\", \"handguns\", \"happened\", \"happened\", \"happened\", \"happened\", \"har\", \"hard\", \"hard\", \"hard\", \"hard\", \"hard\", \"hard\", \"hardware\", \"hardware\", \"hardware\", \"harley\", \"hartford\", \"headache\", \"health\", \"health\", \"health\", \"hear\", \"heard\", \"heard\", \"heat\", \"heat\", \"heaven\", \"heaven\", \"heck\", \"hell\", \"hell\", \"hell\", \"hell\", \"helmet\", \"help\", \"help\", \"help\", \"help\", \"help\", \"help\", \"henrik\", \"high\", \"high\", \"high\", \"high\", \"high\", \"high\", \"high\", \"high\", \"high\", \"high\", \"high\", \"high\", \"history\", \"history\", \"history\", \"history\", \"history\", \"history\", \"history\", \"hit\", \"hit\", \"hit\", \"hit\", \"hit\", \"hit\", \"hitler\", \"hockey\", \"hockey\", \"holes\", \"holy\", \"holy\", \"home\", \"home\", \"home\", \"home\", \"home\", \"home\", \"homicide\", \"homosexual\", \"homosexuality\", \"homosexuals\", \"horizontal\", \"host\", \"host\", \"hot\", \"hours\", \"hours\", \"hours\", \"house\", \"house\", \"house\", \"house\", \"house\", \"humans\", \"ibm\", \"ibm\", \"ibm\", \"ice\", \"ice\", \"ice\", \"ice\", \"ide\", \"idea\", \"idea\", \"idea\", \"idea\", \"idea\", \"idea\", \"idea\", \"idiot\", \"illegal\", \"image\", \"image\", \"images\", \"images\", \"images\", \"imake\", \"include\", \"include\", \"include\", \"include\", \"include\", \"include\", \"include\", \"include\", \"includes\", \"includes\", \"includes\", \"includes\", \"includes\", \"includes\", \"includes\", \"includes\", \"includes\", \"includes\", \"info\", \"info\", \"info\", \"info\", \"information\", \"information\", \"information\", \"information\", \"information\", \"information\", \"information\", \"information\", \"information\", \"information\", \"inherent\", \"ini\", \"ink\", \"insert\", \"inside\", \"inside\", \"installation\", \"installed\", \"installed\", \"installed\", \"institute\", \"instructions\", \"insurance\", \"insurance\", \"int\", \"int\", \"intel\", \"intellect\", \"intended\", \"intended\", \"intended\", \"intended\", \"intended\", \"interested\", \"interested\", \"interested\", \"interested\", \"interested\", \"interested\", \"interested\", \"interested\", \"interested\", \"interested\", \"interference\", \"interference\", \"internet\", \"internet\", \"internet\", \"internet\", \"iran\", \"isa\", \"islam\", \"islamic\", \"island\", \"island\", \"islanders\", \"israel\", \"israel\", \"israeli\", \"jan\", \"jersey\", \"jesus\", \"jets\", \"jewish\", \"jewish\", \"jews\", \"jews\", \"jobs\", \"john\", \"john\", \"john\", \"john\", \"john\", \"john\", \"john\", \"jose\", \"journal\", \"journal\", \"jpeg\", \"judaism\", \"judges\", \"judges\", \"judges\", \"jumper\", \"just\", \"just\", \"just\", \"just\", \"just\", \"just\", \"just\", \"just\", \"just\", \"just\", \"just\", \"keith\", \"key\", \"key\", \"key\", \"key\", \"key\", \"keyboard\", \"keyboard\", \"keys\", \"kids\", \"killed\", \"killed\", \"kit\", \"knew\", \"knew\", \"knew\", \"knew\", \"knew\", \"knew\", \"know\", \"know\", \"know\", \"know\", \"know\", \"know\", \"know\", \"know\", \"know\", \"know\", \"koresh\", \"laboratory\", \"lack\", \"lack\", \"land\", \"land\", \"land\", \"land\", \"large\", \"large\", \"large\", \"large\", \"large\", \"large\", \"large\", \"large\", \"large\", \"laser\", \"later\", \"later\", \"later\", \"later\", \"later\", \"later\", \"later\", \"later\", \"later\", \"launch\", \"launched\", \"law\", \"law\", \"law\", \"laws\", \"lcs\", \"leafs\", \"league\", \"learned\", \"lebanese\", \"led\", \"led\", \"led\", \"led\", \"led\", \"left\", \"left\", \"left\", \"left\", \"left\", \"left\", \"left\", \"legal\", \"legal\", \"lemieux\", \"let\", \"let\", \"let\", \"let\", \"let\", \"let\", \"let\", \"let\", \"let\", \"let\", \"lib\", \"libraries\", \"library\", \"library\", \"life\", \"life\", \"life\", \"life\", \"life\", \"life\", \"life\", \"life\", \"life\", \"life\", \"light\", \"light\", \"light\", \"light\", \"lights\", \"like\", \"like\", \"like\", \"like\", \"like\", \"like\", \"like\", \"like\", \"like\", \"like\", \"like\", \"like\", \"like\", \"like\", \"like\", \"line\", \"line\", \"line\", \"line\", \"line\", \"line\", \"line\", \"list\", \"list\", \"list\", \"list\", \"list\", \"list\", \"list\", \"list\", \"list\", \"list\", \"list\", \"lists\", \"lists\", \"lists\", \"lists\", \"lists\", \"little\", \"little\", \"little\", \"little\", \"little\", \"little\", \"little\", \"little\", \"live\", \"live\", \"live\", \"live\", \"live\", \"live\", \"live\", \"local\", \"local\", \"local\", \"local\", \"local\", \"local\", \"local\", \"look\", \"look\", \"look\", \"look\", \"look\", \"look\", \"look\", \"look\", \"look\", \"look\", \"loop\", \"lord\", \"lord\", \"los\", \"los\", \"lot\", \"lot\", \"lot\", \"lot\", \"lot\", \"lot\", \"lot\", \"lot\", \"louis\", \"low\", \"low\", \"low\", \"low\", \"low\", \"low\", \"lunar\", \"mac\", \"mac\", \"machine\", \"machine\", \"machine\", \"machine\", \"machine\", \"machines\", \"machines\", \"machines\", \"macs\", \"mail\", \"mail\", \"mail\", \"mail\", \"mail\", \"mail\", \"mailing\", \"make\", \"make\", \"make\", \"make\", \"make\", \"make\", \"make\", \"make\", \"make\", \"make\", \"make\", \"make\", \"make\", \"make\", \"make\", \"man\", \"man\", \"man\", \"man\", \"man\", \"man\", \"man\", \"man\", \"man\", \"manager\", \"manager\", \"managers\", \"manual\", \"manual\", \"manual\", \"manual\", \"manuals\", \"mark\", \"mark\", \"mark\", \"mark\", \"mark\", \"mark\", \"mark\", \"marriage\", \"married\", \"mars\", \"materials\", \"matthew\", \"matthew\", \"max\", \"maximum\", \"maybe\", \"maybe\", \"maybe\", \"maybe\", \"maybe\", \"maybe\", \"maybe\", \"maybe\", \"mean\", \"mean\", \"mean\", \"mean\", \"mean\", \"mean\", \"means\", \"means\", \"means\", \"means\", \"means\", \"means\", \"measurement\", \"media\", \"media\", \"media\", \"medical\", \"medical\", \"medical\", \"meg\", \"meg\", \"membership\", \"memory\", \"memory\", \"memory\", \"memory\", \"michael\", \"michael\", \"michael\", \"michael\", \"microsoft\", \"microsoft\", \"miles\", \"miles\", \"miles\", \"military\", \"military\", \"military\", \"military\", \"militia\", \"miller\", \"miller\", \"million\", \"million\", \"million\", \"million\", \"million\", \"min\", \"minnesota\", \"mirror\", \"misc\", \"misc\", \"misc\", \"mission\", \"missions\", \"mit\", \"mode\", \"mode\", \"module\", \"mon\", \"mon\", \"money\", \"money\", \"money\", \"money\", \"money\", \"money\", \"monitor\", \"monitor\", \"monitor\", \"monitors\", \"montreal\", \"moon\", \"morality\", \"morality\", \"morning\", \"morning\", \"morning\", \"morning\", \"motherboard\", \"motif\", \"motor\", \"motorcycle\", \"motorcycle\", \"msdos\", \"msg\", \"music\", \"muslim\", \"muslim\", \"myers\", \"nasa\", \"national\", \"national\", \"national\", \"national\", \"national\", \"national\", \"nazi\", \"nazis\", \"neck\", \"need\", \"need\", \"need\", \"need\", \"need\", \"need\", \"need\", \"need\", \"need\", \"need\", \"need\", \"need\", \"net\", \"net\", \"net\", \"net\", \"net\", \"net\", \"net\", \"netcom\", \"neutral\", \"new\", \"new\", \"new\", \"new\", \"new\", \"new\", \"new\", \"new\", \"new\", \"new\", \"new\", \"new\", \"new\", \"new\", \"new\", \"new\", \"new\", \"news\", \"news\", \"news\", \"news\", \"news\", \"news\", \"news\", \"news\", \"newsgroup\", \"newsgroup\", \"newsgroup\", \"newsgroup\", \"newsgroup\", \"newsgroups\", \"newsgroups\", \"newsgroups\", \"newsletter\", \"nhl\", \"nick\", \"nist\", \"norton\", \"note\", \"note\", \"note\", \"note\", \"note\", \"note\", \"note\", \"note\", \"note\", \"note\", \"note\", \"note\", \"nra\", \"nrhj\", \"nsa\", \"nsa\", \"nubus\", \"nuclear\", \"number\", \"number\", \"number\", \"number\", \"number\", \"number\", \"number\", \"number\", \"number\", \"number\", \"nuy\", \"nyi\", \"nyr\", \"objective\", \"objective\", \"obo\", \"observation\", \"obtaining\", \"offer\", \"offer\", \"offer\", \"offer\", \"oil\", \"oil\", \"oil\", \"oilers\", \"openwindows\", \"opponent\", \"optical\", \"option\", \"option\", \"optional\", \"optional\", \"orbit\", \"orbital\", \"org\", \"ott\", \"ottoman\", \"outlets\", \"output\", \"output\", \"output\", \"palestinian\", \"panel\", \"paradox\", \"parameter\", \"pascal\", \"patients\", \"patrick\", \"pay\", \"pay\", \"pay\", \"pay\", \"pay\", \"pay\", \"paying\", \"peace\", \"peace\", \"peace\", \"pem\", \"penalty\", \"penalty\", \"pens\", \"people\", \"people\", \"people\", \"people\", \"people\", \"people\", \"people\", \"people\", \"people\", \"people\", \"period\", \"period\", \"period\", \"period\", \"period\", \"period\", \"period\", \"period\", \"person\", \"person\", \"person\", \"person\", \"personal\", \"personal\", \"personal\", \"phi\", \"philadelphia\", \"photography\", \"pick\", \"pick\", \"picture\", \"picture\", \"picture\", \"picture\", \"picture\", \"pictures\", \"pictures\", \"pin\", \"pin\", \"pin\", \"pit\", \"pit\", \"pitching\", \"pitt\", \"pittsburgh\", \"plaintext\", \"planetary\", \"platforms\", \"play\", \"play\", \"play\", \"player\", \"player\", \"player\", \"players\", \"players\", \"playing\", \"playoff\", \"plug\", \"plus\", \"plus\", \"plus\", \"plus\", \"plus\", \"plus\", \"point\", \"point\", \"point\", \"point\", \"point\", \"point\", \"point\", \"point\", \"point\", \"point\", \"point\", \"pope\", \"population\", \"population\", \"population\", \"port\", \"port\", \"portable\", \"portable\", \"possible\", \"possible\", \"possible\", \"possible\", \"possible\", \"possible\", \"possible\", \"possible\", \"possible\", \"possible\", \"possible\", \"post\", \"post\", \"post\", \"post\", \"post\", \"post\", \"post\", \"post\", \"post\", \"post\", \"posted\", \"posted\", \"posted\", \"posted\", \"posted\", \"posted\", \"posting\", \"posting\", \"posting\", \"posting\", \"posting\", \"posting\", \"posting\", \"posting\", \"posts\", \"posts\", \"posts\", \"posts\", \"postscript\", \"power\", \"power\", \"power\", \"power\", \"power\", \"power\", \"powerbook\", \"predict\", \"presentation\", \"president\", \"president\", \"president\", \"president\", \"press\", \"press\", \"press\", \"press\", \"price\", \"price\", \"price\", \"price\", \"price\", \"print\", \"print\", \"printer\", \"printer\", \"printers\", \"printf\", \"privacy\", \"private\", \"private\", \"probe\", \"problem\", \"problem\", \"problem\", \"problem\", \"problem\", \"problem\", \"problem\", \"problem\", \"problem\", \"proceedings\", \"process\", \"process\", \"process\", \"process\", \"process\", \"process\", \"processing\", \"products\", \"products\", \"products\", \"products\", \"products\", \"products\", \"professor\", \"program\", \"program\", \"program\", \"program\", \"program\", \"program\", \"programmer\", \"programs\", \"programs\", \"programs\", \"programs\", \"programs\", \"progress\", \"project\", \"project\", \"project\", \"project\", \"project\", \"projects\", \"proposal\", \"propulsion\", \"protect\", \"protect\", \"protect\", \"protocol\", \"provides\", \"provides\", \"provides\", \"pts\", \"pub\", \"pub\", \"public\", \"public\", \"public\", \"public\", \"public\", \"public\", \"puck\", \"pure\", \"qax\", \"quadra\", \"que\", \"quebec\", \"quebec\", \"question\", \"question\", \"question\", \"question\", \"question\", \"question\", \"question\", \"question\", \"question\", \"question\", \"questions\", \"questions\", \"questions\", \"questions\", \"questions\", \"radio\", \"radio\", \"radio\", \"radio\", \"radio\", \"radius\", \"ram\", \"ram\", \"ranger\", \"rangers\", \"rangers\", \"rational\", \"read\", \"read\", \"read\", \"read\", \"read\", \"read\", \"read\", \"really\", \"really\", \"really\", \"really\", \"really\", \"really\", \"really\", \"really\", \"rear\", \"reasons\", \"reasons\", \"reasons\", \"rec\", \"receiver\", \"reduced\", \"relevant\", \"religion\", \"religion\", \"religions\", \"religious\", \"religious\", \"religious\", \"religious\", \"remark\", \"remark\", \"remarks\", \"republic\", \"request\", \"request\", \"request\", \"request\", \"research\", \"research\", \"resolution\", \"resolution\", \"resolution\", \"resource\", \"resource\", \"resource\", \"respectively\", \"resurrection\", \"return\", \"return\", \"return\", \"return\", \"return\", \"return\", \"return\", \"return\", \"revelation\", \"rider\", \"riders\", \"riding\", \"riding\", \"right\", \"right\", \"right\", \"right\", \"right\", \"right\", \"right\", \"right\", \"right\", \"right\", \"rights\", \"rights\", \"rights\", \"rights\", \"ripem\", \"risks\", \"river\", \"rkba\", \"road\", \"road\", \"road\", \"road\", \"rob\", \"rob\", \"rob\", \"rob\", \"rocket\", \"rocks\", \"roger\", \"rom\", \"rom\", \"round\", \"round\", \"round\", \"round\", \"routines\", \"rsa\", \"rules\", \"rules\", \"run\", \"run\", \"run\", \"run\", \"run\", \"run\", \"run\", \"running\", \"running\", \"running\", \"running\", \"running\", \"runs\", \"runs\", \"runs\", \"russia\", \"russia\", \"russian\", \"russian\", \"ryan\", \"sabres\", \"sad\", \"said\", \"said\", \"said\", \"said\", \"said\", \"said\", \"said\", \"said\", \"said\", \"said\", \"sale\", \"salvation\", \"san\", \"san\", \"sas\", \"satan\", \"satellite\", \"satellites\", \"saw\", \"saw\", \"saw\", \"saw\", \"saw\", \"saw\", \"say\", \"say\", \"say\", \"say\", \"say\", \"say\", \"say\", \"say\", \"say\", \"say\", \"say\", \"schedule\", \"sci\", \"sci\", \"sci\", \"sci\", \"sci\", \"sci\", \"sci\", \"science\", \"science\", \"scientific\", \"scientific\", \"scored\", \"scorer\", \"scores\", \"scoring\", \"scoring\", \"screen\", \"screen\", \"screen\", \"screen\", \"scripture\", \"scsi\", \"season\", \"season\", \"seats\", \"sec\", \"second\", \"second\", \"second\", \"second\", \"second\", \"second\", \"second\", \"second\", \"second\", \"second\", \"secret\", \"secret\", \"section\", \"section\", \"section\", \"section\", \"secular\", \"secure\", \"secure\", \"security\", \"security\", \"security\", \"security\", \"seeds\", \"segment\", \"self\", \"self\", \"sell\", \"sell\", \"sell\", \"semi\", \"semi\", \"senate\", \"senator\", \"send\", \"send\", \"send\", \"send\", \"send\", \"send\", \"send\", \"send\", \"send\", \"send\", \"senses\", \"sequence\", \"serdar\", \"serial\", \"server\", \"server\", \"server\", \"set\", \"set\", \"set\", \"set\", \"set\", \"set\", \"set\", \"set\", \"set\", \"set\", \"sex\", \"sexual\", \"sgi\", \"sgi\", \"shameful\", \"shared\", \"shared\", \"sheet\", \"shell\", \"shipping\", \"shuttle\", \"sick\", \"sick\", \"siggraph\", \"simms\", \"sin\", \"sin\", \"sites\", \"sites\", \"skepticism\", \"skip\", \"slot\", \"slots\", \"small\", \"small\", \"small\", \"small\", \"small\", \"small\", \"small\", \"small\", \"small\", \"software\", \"software\", \"software\", \"software\", \"software\", \"solar\", \"solar\", \"sold\", \"sold\", \"soldiers\", \"son\", \"son\", \"sony\", \"soon\", \"soon\", \"soon\", \"soon\", \"soon\", \"soon\", \"sort\", \"sort\", \"sort\", \"sort\", \"sort\", \"sort\", \"source\", \"source\", \"source\", \"source\", \"source\", \"source\", \"source\", \"source\", \"source\", \"soviet\", \"soviet\", \"space\", \"space\", \"space\", \"space\", \"spacecraft\", \"specific\", \"specific\", \"specific\", \"specific\", \"speed\", \"speed\", \"speed\", \"speed\", \"spell\", \"spending\", \"spirit\", \"started\", \"started\", \"started\", \"started\", \"started\", \"started\", \"started\", \"state\", \"state\", \"state\", \"state\", \"state\", \"state\", \"state\", \"station\", \"steal\", \"stealth\", \"stl\", \"stream\", \"street\", \"street\", \"street\", \"street\", \"string\", \"string\", \"strings\", \"strip\", \"sub\", \"subject\", \"subject\", \"subject\", \"subject\", \"subject\", \"subject\", \"subject\", \"subject\", \"subject\", \"subject\", \"suck\", \"sumgait\", \"sun\", \"sun\", \"sun\", \"sun\", \"sun\", \"superior\", \"supply\", \"supply\", \"support\", \"support\", \"support\", \"support\", \"support\", \"support\", \"support\", \"support\", \"support\", \"support\", \"sure\", \"sure\", \"sure\", \"sure\", \"sure\", \"sure\", \"sure\", \"sure\", \"sure\", \"sure\", \"surface\", \"surface\", \"surface\", \"surgery\", \"surrender\", \"svga\", \"swedish\", \"switzerland\", \"symptoms\", \"syndrome\", \"sys\", \"sys\", \"systems\", \"systems\", \"systems\", \"systems\", \"systems\", \"systems\", \"systems\", \"systems\", \"systems\", \"systems\", \"systems\", \"talked\", \"tank\", \"tape\", \"tar\", \"taste\", \"taught\", \"taught\", \"tax\", \"taxes\", \"team\", \"team\", \"team\", \"teams\", \"technology\", \"technology\", \"technology\", \"technology\", \"technology\", \"tell\", \"tell\", \"tell\", \"tell\", \"tell\", \"tell\", \"tell\", \"tell\", \"temp\", \"tend\", \"tend\", \"tend\", \"tend\", \"tend\", \"tension\", \"terminals\", \"testament\", \"tests\", \"texas\", \"texas\", \"thanks\", \"thanks\", \"thanks\", \"thanks\", \"thanks\", \"thing\", \"thing\", \"thing\", \"thing\", \"thing\", \"thing\", \"thing\", \"thing\", \"thing\", \"things\", \"things\", \"things\", \"things\", \"things\", \"things\", \"things\", \"things\", \"think\", \"think\", \"think\", \"think\", \"think\", \"think\", \"think\", \"think\", \"think\", \"thought\", \"thought\", \"thought\", \"thought\", \"thought\", \"thought\", \"thought\", \"thought\", \"tie\", \"tiff\", \"time\", \"time\", \"time\", \"time\", \"time\", \"time\", \"time\", \"time\", \"time\", \"time\", \"time\", \"time\", \"time\", \"tire\", \"tires\", \"title\", \"title\", \"title\", \"title\", \"title\", \"title\", \"title\", \"titles\", \"tobacco\", \"todd\", \"told\", \"told\", \"told\", \"told\", \"told\", \"told\", \"told\", \"told\", \"toolkit\", \"topics\", \"topics\", \"tor\", \"toronto\", \"toronto\", \"toshiba\", \"treatment\", \"treatment\", \"trial\", \"tries\", \"tries\", \"troops\", \"true\", \"true\", \"true\", \"true\", \"true\", \"true\", \"true\", \"true\", \"truth\", \"truth\", \"truth\", \"tube\", \"turbo\", \"turkey\", \"turkish\", \"turks\", \"typing\", \"tyre\", \"ucs\", \"uni\", \"university\", \"university\", \"university\", \"university\", \"university\", \"unix\", \"unix\", \"upenn\", \"upgrade\", \"usage\", \"usage\", \"usage\", \"usage\", \"use\", \"use\", \"use\", \"use\", \"use\", \"use\", \"use\", \"use\", \"use\", \"use\", \"use\", \"use\", \"used\", \"used\", \"used\", \"used\", \"used\", \"used\", \"used\", \"used\", \"used\", \"used\", \"used\", \"used\", \"used\", \"user\", \"user\", \"using\", \"using\", \"using\", \"using\", \"using\", \"using\", \"using\", \"using\", \"using\", \"using\", \"using\", \"usr\", \"utilities\", \"utilities\", \"utility\", \"uucp\", \"uunet\", \"vacuum\", \"value\", \"value\", \"value\", \"values\", \"values\", \"values\", \"van\", \"van\", \"van\", \"vendors\", \"verse\", \"version\", \"version\", \"version\", \"version\", \"version\", \"version\", \"vesa\", \"vesa\", \"vga\", \"video\", \"video\", \"video\", \"view\", \"view\", \"view\", \"viewer\", \"viewing\", \"villages\", \"violent\", \"voltage\", \"votes\", \"votes\", \"votes\", \"voting\", \"vram\", \"walls\", \"want\", \"want\", \"want\", \"want\", \"want\", \"want\", \"want\", \"want\", \"want\", \"want\", \"war\", \"warrant\", \"warranty\", \"washington\", \"washington\", \"washington\", \"wasn\", \"watch\", \"watch\", \"water\", \"way\", \"way\", \"way\", \"way\", \"way\", \"way\", \"way\", \"way\", \"way\", \"way\", \"way\", \"way\", \"weapon\", \"weapons\", \"weapons\", \"weekend\", \"went\", \"went\", \"went\", \"went\", \"went\", \"widget\", \"widgets\", \"width\", \"win\", \"win\", \"window\", \"window\", \"window\", \"windows\", \"windows\", \"windows\", \"windows\", \"winner\", \"winning\", \"winnipeg\", \"wins\", \"wire\", \"wire\", \"wires\", \"wiretap\", \"wiring\", \"wisdom\", \"women\", \"women\", \"won\", \"won\", \"won\", \"won\", \"won\", \"won\", \"won\", \"word\", \"word\", \"word\", \"word\", \"word\", \"word\", \"word\", \"word\", \"work\", \"work\", \"work\", \"work\", \"work\", \"work\", \"work\", \"work\", \"work\", \"work\", \"work\", \"world\", \"world\", \"world\", \"world\", \"world\", \"world\", \"world\", \"world\", \"world\", \"world\", \"worship\", \"wwiz\", \"xlib\", \"xterm\", \"xterm\", \"year\", \"year\", \"year\", \"year\", \"year\", \"year\", \"year\", \"year\", \"year\", \"year\", \"year\", \"years\", \"years\", \"years\", \"years\", \"years\", \"years\", \"years\", \"years\", \"years\", \"years\", \"yes\", \"yes\", \"yes\", \"yes\", \"yes\", \"yes\", \"york\", \"york\", \"york\", \"york\", \"zip\"]}, \"R\": 30, \"lambda.step\": 0.01, \"plot.opts\": {\"xlab\": \"PC1\", \"ylab\": \"PC2\"}, \"topic.order\": [16, 13, 5, 7, 1, 15, 10, 14, 6, 9, 3, 2, 19, 17, 11, 8, 20, 4, 12, 18]};\n",
       "\n",
       "function LDAvis_load_lib(url, callback){\n",
       "  var s = document.createElement('script');\n",
       "  s.src = url;\n",
       "  s.async = true;\n",
       "  s.onreadystatechange = s.onload = callback;\n",
       "  s.onerror = function(){console.warn(\"failed to load library \" + url);};\n",
       "  document.getElementsByTagName(\"head\")[0].appendChild(s);\n",
       "}\n",
       "\n",
       "if(typeof(LDAvis) !== \"undefined\"){\n",
       "   // already loaded: just create the visualization\n",
       "   !function(LDAvis){\n",
       "       new LDAvis(\"#\" + \"ldavis_el113991399033920904489287742776\", ldavis_el113991399033920904489287742776_data);\n",
       "   }(LDAvis);\n",
       "}else if(typeof define === \"function\" && define.amd){\n",
       "   // require.js is available: use it to load d3/LDAvis\n",
       "   require.config({paths: {d3: \"https://d3js.org/d3.v5\"}});\n",
       "   require([\"d3\"], function(d3){\n",
       "      window.d3 = d3;\n",
       "      LDAvis_load_lib(\"https://cdn.jsdelivr.net/gh/bmabey/pyLDAvis@3.2.2/pyLDAvis/js/ldavis.v3.0.0.js\", function(){\n",
       "        new LDAvis(\"#\" + \"ldavis_el113991399033920904489287742776\", ldavis_el113991399033920904489287742776_data);\n",
       "      });\n",
       "    });\n",
       "}else{\n",
       "    // require.js not available: dynamically load d3 & LDAvis\n",
       "    LDAvis_load_lib(\"https://d3js.org/d3.v5.js\", function(){\n",
       "         LDAvis_load_lib(\"https://cdn.jsdelivr.net/gh/bmabey/pyLDAvis@3.2.2/pyLDAvis/js/ldavis.v3.0.0.js\", function(){\n",
       "                 new LDAvis(\"#\" + \"ldavis_el113991399033920904489287742776\", ldavis_el113991399033920904489287742776_data);\n",
       "            })\n",
       "         });\n",
       "}\n",
       "</script>"
      ],
      "text/plain": [
       "PreparedData(topic_coordinates=              x         y  topics  cluster       Freq\n",
       "topic                                                \n",
       "15     0.092879 -0.139886       1        1  10.790530\n",
       "12     0.202430  0.013780       2        1   8.337528\n",
       "4      0.227048  0.050184       3        1   8.214927\n",
       "6      0.071891 -0.047102       4        1   7.852152\n",
       "0      0.152312  0.006003       5        1   7.518101\n",
       "14     0.096788  0.107566       6        1   6.842131\n",
       "9     -0.064912 -0.107318       7        1   6.526612\n",
       "13     0.120048 -0.083336       8        1   6.466788\n",
       "5      0.191765  0.091332       9        1   6.461370\n",
       "8      0.143592  0.045812      10        1   5.378958\n",
       "2     -0.164920 -0.221705      11        1   4.780635\n",
       "1      0.163990  0.025877      12        1   3.873271\n",
       "18     0.010707 -0.146384      13        1   3.285402\n",
       "16    -0.153981  0.248937      14        1   2.748733\n",
       "10    -0.183097  0.005075      15        1   2.696938\n",
       "7     -0.132956 -0.069713      16        1   2.506468\n",
       "19    -0.201248  0.054603      17        1   2.210733\n",
       "3     -0.199652 -0.161564      18        1   1.838025\n",
       "11    -0.190880  0.120965      19        1   0.892992\n",
       "17    -0.181806  0.206874      20        1   0.777705, topic_info=       Term         Freq        Total Category  logprob  loglift\n",
       "5016    max  4399.000000  4399.000000  Default  30.0000  30.0000\n",
       "2653    edu  2391.000000  2391.000000  Default  29.0000  29.0000\n",
       "3523    god  2039.000000  2039.000000  Default  28.0000  28.0000\n",
       "1506    com  1432.000000  1432.000000  Default  27.0000  27.0000\n",
       "3153   file  1678.000000  1678.000000  Default  26.0000  26.0000\n",
       "...     ...          ...          ...      ...      ...      ...\n",
       "8898  watch   155.498301   192.574003  Topic20  -3.7121   4.6427\n",
       "692   banks   111.609712   131.553725  Topic20  -4.0437   4.6922\n",
       "7657   soon   129.350316   350.316754  Topic20  -3.8962   3.8603\n",
       "3100    fbi   111.278222   248.258642  Topic20  -4.0467   4.0541\n",
       "2653    edu   143.448319  2391.990612  Topic20  -3.7928   2.0427\n",
       "\n",
       "[1218 rows x 6 columns], token_table=      Topic      Freq    Term\n",
       "term                         \n",
       "44        1  0.521048  access\n",
       "44        4  0.056842  access\n",
       "44        7  0.020842  access\n",
       "44       15  0.024631  access\n",
       "44       18  0.375155  access\n",
       "...     ...       ...     ...\n",
       "9124      4  0.003478    york\n",
       "9124      6  0.264340    york\n",
       "9124      7  0.215646    york\n",
       "9124     14  0.511289    york\n",
       "9140     11  0.993878     zip\n",
       "\n",
       "[2862 rows x 3 columns], R=30, lambda_step=0.01, plot_opts={'xlab': 'PC1', 'ylab': 'PC2'}, topic_order=[16, 13, 5, 7, 1, 15, 10, 14, 6, 9, 3, 2, 19, 17, 11, 8, 20, 4, 12, 18])"
      ]
     },
     "execution_count": 36,
     "metadata": {},
     "output_type": "execute_result"
    }
   ],
   "source": [
    "pyLDAvis.sklearn.prepare(lda_tf, dtm_tf, tf_vectorizer)"
   ]
  },
  {
   "cell_type": "markdown",
   "metadata": {},
   "source": [
    "# **2 - How to classify**\n",
    "# Text Classification with Pre-Trained Word Embeddings"
   ]
  },
  {
   "cell_type": "markdown",
   "metadata": {},
   "source": [
    "**In this part of the notebook we'll have a look at a text classifier. And this time, because classification is somewhat task-specific, we actaally have to train a model.**"
   ]
  },
  {
   "cell_type": "code",
   "execution_count": 37,
   "metadata": {
    "execution": {
     "iopub.execute_input": "2021-10-11T19:55:25.995749Z",
     "iopub.status.busy": "2021-10-11T19:55:25.995387Z",
     "iopub.status.idle": "2021-10-11T19:55:26.009959Z",
     "shell.execute_reply": "2021-10-11T19:55:26.009022Z",
     "shell.execute_reply.started": "2021-10-11T19:55:25.995716Z"
    }
   },
   "outputs": [
    {
     "name": "stderr",
     "output_type": "stream",
     "text": [
      "[nltk_data] Downloading package stopwords to\n",
      "[nltk_data]     /home/christoph/nltk_data...\n",
      "[nltk_data]   Package stopwords is already up-to-date!\n"
     ]
    },
    {
     "data": {
      "text/plain": [
       "True"
      ]
     },
     "execution_count": 37,
     "metadata": {},
     "output_type": "execute_result"
    }
   ],
   "source": [
    "from sklearn.model_selection import train_test_split\n",
    "from sklearn.preprocessing import LabelEncoder\n",
    "from sklearn.metrics import confusion_matrix, classification_report, accuracy_score\n",
    "from sklearn.manifold import TSNE\n",
    "from sklearn.feature_extraction.text import TfidfVectorizer\n",
    "\n",
    "from tensorflow.keras.preprocessing.text import Tokenizer\n",
    "from tensorflow.keras.preprocessing.sequence import pad_sequences\n",
    "from tensorflow.keras.models import Sequential\n",
    "from tensorflow.keras.layers import Activation, Dense, Dropout, Embedding, Flatten, Conv1D, MaxPooling1D, LSTM\n",
    "from tensorflow.keras import utils\n",
    "from tensorflow.keras.callbacks import ReduceLROnPlateau, EarlyStopping\n",
    "\n",
    "import nltk\n",
    "from nltk.corpus import stopwords\n",
    "from nltk.stem import SnowballStemmer\n",
    "\n",
    "import gensim\n",
    "\n",
    "import re\n",
    "import numpy as np\n",
    "import os\n",
    "from collections import Counter\n",
    "import time\n",
    "import pickle\n",
    "import itertools\n",
    "\n",
    "nltk.download('stopwords')"
   ]
  },
  {
   "cell_type": "code",
   "execution_count": 38,
   "metadata": {
    "execution": {
     "iopub.execute_input": "2021-10-11T20:50:36.112081Z",
     "iopub.status.busy": "2021-10-11T20:50:36.111760Z",
     "iopub.status.idle": "2021-10-11T20:50:36.120876Z",
     "shell.execute_reply": "2021-10-11T20:50:36.119856Z",
     "shell.execute_reply.started": "2021-10-11T20:50:36.112046Z"
    }
   },
   "outputs": [],
   "source": [
    "# Dataset-related parameters\n",
    "DATASET_COLUMNS = [\"target\", \"ids\", \"date\", \"flag\", \"user\", \"text\"]\n",
    "DATASET_ENCODING = \"ISO-8859-1\"\n",
    "TRAIN_SIZE = 0.8\n",
    "TEXT_CLEANING_RE = \"@\\S+|https?:\\S+|http?:\\S|[^A-Za-z0-9]+\"\n",
    "\n",
    "# Word2Vec-Model parameters \n",
    "W2V_SIZE = 300\n",
    "W2V_WINDOW = 7\n",
    "W2V_EPOCH = 32\n",
    "W2V_MIN_COUNT = 10\n",
    "\n",
    "# Training parameters\n",
    "SEQUENCE_LENGTH = 300\n",
    "EPOCHS = 4\n",
    "BATCH_SIZE = 1024\n",
    "\n",
    "# Sentiment decoding\n",
    "POSITIVE = \"POSITIVE\"\n",
    "NEGATIVE = \"NEGATIVE\"\n",
    "NEUTRAL = \"NEUTRAL\"\n",
    "SENTIMENT_THRESHOLDS = (0.4, 0.7)"
   ]
  },
  {
   "cell_type": "code",
   "execution_count": 39,
   "metadata": {
    "execution": {
     "iopub.execute_input": "2021-10-11T21:03:26.571227Z",
     "iopub.status.busy": "2021-10-11T21:03:26.570445Z",
     "iopub.status.idle": "2021-10-11T21:03:30.921941Z",
     "shell.execute_reply": "2021-10-11T21:03:30.921011Z",
     "shell.execute_reply.started": "2021-10-11T21:03:26.571178Z"
    }
   },
   "outputs": [
    {
     "name": "stdout",
     "output_type": "stream",
     "text": [
      "Open file: ./sentiment140/training.1600000.processed.noemoticon.csv\n",
      "Dataset size: 16000\n"
     ]
    }
   ],
   "source": [
    "# Link to dataset: https://www.kaggle.com/kazanova/sentiment140\n",
    "dataset_filename = os.listdir(\"./sentiment140/\")[0]\n",
    "dataset_path = os.path.join(\"./sentiment140/\", dataset_filename)\n",
    "\n",
    "print(\"Open file:\", dataset_path)\n",
    "df = pd.read_csv(dataset_path, encoding =DATASET_ENCODING , names=DATASET_COLUMNS)\n",
    "\n",
    "# Cut the dataset to make things a little faster (every 100th row)\n",
    "df = df.iloc[::100, :]\n",
    "print(\"Dataset size:\", len(df))"
   ]
  },
  {
   "cell_type": "code",
   "execution_count": 40,
   "metadata": {
    "execution": {
     "iopub.execute_input": "2021-10-11T21:04:00.084979Z",
     "iopub.status.busy": "2021-10-11T21:04:00.084647Z",
     "iopub.status.idle": "2021-10-11T21:04:00.102306Z",
     "shell.execute_reply": "2021-10-11T21:04:00.101193Z",
     "shell.execute_reply.started": "2021-10-11T21:04:00.084945Z"
    }
   },
   "outputs": [],
   "source": [
    "decode_map = {0: \"NEGATIVE\", 2: \"NEUTRAL\", 4: \"POSITIVE\"}\n",
    "def decode_sentiment(label):\n",
    "    return decode_map[int(label)]\n",
    "\n",
    "df.target = df.target.apply(lambda x: decode_sentiment(x))\n",
    "stop_words = stopwords.words(\"english\")\n",
    "stemmer = SnowballStemmer(\"english\")"
   ]
  },
  {
   "cell_type": "code",
   "execution_count": 41,
   "metadata": {
    "execution": {
     "iopub.execute_input": "2021-10-11T21:04:00.489508Z",
     "iopub.status.busy": "2021-10-11T21:04:00.488613Z",
     "iopub.status.idle": "2021-10-11T21:04:00.496767Z",
     "shell.execute_reply": "2021-10-11T21:04:00.495806Z",
     "shell.execute_reply.started": "2021-10-11T21:04:00.489453Z"
    }
   },
   "outputs": [],
   "source": [
    "def preprocess(text, stem=False):\n",
    "    # Remove link,user and special characters\n",
    "    text = re.sub(TEXT_CLEANING_RE, ' ', str(text).lower()).strip()\n",
    "    tokens = []\n",
    "    for token in text.split():\n",
    "        if token not in stop_words:\n",
    "            if stem:\n",
    "                tokens.append(stemmer.stem(token))\n",
    "            else:\n",
    "                tokens.append(token)\n",
    "    return \" \".join(tokens)"
   ]
  },
  {
   "cell_type": "code",
   "execution_count": 42,
   "metadata": {
    "execution": {
     "iopub.execute_input": "2021-10-11T21:04:01.029537Z",
     "iopub.status.busy": "2021-10-11T21:04:01.028694Z",
     "iopub.status.idle": "2021-10-11T21:04:01.715947Z",
     "shell.execute_reply": "2021-10-11T21:04:01.715176Z",
     "shell.execute_reply.started": "2021-10-11T21:04:01.029492Z"
    }
   },
   "outputs": [],
   "source": [
    "df.text = df.text.apply(lambda x: preprocess(x))\n",
    "df_train, df_test = train_test_split(df, test_size=1-TRAIN_SIZE, random_state=42)\n",
    "documents = [_text.split() for _text in df_train.text] "
   ]
  },
  {
   "cell_type": "code",
   "execution_count": 43,
   "metadata": {
    "execution": {
     "iopub.execute_input": "2021-10-11T21:04:03.222293Z",
     "iopub.status.busy": "2021-10-11T21:04:03.221986Z",
     "iopub.status.idle": "2021-10-11T21:04:03.330889Z",
     "shell.execute_reply": "2021-10-11T21:04:03.329874Z",
     "shell.execute_reply.started": "2021-10-11T21:04:03.222259Z"
    }
   },
   "outputs": [],
   "source": [
    "w2v_model = gensim.models.word2vec.Word2Vec(size=W2V_SIZE, \n",
    "                                            window=W2V_WINDOW, \n",
    "                                            min_count=W2V_MIN_COUNT, \n",
    "                                            workers=8)\n",
    "\n",
    "w2v_model.build_vocab(documents)"
   ]
  },
  {
   "cell_type": "code",
   "execution_count": 44,
   "metadata": {
    "execution": {
     "iopub.execute_input": "2021-10-11T21:04:10.602673Z",
     "iopub.status.busy": "2021-10-11T21:04:10.602241Z",
     "iopub.status.idle": "2021-10-11T21:04:10.608264Z",
     "shell.execute_reply": "2021-10-11T21:04:10.607439Z",
     "shell.execute_reply.started": "2021-10-11T21:04:10.602643Z"
    }
   },
   "outputs": [
    {
     "name": "stdout",
     "output_type": "stream",
     "text": [
      "Vocab size 1405\n"
     ]
    }
   ],
   "source": [
    "words = w2v_model.wv.vocab.keys()\n",
    "vocab_size = len(words)\n",
    "print(\"Vocab size\", vocab_size)"
   ]
  },
  {
   "cell_type": "code",
   "execution_count": 45,
   "metadata": {
    "execution": {
     "iopub.execute_input": "2021-10-11T21:04:11.409555Z",
     "iopub.status.busy": "2021-10-11T21:04:11.409254Z",
     "iopub.status.idle": "2021-10-11T21:04:15.092010Z",
     "shell.execute_reply": "2021-10-11T21:04:15.091065Z",
     "shell.execute_reply.started": "2021-10-11T21:04:11.409525Z"
    }
   },
   "outputs": [
    {
     "name": "stdout",
     "output_type": "stream",
     "text": [
      "Total words 16233\n"
     ]
    }
   ],
   "source": [
    "# Train w2v-model and tokenize text\n",
    "w2v_model.train(documents, total_examples=len(documents), epochs=W2V_EPOCH)\n",
    "tokenizer = Tokenizer()\n",
    "tokenizer.fit_on_texts(df_train.text)\n",
    "\n",
    "vocab_size = len(tokenizer.word_index) + 1\n",
    "print(\"Total words\", vocab_size)"
   ]
  },
  {
   "cell_type": "code",
   "execution_count": 46,
   "metadata": {
    "execution": {
     "iopub.execute_input": "2021-10-11T21:04:15.093852Z",
     "iopub.status.busy": "2021-10-11T21:04:15.093632Z",
     "iopub.status.idle": "2021-10-11T21:04:15.426023Z",
     "shell.execute_reply": "2021-10-11T21:04:15.425119Z",
     "shell.execute_reply.started": "2021-10-11T21:04:15.093826Z"
    }
   },
   "outputs": [],
   "source": [
    "# Preprocessing 1\n",
    "x_train = pad_sequences(tokenizer.texts_to_sequences(df_train.text), maxlen=SEQUENCE_LENGTH)\n",
    "x_test = pad_sequences(tokenizer.texts_to_sequences(df_test.text), maxlen=SEQUENCE_LENGTH)\n",
    "\n",
    "labels = df_train.target.unique().tolist()\n",
    "labels.append(NEUTRAL)"
   ]
  },
  {
   "cell_type": "code",
   "execution_count": 47,
   "metadata": {
    "execution": {
     "iopub.execute_input": "2021-10-11T21:04:15.427824Z",
     "iopub.status.busy": "2021-10-11T21:04:15.427508Z",
     "iopub.status.idle": "2021-10-11T21:04:15.482972Z",
     "shell.execute_reply": "2021-10-11T21:04:15.481966Z",
     "shell.execute_reply.started": "2021-10-11T21:04:15.427783Z"
    }
   },
   "outputs": [
    {
     "name": "stdout",
     "output_type": "stream",
     "text": [
      "(16233, 300)\n"
     ]
    }
   ],
   "source": [
    "# Preprocessing 2\n",
    "encoder = LabelEncoder()\n",
    "encoder.fit(df_train.target.tolist())\n",
    "y_train = encoder.transform(df_train.target.tolist())\n",
    "y_test = encoder.transform(df_test.target.tolist())\n",
    "y_train = y_train.reshape(-1,1)\n",
    "y_test = y_test.reshape(-1,1)\n",
    "\n",
    "embedding_matrix = np.zeros((vocab_size, W2V_SIZE))\n",
    "for word, i in tokenizer.word_index.items():\n",
    "    if word in w2v_model.wv:\n",
    "        embedding_matrix[i] = w2v_model.wv[word]\n",
    "print(embedding_matrix.shape)"
   ]
  },
  {
   "cell_type": "code",
   "execution_count": 48,
   "metadata": {
    "execution": {
     "iopub.execute_input": "2021-10-11T21:04:15.485964Z",
     "iopub.status.busy": "2021-10-11T21:04:15.485258Z",
     "iopub.status.idle": "2021-10-11T21:04:15.668782Z",
     "shell.execute_reply": "2021-10-11T21:04:15.667769Z",
     "shell.execute_reply.started": "2021-10-11T21:04:15.485906Z"
    }
   },
   "outputs": [],
   "source": [
    "# Build the model\n",
    "embedding_layer = Embedding(vocab_size, W2V_SIZE, weights=[embedding_matrix], input_length=SEQUENCE_LENGTH, trainable=False)\n",
    "model = Sequential()\n",
    "model.add(embedding_layer)\n",
    "model.add(Dropout(0.5))\n",
    "model.add(LSTM(100, dropout=0.2, recurrent_dropout=0.2))\n",
    "model.add(Dense(1, activation='sigmoid'))"
   ]
  },
  {
   "cell_type": "code",
   "execution_count": 49,
   "metadata": {
    "execution": {
     "iopub.execute_input": "2021-10-11T21:04:15.670230Z",
     "iopub.status.busy": "2021-10-11T21:04:15.670024Z",
     "iopub.status.idle": "2021-10-11T21:04:15.684169Z",
     "shell.execute_reply": "2021-10-11T21:04:15.683248Z",
     "shell.execute_reply.started": "2021-10-11T21:04:15.670206Z"
    }
   },
   "outputs": [],
   "source": [
    "# Get the model ready for training\n",
    "model.compile(loss='binary_crossentropy',\n",
    "              optimizer=\"adam\",\n",
    "              metrics=['accuracy'])\n",
    "\n",
    "callbacks = [ReduceLROnPlateau(monitor='val_loss', patience=5, cooldown=0)]"
   ]
  },
  {
   "cell_type": "code",
   "execution_count": 50,
   "metadata": {
    "execution": {
     "iopub.execute_input": "2021-10-11T21:04:15.687280Z",
     "iopub.status.busy": "2021-10-11T21:04:15.686299Z"
    }
   },
   "outputs": [
    {
     "name": "stdout",
     "output_type": "stream",
     "text": [
      "Epoch 1/4\n",
      "12/12 [==============================] - 43s 3s/step - loss: 0.6561 - accuracy: 0.6128 - val_loss: 0.6064 - val_accuracy: 0.6750\n",
      "Epoch 2/4\n",
      "12/12 [==============================] - 41s 3s/step - loss: 0.6152 - accuracy: 0.6576 - val_loss: 0.5864 - val_accuracy: 0.6898\n",
      "Epoch 3/4\n",
      "12/12 [==============================] - 42s 3s/step - loss: 0.6047 - accuracy: 0.6700 - val_loss: 0.5771 - val_accuracy: 0.7000\n",
      "Epoch 4/4\n",
      "12/12 [==============================] - 43s 4s/step - loss: 0.5992 - accuracy: 0.6681 - val_loss: 0.5728 - val_accuracy: 0.7063\n"
     ]
    }
   ],
   "source": [
    "# Train the model\n",
    "history = model.fit(x_train, y_train,\n",
    "                    batch_size=BATCH_SIZE,\n",
    "                    epochs=EPOCHS,\n",
    "                    validation_split=0.1,\n",
    "                    verbose=1,\n",
    "                    callbacks=callbacks)"
   ]
  },
  {
   "cell_type": "code",
   "execution_count": 51,
   "metadata": {},
   "outputs": [],
   "source": [
    "def decode_sentiment(score, include_neutral=True):\n",
    "    if include_neutral:        \n",
    "        label = NEUTRAL\n",
    "        if score <= SENTIMENT_THRESHOLDS[0]:\n",
    "            label = NEGATIVE\n",
    "        elif score >= SENTIMENT_THRESHOLDS[1]:\n",
    "            label = POSITIVE\n",
    "        return label\n",
    "    else:\n",
    "        return NEGATIVE if score < 0.5 else POSITIVE"
   ]
  },
  {
   "cell_type": "code",
   "execution_count": 52,
   "metadata": {},
   "outputs": [],
   "source": [
    "def predict(text, include_neutral=True):\n",
    "    x_test = pad_sequences(tokenizer.texts_to_sequences([text]), maxlen=SEQUENCE_LENGTH)\n",
    "    score = model.predict([x_test])[0]\n",
    "    label = decode_sentiment(score, include_neutral=include_neutral)\n",
    "    return {\"label\": label, \"score\": float(score)}  "
   ]
  },
  {
   "cell_type": "code",
   "execution_count": 53,
   "metadata": {},
   "outputs": [
    {
     "data": {
      "text/plain": [
       "{'label': 'POSITIVE', 'score': 0.7013869285583496}"
      ]
     },
     "execution_count": 53,
     "metadata": {},
     "output_type": "execute_result"
    }
   ],
   "source": [
    "predict(\"I love TUM.ai!\")"
   ]
  },
  {
   "cell_type": "markdown",
   "metadata": {},
   "source": [
    "**Let's package all this in a small UI again.**"
   ]
  },
  {
   "cell_type": "code",
   "execution_count": 54,
   "metadata": {
    "execution": {
     "iopub.execute_input": "2021-10-11T20:40:35.235280Z",
     "iopub.status.busy": "2021-10-11T20:40:35.234363Z",
     "iopub.status.idle": "2021-10-11T20:40:35.274070Z",
     "shell.execute_reply": "2021-10-11T20:40:35.273155Z",
     "shell.execute_reply.started": "2021-10-11T20:40:35.235243Z"
    }
   },
   "outputs": [
    {
     "data": {
      "application/vnd.jupyter.widget-view+json": {
       "model_id": "8269d82f8b064342828c4205a70bb253",
       "version_major": 2,
       "version_minor": 0
      },
      "text/plain": [
       "Text(value='', description='Input Text')"
      ]
     },
     "metadata": {},
     "output_type": "display_data"
    },
    {
     "data": {
      "application/vnd.jupyter.widget-view+json": {
       "model_id": "7f0ae4a74d1f475aa5eea77ed2ca7663",
       "version_major": 2,
       "version_minor": 0
      },
      "text/plain": [
       "Button(description='Classify!', layout=Layout(width='200px'), style=ButtonStyle(button_color='lightblue'))"
      ]
     },
     "metadata": {},
     "output_type": "display_data"
    },
    {
     "data": {
      "application/vnd.jupyter.widget-view+json": {
       "model_id": "b266085a3c6e40f58aff5f37b6c4217b",
       "version_major": 2,
       "version_minor": 0
      },
      "text/plain": [
       "Text(value='', description='Label')"
      ]
     },
     "metadata": {},
     "output_type": "display_data"
    }
   ],
   "source": [
    "# A small User Interface \n",
    "textbox3 = widgets.Text(description='Input Text');display(textbox3); \n",
    "button2 = widgets.Button(description='Classify!', layout=Layout(width='200px')); \n",
    "button2.style.button_color = 'lightblue';display(button2); \n",
    "textbox4 = widgets.Text(description='Label');display(textbox4); \n",
    "\n",
    "# You know the drill ...\n",
    "def on_button_clicked2(sender): \n",
    "    input_text = textbox3.value\n",
    "    prediction = predict(input_text)\n",
    "    textbox4.value = prediction[\"label\"]\n",
    "    \n",
    "button2.on_click(on_button_clicked2)"
   ]
  },
  {
   "cell_type": "markdown",
   "metadata": {},
   "source": [
    "# **3 - How to generate**\n",
    "# Text Generation with HuggingFace"
   ]
  },
  {
   "cell_type": "markdown",
   "metadata": {},
   "source": [
    "**This part of the notebook is tool-wise rather similar to part 1: There's not much code, but, depending on the quality/length of the text you want to generate, you may have to use some big (2GB+) models.**"
   ]
  },
  {
   "cell_type": "code",
   "execution_count": 55,
   "metadata": {
    "execution": {
     "iopub.execute_input": "2021-10-11T19:48:29.525527Z",
     "iopub.status.busy": "2021-10-11T19:48:29.525223Z",
     "iopub.status.idle": "2021-10-11T19:49:31.622151Z",
     "shell.execute_reply": "2021-10-11T19:49:31.621158Z",
     "shell.execute_reply.started": "2021-10-11T19:48:29.525497Z"
    }
   },
   "outputs": [
    {
     "data": {
      "application/vnd.jupyter.widget-view+json": {
       "model_id": "91674475f58a45a38c52c6de4ceac71b",
       "version_major": 2,
       "version_minor": 0
      },
      "text/plain": [
       "HBox(children=(FloatProgress(value=0.0, description='Downloading', max=1042301.0, style=ProgressStyle(descript…"
      ]
     },
     "metadata": {},
     "output_type": "display_data"
    },
    {
     "name": "stdout",
     "output_type": "stream",
     "text": [
      "\n"
     ]
    },
    {
     "data": {
      "application/vnd.jupyter.widget-view+json": {
       "model_id": "6f01f53cda5748fab4752f8e1c34474d",
       "version_major": 2,
       "version_minor": 0
      },
      "text/plain": [
       "HBox(children=(FloatProgress(value=0.0, description='Downloading', max=456318.0, style=ProgressStyle(descripti…"
      ]
     },
     "metadata": {},
     "output_type": "display_data"
    },
    {
     "name": "stdout",
     "output_type": "stream",
     "text": [
      "\n"
     ]
    },
    {
     "data": {
      "application/vnd.jupyter.widget-view+json": {
       "model_id": "69917d1ceccc466abbb37a7c65a0a2d4",
       "version_major": 2,
       "version_minor": 0
      },
      "text/plain": [
       "HBox(children=(FloatProgress(value=0.0, description='Downloading', max=1355256.0, style=ProgressStyle(descript…"
      ]
     },
     "metadata": {},
     "output_type": "display_data"
    },
    {
     "name": "stdout",
     "output_type": "stream",
     "text": [
      "\n"
     ]
    },
    {
     "data": {
      "application/vnd.jupyter.widget-view+json": {
       "model_id": "c4cab7cf977a4066b3b34a37dda9f243",
       "version_major": 2,
       "version_minor": 0
      },
      "text/plain": [
       "HBox(children=(FloatProgress(value=0.0, description='Downloading', max=718.0, style=ProgressStyle(description_…"
      ]
     },
     "metadata": {},
     "output_type": "display_data"
    },
    {
     "name": "stdout",
     "output_type": "stream",
     "text": [
      "\n"
     ]
    },
    {
     "data": {
      "application/vnd.jupyter.widget-view+json": {
       "model_id": "5051bb53e855432ba388fc826bfbe4fc",
       "version_major": 2,
       "version_minor": 0
      },
      "text/plain": [
       "HBox(children=(FloatProgress(value=0.0, description='Downloading', max=1419628976.0, style=ProgressStyle(descr…"
      ]
     },
     "metadata": {},
     "output_type": "display_data"
    },
    {
     "name": "stdout",
     "output_type": "stream",
     "text": [
      "\n"
     ]
    },
    {
     "name": "stderr",
     "output_type": "stream",
     "text": [
      "All model checkpoint layers were used when initializing TFGPT2LMHeadModel.\n",
      "\n",
      "All the layers of TFGPT2LMHeadModel were initialized from the model checkpoint at gpt2-medium.\n",
      "If your task is similar to the task the model of the checkpoint was trained on, you can already use TFGPT2LMHeadModel for predictions without further training.\n"
     ]
    }
   ],
   "source": [
    "# get transformers\n",
    "from transformers import TFGPT2LMHeadModel, GPT2Tokenizer\n",
    "\n",
    "tokenizer = GPT2Tokenizer.from_pretrained(\"gpt2-medium\")\n",
    "GPT2 = TFGPT2LMHeadModel.from_pretrained(\"gpt2-medium\", pad_token_id=tokenizer.eos_token_id)"
   ]
  },
  {
   "cell_type": "code",
   "execution_count": 61,
   "metadata": {
    "execution": {
     "iopub.execute_input": "2021-09-29T16:06:39.957859Z",
     "iopub.status.busy": "2021-09-29T16:06:39.957517Z",
     "iopub.status.idle": "2021-09-29T16:07:40.254759Z",
     "shell.execute_reply": "2021-09-29T16:07:40.253923Z",
     "shell.execute_reply.started": "2021-09-29T16:06:39.957825Z"
    }
   },
   "outputs": [
    {
     "name": "stdout",
     "output_type": "stream",
     "text": [
      "Output:\n",
      "----------------------------------------------------------------------------------------------------\n",
      "I don't know about you, but I'm not going to be able to afford to buy a new car.\n"
     ]
    }
   ],
   "source": [
    "MAX_LEN = 23\n",
    "input_sequence = \"I don't know about you, but\"\n",
    "\n",
    "# encode context the generation is conditioned on\n",
    "input_ids = tokenizer.encode(input_sequence, return_tensors='tf')\n",
    "# generate text until the output length (which includes the context length) reaches 50\n",
    "greedy_output = GPT2.generate(input_ids, max_length = MAX_LEN)\n",
    "\n",
    "print(\"Output:\\n\" + 100 * '-')\n",
    "print(tokenizer.decode(greedy_output[0], skip_special_tokens = True))"
   ]
  }
 ],
 "metadata": {
  "kernelspec": {
   "display_name": "Python 3",
   "language": "python",
   "name": "python3"
  },
  "language_info": {
   "codemirror_mode": {
    "name": "ipython",
    "version": 3
   },
   "file_extension": ".py",
   "mimetype": "text/x-python",
   "name": "python",
   "nbconvert_exporter": "python",
   "pygments_lexer": "ipython3",
   "version": "3.7.6"
  }
 },
 "nbformat": 4,
 "nbformat_minor": 4
}
